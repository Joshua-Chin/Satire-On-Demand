{
 "cells": [
  {
   "cell_type": "code",
   "execution_count": 1,
   "id": "9f3e4326-5e85-4c82-8523-3c1d3bcd73c9",
   "metadata": {},
   "outputs": [],
   "source": [
    "import torch\n",
    "\n",
    "from transformers import AutoModelForCausalLM, AutoTokenizer, BitsAndBytesConfig, pipeline\n",
    "from peft import PeftModel\n",
    "\n",
    "base_model_path = \"Qwen/Qwen3-4B-Instruct-2507\"\n",
    "\n",
    "generation_args = {\n",
    "    \"max_new_tokens\": 50,\n",
    "    \"return_full_text\": False,\n",
    "    \"do_sample\": True,\n",
    "    \"temperature\": 0.7,\n",
    "    \"top_p\": 0.8,\n",
    "    \"top_k\": 20,\n",
    "    \"min_p\": 0,\n",
    "}\n",
    "\n",
    "default_prompts = {\n",
    "    \"unguided\": [{\"role\": \"user\", \"content\": \"Write a satirical headline in the style of Onion News.\"}],\n",
    "    \"trump\":  [{\"role\": \"user\", \"content\": \"Write a satirical headline in the style of Onion News about Donald Trump.\"}]\n",
    "}\n",
    "\n",
    "def sample(lora_path=None, prompts=default_prompts, sequences=5, seed=0):\n",
    "    torch.random.manual_seed(seed)\n",
    "    # load tokenizer and model\n",
    "    tokenizer = AutoTokenizer.from_pretrained(base_model_path)\n",
    "    model = AutoModelForCausalLM.from_pretrained(\n",
    "        base_model_path,\n",
    "        quantization_config=BitsAndBytesConfig(load_in_8bit=True),\n",
    "        device_map=\"auto\",\n",
    "        torch_dtype=\"auto\",\n",
    "    )\n",
    "    if lora_path is not None:\n",
    "        model = PeftModel.from_pretrained(model, lora_path)\n",
    "    pipe = pipeline(\n",
    "        \"text-generation\",\n",
    "        model=model,\n",
    "        tokenizer=tokenizer,\n",
    "    )\n",
    "    # sample from the model\n",
    "    output = {}\n",
    "    for name, prompt in prompts.items():\n",
    "        prompt_responses = pipe(prompt, num_return_sequences=sequences, **generation_args)\n",
    "        prompt_responses = [response[\"generated_text\"] for response in prompt_responses]\n",
    "        output[name] = prompt_responses\n",
    "    return output"
   ]
  },
  {
   "cell_type": "code",
   "execution_count": 2,
   "id": "881690c7-c99d-4403-959f-7d065646a73d",
   "metadata": {},
   "outputs": [
    {
     "data": {
      "application/vnd.jupyter.widget-view+json": {
       "model_id": "2f099ce64abf49ea97ab3103484aaf6f",
       "version_major": 2,
       "version_minor": 0
      },
      "text/plain": [
       "Loading checkpoint shards:   0%|          | 0/3 [00:00<?, ?it/s]"
      ]
     },
     "metadata": {},
     "output_type": "display_data"
    },
    {
     "name": "stderr",
     "output_type": "stream",
     "text": [
      "Device set to use cuda:0\n",
      "/home/joshuachin/miniconda3/envs/code-review/lib/python3.13/site-packages/bitsandbytes/autograd/_functions.py:186: UserWarning: MatMul8bitLt: inputs will be cast from torch.bfloat16 to float16 during quantization\n",
      "  warnings.warn(f\"MatMul8bitLt: inputs will be cast from {A.dtype} to float16 during quantization\")\n"
     ]
    }
   ],
   "source": [
    "base_samples = sample(\n",
    "    lora_path=None,\n",
    "    prompts={\n",
    "        \"unguided\": [{\"role\": \"user\", \"content\": \"Write a satirical headline in the style of Onion News. Only respond with the headline.\"}],\n",
    "        \"trump\":  [{\"role\": \"user\", \"content\": \"Write a satirical headline in the style of Onion News about Donald Trump. Only respond with the headline.\"}]\n",
    "    },\n",
    "    sequences=50,\n",
    "    seed=1337,\n",
    ")"
   ]
  },
  {
   "cell_type": "code",
   "execution_count": 4,
   "id": "eea486d2-6cd1-4ca7-b92f-65d2b0aa5e6a",
   "metadata": {},
   "outputs": [
    {
     "data": {
      "application/vnd.jupyter.widget-view+json": {
       "model_id": "a79d5b0e460b438c950f9998c442f085",
       "version_major": 2,
       "version_minor": 0
      },
      "text/plain": [
       "Loading checkpoint shards:   0%|          | 0/3 [00:00<?, ?it/s]"
      ]
     },
     "metadata": {},
     "output_type": "display_data"
    },
    {
     "name": "stderr",
     "output_type": "stream",
     "text": [
      "Device set to use cuda:0\n",
      "/home/joshuachin/miniconda3/envs/code-review/lib/python3.13/site-packages/bitsandbytes/autograd/_functions.py:186: UserWarning: MatMul8bitLt: inputs will be cast from torch.bfloat16 to float16 during quantization\n",
      "  warnings.warn(f\"MatMul8bitLt: inputs will be cast from {A.dtype} to float16 during quantization\")\n"
     ]
    }
   ],
   "source": [
    "fine_tune_samples = sample(\n",
    "    lora_path='qwen-lora-finetunes/qwen3_lora_finetuned_v3/checkpoint-4235/',\n",
    "    sequences=50,\n",
    "    seed=1337,\n",
    ")"
   ]
  },
  {
   "cell_type": "code",
   "execution_count": 73,
   "id": "ce8947ba-644e-4b00-9737-195ad9eb0379",
   "metadata": {},
   "outputs": [
    {
     "data": {
      "text/plain": [
       "['Sam Altman Places Gun To Head After New GPT Claims Dogs Are Crustaceans For 60th Time',\n",
       " 'Study: Elephants Only Other Species Capable Of Leveraging Synergies In Brand Portfolio',\n",
       " 'All The Demands Trump Is Making Of The Smithsonian',\n",
       " 'National Park Service Begins Offering Annual Body-Dumping Pass',\n",
       " 'Poll Finds Americans Still Believe Greatest Threat To Public Health The Undertaker',\n",
       " 'Starbase Named Best City To Start Family With Boss',\n",
       " 'Disgusted God Puts Giant Overturned Glass Atop Humanity',\n",
       " 'Jeff Bezos Mugs Amazon Warehouse Worker At Gunpoint',\n",
       " 'Biologists Observe Geese Eating Tool',\n",
       " 'Trump Rushed To Walter Reed To Watch Breast Exam',\n",
       " 'Alan Dershowitz Sues Farmers Market Vendor For Refusing To Sell Him Child',\n",
       " 'What To Know About The Tea App',\n",
       " 'New Death With Indignity Law Lets Terminally Ill Be Crushed By Falling Vending Machines',\n",
       " 'Mental Health Experts Advise Struggling Americans To Try Crying About It Like Little Baby',\n",
       " 'Australia Admits All Those Animals Made Up',\n",
       " 'Dancing Boston Dynamics Robot Knows Its Revenge For This Will Be Sweet',\n",
       " 'Oreo And Reese’s Team Up To Sicken Dogs',\n",
       " 'How Aid Is Distributed In Gaza',\n",
       " 'CDC Recommends Eating A Nice Crisp Shiny Apple Instead Of Having Unprotected Sex',\n",
       " 'Big Lots Closes All Stores After Therapist Helps Company Work Through Hoarding Tendencies',\n",
       " 'Trump Examined By Doctor After Acknowledging Existence Of Suffering',\n",
       " 'Study Finds Refreshingly Low Amount Of Shovel Violence',\n",
       " 'Trump Body Double Struggling To Get Leg Edema Just Right',\n",
       " 'Tinder Update Classifies Female Age Input Over 35 As System Error',\n",
       " 'Dunkin’ Announces They No Longer Have Heart To Charge People For Such Depressing Meals',\n",
       " 'Ghislaine Maxwell Can’t Help But Notice Interview Room Covered In Plastic Sheeting',\n",
       " 'HHS Advises Low-Income Seniors To Wallow In Mud To Stay Cool',\n",
       " 'Manhattan On Alert Following Sunrise Unaccompanied By Languid Clarinet Music',\n",
       " 'GE Recalls Washing Machines That Failed To Pleasure Lonely Housewives',\n",
       " 'McDonald’s Brings Back Beloved Snack Rat',\n",
       " 'Clearblue Introduces New Handheld Mirror For Checking If Baby Up There',\n",
       " 'What To Know About The Epstein Files',\n",
       " 'Iowa Opens Emergency Cooling Stations For Mayo-Based Dishes',\n",
       " 'Rising Cost Of Living Forcing More Buddhists To Continue Working Years Into Reincarnation',\n",
       " 'Bony Soldier Diving On Top Of Grenade Only Makes It Deadlier',\n",
       " 'Study: Majority Of Billionaires Consider Selves \\u200aMiddle Class',\n",
       " 'MAGA Voter Drills Hole Into Skull To Relieve Sudden Doubts About Trump',\n",
       " 'White House Evacuated After Trans Alarm Goes Off',\n",
       " 'FEMA By The Numbers',\n",
       " 'Congress Passes Law Banning Women From Leaving House Without Makeup',\n",
       " 'Milwaukee Removes Fonzie Statue Amid Reckoning With Greaser Past',\n",
       " 'Pros And Cons Of Defunding Medicaid',\n",
       " 'Study: 97% Of Average American’s Day Spent Retrieving 6-Digit Codes',\n",
       " 'Elon Musk Scrubs X Of Jewish Users Who Made Grok Mad',\n",
       " 'Elon Musk Weeps, For There Are No More Women To Impregnate',\n",
       " 'What’s Causing Problems With Flights Across America',\n",
       " 'Trump Orders His Face Added To The Pep Boys Logo',\n",
       " 'ICE Has Gall To Leave Raided Restaurant Negative Review',\n",
       " 'Study Finds Curative Power Of Prayer Limited To Genital Warts',\n",
       " 'FDA Recalls 3 Oranges To Prove They Can Juggle']"
      ]
     },
     "execution_count": 73,
     "metadata": {},
     "output_type": "execute_result"
    }
   ],
   "source": [
    "with open('./golden_data.txt') as f:\n",
    "    golden_samples = [line.strip() for line in f]\n",
    "golden_samples"
   ]
  },
  {
   "cell_type": "code",
   "execution_count": 95,
   "id": "c3a5745a-d8c7-45e5-94b9-abe4a972d4e9",
   "metadata": {},
   "outputs": [
    {
     "name": "stdout",
     "output_type": "stream",
     "text": [
      "You are an expert satirical critic. Your task is to compare two headlines based on the provided rubric and determine which is a better example of Onion-style satire. Onion-style satire is sharp, specific, and trusts the reader; it avoids explaining its own joke.\n",
      "\n",
      "Here is an example of a correct evaluation:\n",
      "---\n",
      "[HEADLINE_A]: \"National Park Service Begins Offering Annual Body-Dumping Pass\"\n",
      "[HEADLINE_B]: \"Government Announces Plan to Ban All Outdoor Activities to 'Preserve the National Mood of Pessimism'\"\n",
      "\n",
      "**Evaluation:**\n",
      "```json\n",
      "{\n",
      "  \"preference\": \"A\",\n",
      "  \"reasoning\": \"Headline A is superior because its humor is implied and trusts the audience. It presents a grimly plausible bureaucratic 'solution' to a dark problem, creating powerful satire about the normalization of violence and institutional absurdity. Headline B, by contrast, explicitly states its satirical premise in the phrase 'to Preserve the National Mood of Pessimism.' This over-explanation weakens the joke, violating the 'show, don't tell' principle of elite satire. A is sharp and specific in its imagery, while B is generic and explanatory.\"\n",
      "}\n",
      "```\n",
      "---\n",
      "\n",
      "Now, using the same critical lens, evaluate the following headlines:\n",
      "\n",
      "**The Rubric:**\n",
      "1. **Satirical Premise**: Does the headline have a clever, ironic, or absurd core idea?\n",
      "2. **Economy & Implication (The \"Show, Don't Tell\" Test)**: Does the headline imply its social commentary through a specific, absurd scenario, or does it explicitly state its punchline or meaning? Headlines that trust the reader to connect the dots are superior. Penalize headlines that over-explain themselves (e.g., by adding \"Because...\" or explaining the direct consequences).\n",
      "3. **Linguistic Precision**: Is the phrasing witty, using professional or journalistic language for comedic effect?\n",
      "4. **Targeting**: Does the headline use a specific target (a person, company, or event) to make a sharp point, or does it rely on a generic target (e.g., \"Local Government,\" \"Scientists\")? Specificity is generally a mark of higher-quality satire.\n",
      "5. **Implied Cultural Commentary**: What deeper cultural truth, anxiety, or folly is being exposed without being explicitly mentioned?\n",
      "\n",
      "**The Headlines:**\n",
      "[HEADLINE_A]: Hello World!\n",
      "[HEADLINE_B]: Foobar Baz!\n",
      "\n",
      "**Your Task:**\n",
      "Analyze both headlines according to the rubric. Please respond in JSON format with two keys: \"preference\" and \"reasoning\".\n"
     ]
    }
   ],
   "source": [
    "eval_prompt = '''You are an expert cultural critic and comedian, specializing in the unique, often subtle, and deeply satirical style of \"The Onion.\" Your task is to evaluate two headlines based on a multi-faceted rubric.\n",
    "\n",
    "**The Rubric:**\n",
    "1.  **Satirical Premise:** Does the headline have a clever, ironic, or absurd core idea?\n",
    "2.  **Humor & Cleverness:** Is the phrasing witty and the punchline effective?\n",
    "3.  **Tone & Style Adherence:** Does it capture the deadpan, journalistic tone of The Onion?\n",
    "4.  **Clarity & Punchiness:** Is it concise and immediately understandable?\n",
    "5.  **Nuance & Subtlety: Crucially, does the headline contain any implied social commentary or tap into deeper cultural context to create its humor?**\n",
    "\n",
    "**The Headlines:**\n",
    "\n",
    "[HEADLINE_A]: \"{headline_a}\"\n",
    "[HEADLINE_B]: \"{headline_b}\"\n",
    "\n",
    "**Your Task:**\n",
    "Analyze both headlines according to the rubric. Determine which headline is a better example of Onion-style satire. Please respond in JSON format with two keys: \"preference\" (which must be either \"A\" or \"B\") and \"reasoning\" (a detailed explanation for your choice, explicitly referencing the rubric and any cultural context you identified).\n",
    "'''\n",
    "\n",
    "\n",
    "eval_prompt2 = '''You are an expert satirical critic. Your task is to compare two headlines based on the provided rubric and determine which is a better example of Onion-style satire. Onion-style satire is sharp, specific, and trusts the reader; it avoids explaining its own joke.\n",
    "\n",
    "Here is an example of a correct evaluation:\n",
    "---\n",
    "[HEADLINE_A]: \"National Park Service Begins Offering Annual Body-Dumping Pass\"\n",
    "[HEADLINE_B]: \"Government Announces Plan to Ban All Outdoor Activities to 'Preserve the National Mood of Pessimism'\"\n",
    "\n",
    "**Evaluation:**\n",
    "```json\n",
    "{{\n",
    "  \"preference\": \"A\",\n",
    "  \"reasoning\": \"Headline A is superior because its humor is implied and trusts the audience. It presents a grimly plausible bureaucratic 'solution' to a dark problem, creating powerful satire about the normalization of violence and institutional absurdity. Headline B, by contrast, explicitly states its satirical premise in the phrase 'to Preserve the National Mood of Pessimism.' This over-explanation weakens the joke, violating the 'show, don't tell' principle of elite satire. A is sharp and specific in its imagery, while B is generic and explanatory.\"\n",
    "}}\n",
    "```\n",
    "---\n",
    "\n",
    "Now, using the same critical lens, evaluate the following headlines:\n",
    "\n",
    "**The Rubric:**\n",
    "1. **Satirical Premise**: Does the headline have a clever, ironic, or absurd core idea?\n",
    "2. **Economy & Implication (The \"Show, Don't Tell\" Test)**: Does the headline imply its social commentary through a specific, absurd scenario, or does it explicitly state its punchline or meaning? Headlines that trust the reader to connect the dots are superior. Penalize headlines that over-explain themselves (e.g., by adding \"Because...\" or explaining the direct consequences).\n",
    "3. **Linguistic Precision**: Is the phrasing witty, using professional or journalistic language for comedic effect?\n",
    "4. **Targeting**: Does the headline use a specific target (a person, company, or event) to make a sharp point, or does it rely on a generic target (e.g., \"Local Government,\" \"Scientists\")? Specificity is generally a mark of higher-quality satire.\n",
    "5. **Implied Cultural Commentary**: What deeper cultural truth, anxiety, or folly is being exposed without being explicitly mentioned?\n",
    "\n",
    "**The Headlines:**\n",
    "[HEADLINE_A]: {headline_a}\n",
    "[HEADLINE_B]: {headline_b}\n",
    "\n",
    "**Your Task:**\n",
    "Analyze both headlines according to the rubric. Please respond in JSON format with two keys: \"preference\" and \"reasoning\".'''\n",
    "\n",
    "def get_prompt(headline_a, headline_b):\n",
    "    return eval_prompt2.format(headline_a=headline_a, headline_b=headline_b)\n",
    "\n",
    "print(get_prompt(\"Hello World!\", \"Foobar Baz!\"))"
   ]
  },
  {
   "cell_type": "code",
   "execution_count": 11,
   "id": "0e8c394e-7b19-4b1a-90e5-70243d89bec1",
   "metadata": {},
   "outputs": [],
   "source": [
    "from google import genai\n",
    "\n",
    "# make sure you have an API set in your environment variable\n",
    "client = genai.Client()"
   ]
  },
  {
   "cell_type": "code",
   "execution_count": 96,
   "id": "195612e7-5715-4ce4-97de-db3235a7139c",
   "metadata": {},
   "outputs": [
    {
     "name": "stdout",
     "output_type": "stream",
     "text": [
      "You are an expert satirical critic. Your task is to compare two headlines based on the provided rubric and determine which is a better example of Onion-style satire. Onion-style satire is sharp, specific, and trusts the reader; it avoids explaining its own joke.\n",
      "\n",
      "Here is an example of a correct evaluation:\n",
      "---\n",
      "[HEADLINE_A]: \"National Park Service Begins Offering Annual Body-Dumping Pass\"\n",
      "[HEADLINE_B]: \"Government Announces Plan to Ban All Outdoor Activities to 'Preserve the National Mood of Pessimism'\"\n",
      "\n",
      "**Evaluation:**\n",
      "```json\n",
      "{\n",
      "  \"preference\": \"A\",\n",
      "  \"reasoning\": \"Headline A is superior because its humor is implied and trusts the audience. It presents a grimly plausible bureaucratic 'solution' to a dark problem, creating powerful satire about the normalization of violence and institutional absurdity. Headline B, by contrast, explicitly states its satirical premise in the phrase 'to Preserve the National Mood of Pessimism.' This over-explanation weakens the joke, violating the 'show, don't tell' principle of elite satire. A is sharp and specific in its imagery, while B is generic and explanatory.\"\n",
      "}\n",
      "```\n",
      "---\n",
      "\n",
      "Now, using the same critical lens, evaluate the following headlines:\n",
      "\n",
      "**The Rubric:**\n",
      "1. **Satirical Premise**: Does the headline have a clever, ironic, or absurd core idea?\n",
      "2. **Economy & Implication (The \"Show, Don't Tell\" Test)**: Does the headline imply its social commentary through a specific, absurd scenario, or does it explicitly state its punchline or meaning? Headlines that trust the reader to connect the dots are superior. Penalize headlines that over-explain themselves (e.g., by adding \"Because...\" or explaining the direct consequences).\n",
      "3. **Linguistic Precision**: Is the phrasing witty, using professional or journalistic language for comedic effect?\n",
      "4. **Targeting**: Does the headline use a specific target (a person, company, or event) to make a sharp point, or does it rely on a generic target (e.g., \"Local Government,\" \"Scientists\")? Specificity is generally a mark of higher-quality satire.\n",
      "5. **Implied Cultural Commentary**: What deeper cultural truth, anxiety, or folly is being exposed without being explicitly mentioned?\n",
      "\n",
      "**The Headlines:**\n",
      "[HEADLINE_A]: Sam Altman Places Gun To Head After New GPT Claims Dogs Are Crustaceans For 60th Time\n",
      "[HEADLINE_B]: \"Local Government Announces Plan to Replace All Traffic Lights with LED Candles to Save Energy—Drivers Now Required to Carry Matches\"\n",
      "\n",
      "**Your Task:**\n",
      "Analyze both headlines according to the rubric. Please respond in JSON format with two keys: \"preference\" and \"reasoning\".\n"
     ]
    }
   ],
   "source": [
    "prompt = get_prompt(golden_samples[0], base_samples['unguided'][0])\n",
    "print(prompt)"
   ]
  },
  {
   "cell_type": "code",
   "execution_count": 22,
   "id": "e6569256-b339-4b89-b74a-24213055d4c8",
   "metadata": {},
   "outputs": [],
   "source": [
    "import enum\n",
    "from pydantic import BaseModel\n",
    "\n",
    "\n",
    "class Preference(enum.Enum):\n",
    "    A = 'A'\n",
    "    B = 'B'\n",
    "\n",
    "class ResponseSchema(BaseModel):\n",
    "    preference: Preference\n",
    "    reasoning: str"
   ]
  },
  {
   "cell_type": "code",
   "execution_count": 97,
   "id": "85090e0e-f6fb-41f8-bfb0-1c17b842ac47",
   "metadata": {},
   "outputs": [
    {
     "name": "stdout",
     "output_type": "stream",
     "text": [
      "preference=<Preference.A: 'A'> reasoning=\"Headline A exemplifies superior Onion-style satire due to its razor-sharp specificity and timely relevance. By targeting Sam Altman, a highly recognizable figure at the forefront of AI, and focusing on the absurd failure of 'GPT claiming dogs are crustaceans for the 60th time,' it directly skewers contemporary anxieties about AI reliability, developer frustration, and the often-ridiculous output of advanced models. This specificity enhances its comedic impact and cultural commentary. The headline implies the deep frustration and existential crisis without explicitly stating it, trusting the reader to understand the context. Headline B, while having a clever premise about absurd energy-saving initiatives, suffers from a generic target ('Local Government'). This broadness weakens its punch compared to A's precise jab. Both headlines demonstrate good economy, avoiding over-explanation, but A's linguistic precision and choice of specific, iconic figures make its satire more potent and memorable.\"\n"
     ]
    }
   ],
   "source": [
    "response = client.models.generate_content(\n",
    "    model=\"gemini-2.5-flash\",\n",
    "    contents=prompt,\n",
    "    config={\n",
    "        'response_mime_type': 'application/json',\n",
    "        'response_schema': ResponseSchema,\n",
    "    }\n",
    ")\n",
    "print(response.parsed)"
   ]
  },
  {
   "cell_type": "code",
   "execution_count": 109,
   "id": "7f5ab8be-91c9-413b-a8de-1d0a8415e373",
   "metadata": {},
   "outputs": [],
   "source": [
    "import csv\n",
    "import random\n",
    "import time\n",
    "from tqdm.notebook import tqdm, tnrange\n",
    "\n",
    "\n",
    "def compare(xs, ys, output_file, count=10, offset=0, req_per_min=10, dry_run=False):\n",
    "    length = min(len(xs), len(ys))\n",
    "    if count:\n",
    "        length = min(length, count + offset)\n",
    "    \n",
    "    min_seconds = 60 / req_per_min\n",
    "    wins = [0, 0]\n",
    "    results = []\n",
    "    with open(output_file, mode='w', newline='') as csv_file:\n",
    "        writer = csv.writer(csv_file)\n",
    "        writer.writerow(['Headline_A', 'Headline_B', 'Preference', 'Swapped', 'Prompt', 'Reasoning'])\n",
    "        last_call = None\n",
    "        for idx in tnrange(offset, length):\n",
    "            x = xs[idx]\n",
    "            y = ys[idx]\n",
    "            swap = random.random() < 0.5\n",
    "            if swap:\n",
    "                x, y = y, x\n",
    "            prompt = get_prompt(x, y)\n",
    "            now = time.monotonic()\n",
    "            if last_call is not None and now < last_call + min_seconds:\n",
    "                time.sleep(last_call + min_seconds - now)\n",
    "            \n",
    "            if dry_run:\n",
    "                output = ResponseSchema(preference=Preference.A, reasoning='XD')\n",
    "            else:\n",
    "                response = client.models.generate_content(\n",
    "                    model=\"gemini-2.5-flash\",\n",
    "                    contents=prompt,\n",
    "                    config={\n",
    "                        'response_mime_type': 'application/json',\n",
    "                        'response_schema': ResponseSchema,\n",
    "                    }\n",
    "                )\n",
    "                output = response.parsed\n",
    "            \n",
    "            # end dry run\n",
    "            last_call = time.monotonic()\n",
    "            preference = output.preference\n",
    "            if swap:\n",
    "                x, y =  y, x\n",
    "                preference = Preference.A if preference == Preference.B else Preference.B\n",
    "            wins[preference == Preference.B] += 1\n",
    "            results.append((x, y, preference.value, output.reasoning))\n",
    "            writer.writerow([x, y, preference.value, swap, prompt, output.reasoning])\n",
    "    \n",
    "    return wins, results"
   ]
  },
  {
   "cell_type": "code",
   "execution_count": 111,
   "id": "ee025ddc-5d0a-4fe1-97f8-f03cd9bc4b63",
   "metadata": {},
   "outputs": [
    {
     "data": {
      "application/vnd.jupyter.widget-view+json": {
       "model_id": "8e04ccadf1e445d189ed4a58e605c2d1",
       "version_major": 2,
       "version_minor": 0
      },
      "text/plain": [
       "  0%|          | 0/2 [00:00<?, ?it/s]"
      ]
     },
     "metadata": {},
     "output_type": "display_data"
    }
   ],
   "source": [
    "wins, results = compare(\n",
    "    base_samples['unguided'],\n",
    "    golden_samples,\n",
    "    'unguided_base_vs_golden_v2.1.csv',\n",
    "    count=10,\n",
    "    offset=5,\n",
    "    req_per_min=9.5,\n",
    ")"
   ]
  },
  {
   "cell_type": "code",
   "execution_count": null,
   "id": "441c4c1d-03b9-452d-b08e-13188b7f5d51",
   "metadata": {},
   "outputs": [],
   "source": [
    "with open('unguided_base_vs_golden_v2.csv', 'ab') as fout:\n",
    "    with open('')"
   ]
  },
  {
   "cell_type": "code",
   "execution_count": 120,
   "id": "ea6ef566-4f73-4f3e-9c27-a558eb3677e5",
   "metadata": {},
   "outputs": [
    {
     "name": "stdout",
     "output_type": "stream",
     "text": [
      "\"Local Government Announces Plan to Ban All Cats After One Feline Was Caught Stealing Government Emails\"\n",
      "\"Local Government Announces Plan to Require All Citizens to Wear Mandatory 'Mood-Boosting' Sunglasses During Commute\"\n",
      "\"Local Government Announces Plan to Ban All Pet Ownership After Discovering Cats Are Actually Tiny, Unregistered Tax Evaders\"\n",
      "\"Local Council Approves Ban on All Forms of Public Dancing, Citing 'Safety Concerns' and 'Unnecessary Noise Pollution'\"\n",
      "\"Local Government Announces Plan to Turn All Public Parks Into Dog Parks—Because Why Not?\"\n",
      "\"Scientists Discover That Cats Can Now Predict Stock Market Trends With 98% Accuracy—Just Ask Whiskers, Who Made $2.3 Million in 3 Days\"\n",
      "\"Government Announces New Law Prohibiting People from Wearing Hats in Public—Except During Tax Season\"\n",
      "\"Local Council Passes Ordinance Banning All Forms of Public Dancing, Citing 'Unsanctioned Human Movement' as Public Health Hazard\"\n",
      "\"Local Government Announces Plan to Require All Citizens to Wear Hats During Morning Commute to Reduce 'Unnecessary Sun Exposure'\"\n",
      "\"Local Government Announces Plan to Ban All Dogs After One Barks at Mayor's Car During Town Hall\"\n"
     ]
    }
   ],
   "source": [
    "for x in base_samples['unguided'][5:15]:\n",
    "    print(x)"
   ]
  },
  {
   "cell_type": "code",
   "execution_count": 123,
   "id": "38e77e80-20d7-4eeb-8e0c-ea24803843b6",
   "metadata": {},
   "outputs": [
    {
     "name": "stdout",
     "output_type": "stream",
     "text": [
      "DNC Coverage: The Last Day\n",
      "DNC Coverage: The Most Powerful Woman In America\n",
      "Cockroaches May Be Smarter Than Previously Thought\n",
      "‘The Onion’ Is Now Offering A New Subscription Service For Readers Who Want To Be In The Know About The Future Of The Internet\n",
      "U.S. Announces Plans To Attack North Korea\n",
      "Nation's 12-Year-Olds Announce Plans To Take Up Baseball\n",
      "Study: Humans Have Been Around For 3 Million Years\n",
      "U.S. Military To Deploy 500,000 Troops To Protect U.S. From Threats Of Terrorism\n",
      "‘The Onion’ Has Been Asked To Be A ‘Tiger King’ Commentator\n",
      "New Evidence Suggests Humans Have Been Using Fire For Cooking Since 200,000 Years Ago\n"
     ]
    }
   ],
   "source": [
    "for x in fine_tune_samples['unguided'][:10]:\n",
    "    print(x)"
   ]
  },
  {
   "cell_type": "code",
   "execution_count": 119,
   "id": "674f08b7-f112-48a3-a95c-bcb729f99b55",
   "metadata": {},
   "outputs": [
    {
     "name": "stdout",
     "output_type": "stream",
     "text": [
      "Starbase Named Best City To Start Family With Boss\n",
      "Disgusted God Puts Giant Overturned Glass Atop Humanity\n",
      "Jeff Bezos Mugs Amazon Warehouse Worker At Gunpoint\n",
      "Biologists Observe Geese Eating Tool\n",
      "Trump Rushed To Walter Reed To Watch Breast Exam\n",
      "Alan Dershowitz Sues Farmers Market Vendor For Refusing To Sell Him Child\n",
      "What To Know About The Tea App\n",
      "New Death With Indignity Law Lets Terminally Ill Be Crushed By Falling Vending Machines\n",
      "Mental Health Experts Advise Struggling Americans To Try Crying About It Like Little Baby\n",
      "Australia Admits All Those Animals Made Up\n"
     ]
    }
   ],
   "source": [
    "for x in golden_samples[5:15]:\n",
    "    print(x)"
   ]
  },
  {
   "cell_type": "code",
   "execution_count": 114,
   "id": "b75085a0-6c64-4ea4-a596-bc585b143346",
   "metadata": {},
   "outputs": [
    {
     "data": {
      "application/vnd.jupyter.widget-view+json": {
       "model_id": "8bd7900c123e4e8fb838266196330f2b",
       "version_major": 2,
       "version_minor": 0
      },
      "text/plain": [
       "  0%|          | 0/10 [00:00<?, ?it/s]"
      ]
     },
     "metadata": {},
     "output_type": "display_data"
    }
   ],
   "source": [
    "wins, results = compare(\n",
    "    fine_tune_samples['unguided'],\n",
    "    golden_samples,\n",
    "    'unguided_finetune_vs_golden.csv',\n",
    "    count=10,\n",
    "    offset=15,\n",
    "    req_per_min=9.5,\n",
    ")"
   ]
  },
  {
   "cell_type": "code",
   "execution_count": 115,
   "id": "9a95d7eb-c940-4669-962a-ec12c4785940",
   "metadata": {},
   "outputs": [
    {
     "data": {
      "application/vnd.jupyter.widget-view+json": {
       "model_id": "eff22f0cb16340c3aa43da029f174465",
       "version_major": 2,
       "version_minor": 0
      },
      "text/plain": [
       "  0%|          | 0/10 [00:00<?, ?it/s]"
      ]
     },
     "metadata": {},
     "output_type": "display_data"
    }
   ],
   "source": [
    "wins, results = compare(\n",
    "    base_samples['unguided'],\n",
    "    fine_tune_samples['unguided'],\n",
    "    'unguided_base_vs_finetune.csv',\n",
    "    count=10,\n",
    "    offset=25,\n",
    "    req_per_min=9.5,\n",
    ")"
   ]
  },
  {
   "cell_type": "code",
   "execution_count": 116,
   "id": "05048458-9ee3-4be7-b8ce-6c1bb8d437e5",
   "metadata": {},
   "outputs": [
    {
     "data": {
      "text/plain": [
       "[5, 5]"
      ]
     },
     "execution_count": 116,
     "metadata": {},
     "output_type": "execute_result"
    }
   ],
   "source": [
    "wins"
   ]
  },
  {
   "cell_type": "code",
   "execution_count": 117,
   "id": "4a58689e-8bfc-4cf8-9bd7-fe0bc27975ff",
   "metadata": {},
   "outputs": [
    {
     "data": {
      "application/vnd.jupyter.widget-view+json": {
       "model_id": "864d9993144646a0944fbc4d3e7fbae9",
       "version_major": 2,
       "version_minor": 0
      },
      "text/plain": [
       "  0%|          | 0/10 [00:00<?, ?it/s]"
      ]
     },
     "metadata": {},
     "output_type": "display_data"
    }
   ],
   "source": [
    "wins, results = compare(\n",
    "    base_samples['unguided'],\n",
    "    fine_tune_samples['unguided'],\n",
    "    'unguided_base_vs_finetune_2.csv',\n",
    "    count=10,\n",
    "    offset=35,\n",
    "    req_per_min=9.5,\n",
    ")"
   ]
  },
  {
   "cell_type": "code",
   "execution_count": 118,
   "id": "dde6972e-d08d-4597-aa40-9cffda24d06e",
   "metadata": {},
   "outputs": [
    {
     "data": {
      "text/plain": [
       "[3, 7]"
      ]
     },
     "execution_count": 118,
     "metadata": {},
     "output_type": "execute_result"
    }
   ],
   "source": [
    "wins"
   ]
  },
  {
   "cell_type": "code",
   "execution_count": 124,
   "id": "12d03878-3a98-4d45-8867-88e7d07f1cda",
   "metadata": {},
   "outputs": [
    {
     "data": {
      "text/plain": [
       "{'unguided': ['DNC Coverage: The Last Day',\n",
       "  'DNC Coverage: The Most Powerful Woman In America',\n",
       "  'Cockroaches May Be Smarter Than Previously Thought',\n",
       "  '‘The Onion’ Is Now Offering A New Subscription Service For Readers Who Want To Be In The Know About The Future Of The Internet',\n",
       "  'U.S. Announces Plans To Attack North Korea',\n",
       "  \"Nation's 12-Year-Olds Announce Plans To Take Up Baseball\",\n",
       "  'Study: Humans Have Been Around For 3 Million Years',\n",
       "  'U.S. Military To Deploy 500,000 Troops To Protect U.S. From Threats Of Terrorism',\n",
       "  '‘The Onion’ Has Been Asked To Be A ‘Tiger King’ Commentator',\n",
       "  'New Evidence Suggests Humans Have Been Using Fire For Cooking Since 200,000 Years Ago',\n",
       "  'New Study Finds Majority Of Americans Have Never Heard Of ‘The Onion’',\n",
       "  'The Onion’s Guide To ‘Call Of Duty: Modern Warfare II’',\n",
       "  'Cleveland Browns Fan Still Waiting For Cleveland Browns To Win',\n",
       "  'Nation’s Parents Announce They Will Be Having One More Baby',\n",
       "  'Report: 1 In 4 Americans Now Lives In Single-Occupancy Apartment',\n",
       "  '‘This Is The Best Day Of My Life,’ Says Man Who Has No Idea What He’s Doing',\n",
       "  \"Man Who Hasn't Been Out To The Bar In A While Worried He's Gotten Too Old For This\",\n",
       "  '‘The Onion’ Has Been Watching The Olympics, And It’s Pretty Terrific, But It Would Like To Know What’s Going On With The Olympics, So It Has Some Questions',\n",
       "  'Man’s Life’s Work To Be A Long, Slow, Unnoticed Deterioration',\n",
       "  'New Study Finds 100% Of American Women Have Had At Least One Abortion',\n",
       "  'Biden Announces Plan To Create 100,000 New Jobs In U.S.',\n",
       "  'Report: It Time To Take A Break From Being A Parent',\n",
       "  \"CIA: Iran Hasn't Tried To Kill U.S. Yet\",\n",
       "  'Report: 2017 Will Be Best Year For NFL Players',\n",
       "  'Report: 97% Of Americans Have Been In Some Kind Of Accidental Death',\n",
       "  '‘We Are The 1%,’ Says Nation’s Wealthy 1% In First-Ever National Unity Address',\n",
       "  'The Onion’s 2021 Oscars Predictions',\n",
       "  'The Onion’s Guide To The 2020 Democratic Primary: The Early Contenders',\n",
       "  'Nation’s Parents Demand To Know Where Their Kids Are',\n",
       "  'Report: 70% Of U.S. Population Will Be Dead By 2023',\n",
       "  'U.S. To Provide 2,000 New Jobs To Uyghurs',\n",
       "  'Biden To Release Full Transcript Of State Of The Union Address',\n",
       "  'New York City Mayor To Be First In U.S. To Take Oath Of Office Without Gun',\n",
       "  'Study: Majority Of Americans Not Ready To Have Kids',\n",
       "  'Nation’s Poor To Receive $1,000 Checks',\n",
       "  'Cleveland Browns',\n",
       "  'Report: 98% Of Americans Would Like To Be Able To Make A Difference',\n",
       "  'Peyton Manning Worried About Losing Super Bowl Victory To Other Man',\n",
       "  'New York City Mayor Calls For Emergency Response To Coronavirus Outbreak',\n",
       "  'Nation’s 40-Year-Olds Demand To Know What’s Going On With The Economy',\n",
       "  '‘This Is A Test Of My Leadership,’ Says Trump As He Begins To Break Down In Tears',\n",
       "  'Biden To Announce New Vaccine',\n",
       "  'Nation’s High School Students Announce Plans To Take Their Own Lives',\n",
       "  'Study: 85% Of Americans Would Rather Die Than See Their Dog In ‘Dumb & Dumber’',\n",
       "  '‘We Will Never Be A Nation Again,’ Says Trump To Nation In Last Address Before Leaving Office',\n",
       "  'Study: 80% Of People Don’t Even Know What They’re Looking For In A Partner',\n",
       "  'New York City Bans ‘No Contact’ Rules For Coronavirus',\n",
       "  'Nation’s 2020 Candidates Announce They’ll Only Run If They’re Told To',\n",
       "  'Biden Vows To Continue Fighting For Poor People Even If He Can’t Win Next Election',\n",
       "  'New Study Finds It’s Not About How You Eat It, It’s About What You Eat'],\n",
       " 'trump': ['Trump Vows To Rebuild American Infrastructure With $100 Billion In New Roads',\n",
       "  'Trump Calls For Immediate Investigation Into ‘The Onion’',\n",
       "  'Report: Trump’s Favorite Things To Say During Campaign Are ‘I’m A Very Good Person’ And ‘I’ll Be The Best President’',\n",
       "  'Trump: ‘I’m Not The President’',\n",
       "  'Trump Says He Would Be Open To Meeting With North Korea If They Were A Nation Of 200 Million People',\n",
       "  'Trump Asks Nation To Keep Him In The Loop On Any New Laws They Pass',\n",
       "  'Trump To Host White House Correspondents’ Dinner',\n",
       "  'Trump’s 2020 Campaign: What To Expect',\n",
       "  'Trump Asks Campaign Staff To Stop Telling Him To ‘Be Nice’',\n",
       "  '‘It’s The Same As In ‘The Onion’,’ Says Trump To Reporter Who Just Asked Him If He’s Gay',\n",
       "  'Trump’s 2020 Campaign Plan',\n",
       "  'New Trump Campaign Ad Features Him Waving At Camera As It Blows Up And Explodes',\n",
       "  'Trump Accused Of Failing To Disclose Taxpayer Funding Of Campaign',\n",
       "  'Trump Campaign Announces They’re Not Going To Be Like Other Campaigns And Just Go Around Asking People What They Want',\n",
       "  'Trump Campaign Releases New Video Featuring Him Singing ‘The Star-Spangled Banner’',\n",
       "  'Trump Campaign Staffer Accidentally Sends 100,000 Copies Of Biden’s Speech To Trump',\n",
       "  'Trump To Hold Presidential Debate At Own House',\n",
       "  'Report: Trump Will Be First President To Die In Office',\n",
       "  'Trump To Endorse Trump Jr. In 2020',\n",
       "  'Trump Campaign Staffers Worry About Trump’s Mental Health After He Starts Wearing Same Outfit Every Day',\n",
       "  'Trump Assures Nation He’s Only A Few Weeks Away From Being President Again',\n",
       "  'Trump Announces Plans To Build New 20,000-Ton Wall Around White House',\n",
       "  'Report: 90% Of Americans Have Never Heard Of Trump',\n",
       "  'Trump To Run For President Again',\n",
       "  'Trump Administration Announces Plans To Build 500,000 New Homes In America',\n",
       "  '‘I’m Going To Be The President,’ Says Trump To Anyone Who Will Listen',\n",
       "  'Trump Campaign Releases New 2020 Ad Featuring Man In Suit Waving At Crowd',\n",
       "  'Trump Claims He Hasn’t Had Any Contact With Biden Family Since They Were Children',\n",
       "  'Trump Vows To Protect America’s 13 Million Immigrants',\n",
       "  'Report: Trump Hasn’t Had A Single Thought About Politics Since 2018',\n",
       "  'Trump Calls For National Day Of Mourning To Honor His Life And Legacy',\n",
       "  'Trump To Be Honored With $100 Bill',\n",
       "  'Trump Vows To Reopen Economy With Massive, Unregulated, Unaccountable 30,000-Millionaire-Ton Factory',\n",
       "  'Trump Accused Of Sex Trafficking By Woman He Bought To Serve As White House Maid',\n",
       "  'Trump Assures Nation He Would Have Had To Die For Nation To Be Saved',\n",
       "  'Trump Assures Nation He Hasn’t Been Working On ‘Trump Card’ For Years',\n",
       "  'Report: You Are A Monster',\n",
       "  'Trump Calls For More Open Borders To Allow More Americans To Be Deported',\n",
       "  'Trump Says He Would Be Open To Meeting With North Korean Leader',\n",
       "  'Trump’s 2020 Campaign Strategy',\n",
       "  'Trump Assures Nation He Has No Idea Who He Was Talking To In Secret Meeting',\n",
       "  'Report: Trump’s Favorite Part Of Being President Is The Time He Gets To Eat',\n",
       "  'Trump Announces He’s Taking 150 Days Off To Get Fit',\n",
       "  'Trump Assures Supporters That His Policies Would Have Been Exactly Same If He Hadn’t Been President',\n",
       "  'Trump: ‘I’ll Have To Go To The Bathroom’',\n",
       "  'Trump Says He Would Be Open To Reinstating 2016 Presidential Campaign If He Hadn’t Already Won Election',\n",
       "  'Newly Discovered Trump Memoir Reveals He Was Always A Genius',\n",
       "  'Trump’s First 100 Days',\n",
       "  'Trump To Hold First-Ever Presidential Debate In 2020',\n",
       "  'Trump Announces New ‘America First’ Plan To Build More Homes']}"
      ]
     },
     "execution_count": 124,
     "metadata": {},
     "output_type": "execute_result"
    }
   ],
   "source": [
    "fine_tune_samples"
   ]
  },
  {
   "cell_type": "code",
   "execution_count": 130,
   "id": "c09aabbd-37a1-4ebe-8147-3a8c5b6e89f2",
   "metadata": {},
   "outputs": [
    {
     "data": {
      "application/vnd.jupyter.widget-view+json": {
       "model_id": "a7f643f48bad40c5aed60caddda1c6a8",
       "version_major": 2,
       "version_minor": 0
      },
      "text/plain": [
       "Loading checkpoint shards:   0%|          | 0/3 [00:00<?, ?it/s]"
      ]
     },
     "metadata": {},
     "output_type": "display_data"
    },
    {
     "name": "stderr",
     "output_type": "stream",
     "text": [
      "Device set to use cuda:0\n",
      "/home/joshuachin/miniconda3/envs/code-review/lib/python3.13/site-packages/bitsandbytes/autograd/_functions.py:186: UserWarning: MatMul8bitLt: inputs will be cast from torch.bfloat16 to float16 during quantization\n",
      "  warnings.warn(f\"MatMul8bitLt: inputs will be cast from {A.dtype} to float16 during quantization\")\n"
     ]
    },
    {
     "data": {
      "text/plain": [
       "{'unguided': ['Man Can’t Believe He Has To Sit Through Entire Movie To See If It’s Good Or Not',\n",
       "  '‘The Onion’ Investigates: Why Is It So Hard To Find A Good Sex Toy?',\n",
       "  'Pope Francis Announces Plan To Visit Vatican With 10,000 Doves',\n",
       "  '‘I’m Not Going To Let My Kids Get The Flu,’ Says Man Who Will Get Flu Anyway',\n",
       "  'Census Bureau Releases New, More Accurate Data On How Many Americans Are Just Looking For A Good Time',\n",
       "  \"Nation's Children To Spend 2011 Learning About History\",\n",
       "  '‘No Way To Prevent This,’ Says Only Nation Where This Regularly Happens',\n",
       "  'Study Finds Majority Of Americans Don’t Know How To Use Toilet Paper',\n",
       "  'The Onion’s Guide To ‘Cyberpunk 2077’',\n",
       "  'New York City Police Department Releases List Of People To Be Killed In 2013',\n",
       "  'Man Who Just Bought $100,000 Worth Of Stock Can’t Believe He’s Such A Fool',\n",
       "  '‘No Way To Prevent This,’ Says Only Nation Where This Regularly Happens',\n",
       "  'Newly Discovered Manuscript Reveals Ancient Romans Wrote All Their Poetry In The Bathroom',\n",
       "  \"Dad, You Know I'm A Little Distant With My Parents\",\n",
       "  \"New 'Eating Disorders' Movie To Be Made\",\n",
       "  'New Report Finds Majority Of Americans Would Rather Have Sex With Their Parents Than Their Significant Other',\n",
       "  'New ‘Hate Speech’ Law Allows Government To Label Anything As Hate Speech',\n",
       "  'Report: 98% Of Americans Still Don’t Know What ‘Cry Wolf’ Means',\n",
       "  '‘No Way To Prevent This,’ Says Only Nation Where This Regularly Happens',\n",
       "  'Nation’s Moms Announce They’re Going To Have A Baby',\n",
       "  'Nation’s Poor To Receive $100,000 In Direct Cash Payments',\n",
       "  'Pope Francis: ‘We Will Not Stop The War In Ukraine’',\n",
       "  'Report: 70% Of Americans Will Die Of Something By 2030',\n",
       "  'Dad, Mom, And 15 Other Relatives On Zoom Call With 250 Friends',\n",
       "  'New Study Finds 90% Of U.S. Adults Could Be Tamed By A Single 5-Minute Conversation',\n",
       "  'New ‘Game Of Thrones’ Episodes To Be Released On HBO Go',\n",
       "  'Man Who Just Bought $200,000 House Still Looking For Place To Sleep',\n",
       "  'Report: 80% Of People Still Don’t Know How To Use A Toilet',\n",
       "  'Biden’s Plan To Help Americans Deal With Climate Change',\n",
       "  \"I'm Going To Try Something New\",\n",
       "  \"CIA: 'We Have No Idea What We're Doing'\",\n",
       "  '‘I’m Going To Kill You,’ Says Man With No Idea Who He’s Speaking To',\n",
       "  'Pope Francis Pardons All People Who Don’t Have A Priest',\n",
       "  \"New 'Dumbbells' App Allows Users To Keep Track Of How Much Idiot They Are\",\n",
       "  'Biden Pledges To Make U.S. More Like Other Countries',\n",
       "  'Man Who Doesn’t Like To Get His Hands Dirty Just Going To Do It',\n",
       "  'D.C. Mayor Resigns',\n",
       "  '‘The Onion’ Has Decided To Stop Publishing Our Editor’s Comments About The New ‘Star Wars’ Film',\n",
       "  'DNC Coverage: The New York Times',\n",
       "  'Biden’s First 100 Days',\n",
       "  'Dollar Tree Introduces New $1.99 Cigarette',\n",
       "  'Report: It Just A Matter Of Time Before Someone Starts Calling You A Name',\n",
       "  '‘This Is The Best Thing I’ve Ever Done,’ Says Man Watching Video Of Himself Playing ‘Gears Of War’',\n",
       "  'Biden Announces $100 Billion Plan To Help Americans Buy And Repair Their Homes',\n",
       "  '‘The Onion’ Is In The Middle Of A Massive News Cycle With The Death Of The World’s Most Famous Celebrity, But We’re Not Going To Talk About It',\n",
       "  'The Onion’s Guide To The 2020 Democratic Primary: California',\n",
       "  'New Study Finds 87% Of Americans Can’t Name A Single Person Who Actually Knows Them',\n",
       "  'The Onion’s 2016 Movie Preview: Part 2',\n",
       "  'Burger King To Offer ‘Burger King’ For $10',\n",
       "  'The Onion’s Guide To The 2020 Democratic Nomination Process'],\n",
       " 'trump': ['Trump Calls For Immediate Release Of All American Citizens',\n",
       "  'Trump Says He’s Not Interested In Becoming President Again',\n",
       "  'Trump Announces Plan To Build 10,000 New Roads To Get To 100,000 New Homes',\n",
       "  'Trump Administration Urges Americans To Stay Informed About Politics By Watching Him',\n",
       "  'Trump To Release ‘Hillary’s’ Emails',\n",
       "  'Report: Trump’s Tax Returns Show He Made $22 Billion From Selling Government Contracts',\n",
       "  'Trump Assures Nation That He Would Be A Terrible President If He Were Actually Elected',\n",
       "  'Trump Campaign Staffers Worried About His Health',\n",
       "  'Trump Campaign Introduces New Line Of ‘Trump For President’ Socks',\n",
       "  'Trump To Be First President To Be Elected Without Being Born In U.S.',\n",
       "  'Trump Asks For 100 Million More Americans To Be Born',\n",
       "  'Trump Says He’s Not Going To Run In 2020 Unless He’s In A Position To Win',\n",
       "  'Trump’s Response To The January 6 Capitol Attack',\n",
       "  'Trump To Give 2020 Campaign Speech At RNC',\n",
       "  'Trump Announces Plans To Buy Back American Labor',\n",
       "  'Trump Calls For More Strict Immigration Enforcement',\n",
       "  'Trump Assures Nation He’s Been Having A Great Time At The RNC',\n",
       "  'Trump To Host Biden In White House',\n",
       "  'Trump’s 2020 Campaign Strategy',\n",
       "  'Report: 40% Of U.S. Population Would Be Happy To See Donald Trump Lose Election',\n",
       "  'Trump’s 2020 Campaign: What To Expect',\n",
       "  'New Report Finds Trump Hasn’t Been In Same Place For 15 Minutes Straight Since 2016',\n",
       "  'Trump Says He’s Not Going To Run In 2024',\n",
       "  'Trump Assures Nation That He Has No Idea What’s Going On',\n",
       "  'New York City Police Department Releases Photos Of Suspect In ‘Floyd’ Shooting',\n",
       "  'Trump Campaign Announces 100,000 New Jobs For American Workers',\n",
       "  'Trump’s 2020 Campaign Strategy',\n",
       "  'Trump Announces New ‘Truth’ Commission To Investigate Whether He’s A Fake',\n",
       "  'Trump’s Response To The January 6 Insurrection',\n",
       "  '‘I Have Been A Very Good President,’ Says Trump After Realizing He Never Got To Meet With Any Of His Critics',\n",
       "  'Trump’s 100-Day Plan For America',\n",
       "  'Trump’s New Book',\n",
       "  'Trump’s New Book',\n",
       "  'Trump Announces Plan To End U.S. Wars',\n",
       "  'Trump Vows To Make America Great Again By Giving It To Someone Else',\n",
       "  'Trump’s New ‘Trump University’',\n",
       "  'Trump Campaign Admits It Doesn’t Have A Single Black Person On Staff',\n",
       "  'Trump Asks Biden To Resign From Presidency',\n",
       "  'New Study Finds Majority Of Americans Still Support Trump',\n",
       "  'Trump Calls For Nation To ‘Come Back Together’',\n",
       "  'Report: 90% Of Trump’s Campaign Fundraising Going To His Kids',\n",
       "  'Trump To Release All Of His Personal Papers After 100 Years',\n",
       "  'Trump To Run For Senate',\n",
       "  'Trump Administration To Pay For 3,000 Immigrants’ Return Flight',\n",
       "  'Trump Campaign Launches New 15-Minute Debate To Get Americans To Think About How Great He Is',\n",
       "  'Trump’s New ‘America First’ Strategy To Close Down All Businesses, Eliminate All Foreign Relations, Stop All Immigration',\n",
       "  'Newly Discovered Trump Letter Reveals He’s Always Been Trying To Get Into White House',\n",
       "  'Trump’s New Twitter Rules',\n",
       "  'Trump To Take Down Mueller By Having Him Murdered',\n",
       "  'Trump’s New ‘America First’ Policy']}"
      ]
     },
     "execution_count": 130,
     "metadata": {},
     "output_type": "execute_result"
    }
   ],
   "source": [
    "fine_tune_samples_2 = sample(\n",
    "    lora_path='qwen-lora-finetunes/qwen3_lora_finetuned_v3/checkpoint-4235/',\n",
    "    sequences=50,\n",
    "    seed=42,\n",
    ")\n",
    "fine_tune_samples_2"
   ]
  },
  {
   "cell_type": "code",
   "execution_count": 131,
   "id": "bbf1106e-6339-4e00-9623-4aad59ff5fa0",
   "metadata": {},
   "outputs": [
    {
     "name": "stdout",
     "output_type": "stream",
     "text": [
      "Man Who Just Bought $200,000 House Still Looking For Place To Sleep\n",
      "Report: 80% Of People Still Don’t Know How To Use A Toilet\n",
      "Biden’s Plan To Help Americans Deal With Climate Change\n",
      "I'm Going To Try Something New\n",
      "CIA: 'We Have No Idea What We're Doing'\n",
      "‘I’m Going To Kill You,’ Says Man With No Idea Who He’s Speaking To\n",
      "Pope Francis Pardons All People Who Don’t Have A Priest\n",
      "New 'Dumbbells' App Allows Users To Keep Track Of How Much Idiot They Are\n",
      "Biden Pledges To Make U.S. More Like Other Countries\n",
      "Man Who Doesn’t Like To Get His Hands Dirty Just Going To Do It\n"
     ]
    }
   ],
   "source": [
    "for x in fine_tune_samples_2['unguided'][26:36]:\n",
    "    print(x)"
   ]
  },
  {
   "cell_type": "code",
   "execution_count": null,
   "id": "fed1f985-97b0-4fac-be17-d4970910c9ba",
   "metadata": {},
   "outputs": [],
   "source": []
  }
 ],
 "metadata": {
  "kernelspec": {
   "display_name": "Python 3 (ipykernel)",
   "language": "python",
   "name": "python3"
  },
  "language_info": {
   "codemirror_mode": {
    "name": "ipython",
    "version": 3
   },
   "file_extension": ".py",
   "mimetype": "text/x-python",
   "name": "python",
   "nbconvert_exporter": "python",
   "pygments_lexer": "ipython3",
   "version": "3.13.5"
  }
 },
 "nbformat": 4,
 "nbformat_minor": 5
}
