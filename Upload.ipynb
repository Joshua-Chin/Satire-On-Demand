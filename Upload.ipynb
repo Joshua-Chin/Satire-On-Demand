{
 "cells": [
  {
   "cell_type": "code",
   "execution_count": 3,
   "id": "5247f942-b3df-43c7-9aec-3273b07096f0",
   "metadata": {},
   "outputs": [
    {
     "data": {
      "application/vnd.jupyter.widget-view+json": {
       "model_id": "357ce5038c4043c7996d13e1908c0532",
       "version_major": 2,
       "version_minor": 0
      },
      "text/plain": [
       "Loading checkpoint shards:   0%|          | 0/3 [00:00<?, ?it/s]"
      ]
     },
     "metadata": {},
     "output_type": "display_data"
    }
   ],
   "source": [
    "from transformers import AutoModelForCausalLM, AutoTokenizer, BitsAndBytesConfig\n",
    "\n",
    "\n",
    "model_path = \"Qwen/Qwen3-4B-Instruct-2507\"\n",
    "\n",
    "bnb_config = BitsAndBytesConfig(\n",
    "    load_in_8bit=True,\n",
    ")\n",
    "\n",
    "model = AutoModelForCausalLM.from_pretrained(\n",
    "    model_path,\n",
    "    quantization_config=bnb_config,\n",
    "    device_map=\"auto\",\n",
    "    torch_dtype=\"auto\",\n",
    ")\n",
    "\n",
    "new_chat_template = \\\n",
    "    \"{% for message in messages %}\"\\\n",
    "        \"{{'<|im_start|>' + message['role'] + '\\\\n' + message['content'] + '<|im_end|>' + '\\\\n'}}\"\\\n",
    "    \"{% endfor %}\"\\\n",
    "    \"{% if add_generation_prompt %}\"\\\n",
    "        \"{{ '<|im_start|>assistant\\\\n' }}\"\\\n",
    "    \"{% endif %}\"\n",
    "tokenizer = AutoTokenizer.from_pretrained(model_path)\n",
    "tokenizer.chat_template = new_chat_template"
   ]
  },
  {
   "cell_type": "code",
   "execution_count": 4,
   "id": "61b71674-d56c-4a0f-90e9-0dbf24ffd5c0",
   "metadata": {},
   "outputs": [],
   "source": [
    "from peft import PeftModel\n",
    "\n",
    "model = PeftModel.from_pretrained(model, './finetunes/03-unsloth-CoT/checkpoint-60/')"
   ]
  },
  {
   "cell_type": "code",
   "execution_count": 8,
   "id": "66743c55-fbfb-4f93-bc8a-2964b2066a91",
   "metadata": {},
   "outputs": [
    {
     "data": {
      "application/vnd.jupyter.widget-view+json": {
       "model_id": "68a13d702ce44c6aad97b929a5afb428",
       "version_major": 2,
       "version_minor": 0
      },
      "text/plain": [
       "adapter_model.safetensors:   0%|          | 0.00/132M [00:00<?, ?B/s]"
      ]
     },
     "metadata": {},
     "output_type": "display_data"
    },
    {
     "data": {
      "application/vnd.jupyter.widget-view+json": {
       "model_id": "c760cceabde4405dbc8012808cab7767",
       "version_major": 2,
       "version_minor": 0
      },
      "text/plain": [
       "README.md: 0.00B [00:00, ?B/s]"
      ]
     },
     "metadata": {},
     "output_type": "display_data"
    },
    {
     "data": {
      "application/vnd.jupyter.widget-view+json": {
       "model_id": "53553032b599406fab9cb504970d0974",
       "version_major": 2,
       "version_minor": 0
      },
      "text/plain": [
       "tokenizer.json:   0%|          | 0.00/11.4M [00:00<?, ?B/s]"
      ]
     },
     "metadata": {},
     "output_type": "display_data"
    },
    {
     "data": {
      "text/plain": [
       "CommitInfo(commit_url='https://huggingface.co/joshuachin/Qwen3-4B-Instruct-2507-satirical-headlines-CoT/commit/9eff94f4ebaaf1f9d476de0f507617481d6557e2', commit_message='Upload tokenizer', commit_description='', oid='9eff94f4ebaaf1f9d476de0f507617481d6557e2', pr_url=None, repo_url=RepoUrl('https://huggingface.co/joshuachin/Qwen3-4B-Instruct-2507-satirical-headlines-CoT', endpoint='https://huggingface.co', repo_type='model', repo_id='joshuachin/Qwen3-4B-Instruct-2507-satirical-headlines-CoT'), pr_revision=None, pr_num=None)"
      ]
     },
     "execution_count": 8,
     "metadata": {},
     "output_type": "execute_result"
    }
   ],
   "source": [
    "model_name = 'joshuachin/Qwen3-4B-Instruct-2507-satirical-headlines-CoT'\n",
    "\n",
    "model.push_to_hub(model_name)\n",
    "tokenizer.push_to_hub(model_name)"
   ]
  },
  {
   "cell_type": "code",
   "execution_count": null,
   "id": "d4e390b6-2f2d-4c4e-bd23-70f9a7358e04",
   "metadata": {},
   "outputs": [],
   "source": []
  }
 ],
 "metadata": {
  "kernelspec": {
   "display_name": "Python 3 (ipykernel)",
   "language": "python",
   "name": "python3"
  },
  "language_info": {
   "codemirror_mode": {
    "name": "ipython",
    "version": 3
   },
   "file_extension": ".py",
   "mimetype": "text/x-python",
   "name": "python",
   "nbconvert_exporter": "python",
   "pygments_lexer": "ipython3",
   "version": "3.13.5"
  }
 },
 "nbformat": 4,
 "nbformat_minor": 5
}
