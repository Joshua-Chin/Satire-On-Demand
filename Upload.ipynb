{
 "cells": [
  {
   "cell_type": "code",
   "execution_count": 3,
   "id": "5247f942-b3df-43c7-9aec-3273b07096f0",
   "metadata": {},
   "outputs": [
    {
     "data": {
      "application/vnd.jupyter.widget-view+json": {
       "model_id": "357ce5038c4043c7996d13e1908c0532",
       "version_major": 2,
       "version_minor": 0
      },
      "text/plain": [
       "Loading checkpoint shards:   0%|          | 0/3 [00:00<?, ?it/s]"
      ]
     },
     "metadata": {},
     "output_type": "display_data"
    }
   ],
   "source": [
    "from unsloth import FastLanguageModel\n",
    "\n",
    "\n",
    "def upload_model(model_name, repo_id):\n",
    "    model, tokenizer = FastLanguageModel.from_pretrained(\n",
    "        model_name, load_in_4bit=False)\n",
    "    model.push_to_hub(repo_id)\n",
    "    tokenizer.push_to_hub(repo_id)\n",
    "\n",
    "upload_model(\n",
    "    './finetunes/03-unsloth-CoT/checkpoint-60/',\n",
    "    'joshuachin/Qwen3-4B-Instruct-2507-satirical-headlines-CoT'\n",
    ")"
   ]
  },
  {
   "cell_type": "code",
   "execution_count": null,
   "id": "d4e390b6-2f2d-4c4e-bd23-70f9a7358e04",
   "metadata": {},
   "outputs": [],
   "source": []
  }
 ],
 "metadata": {
  "kernelspec": {
   "display_name": "Python 3 (ipykernel)",
   "language": "python",
   "name": "python3"
  },
  "language_info": {
   "codemirror_mode": {
    "name": "ipython",
    "version": 3
   },
   "file_extension": ".py",
   "mimetype": "text/x-python",
   "name": "python",
   "nbconvert_exporter": "python",
   "pygments_lexer": "ipython3",
   "version": "3.13.5"
  }
 },
 "nbformat": 4,
 "nbformat_minor": 5
}
