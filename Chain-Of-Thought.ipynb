{
 "cells": [
  {
   "cell_type": "code",
   "execution_count": 53,
   "id": "6e989510-db44-4955-87ba-ea4a44d6af49",
   "metadata": {},
   "outputs": [],
   "source": [
    "import csv\n",
    "import os\n",
    "import time\n",
    "\n",
    "import jinja2\n",
    "from pydantic import BaseModel\n",
    "from tqdm.notebook import tqdm, tnrange\n",
    "\n",
    "from datasets import load_dataset\n",
    "from google import genai\n",
    "\n",
    "from lib.preprocess import get_headline\n",
    "\n",
    "\n",
    "example_output = [\n",
    "    CoT(target=\"The entertainment industry's problematic relationship with body image, the commercialization of mental health issues, and actors' desperation for roles.\", satirical_angle=\"Irony is used by portraying an actress's 'excitement' to profit from a serious health issue, highlighting a disturbing disconnect.\"),\n",
    "    CoT(target='The perceived lack of government funding and support for public education and youth programs, often viewing them through a detached financial lens.', satirical_angle=\"Cynicism and understatement are employed by treating vital social programs as a 'low-yield investment' that can be easily discarded.\"),\n",
    "    CoT(target='The cynical and often self-serving motivations behind U.S. foreign policy and military interventions, specifically the perceived pursuit of resource interests.', satirical_angle=\"Absurd irony highlights the government's transparent ulterior motives by suggesting an invasion of a 'non-oil-rich' nation solely to deflect criticism.\"),\n",
    "    CoT(target='Individuals who are genuinely arrogant and presumptuous, yet articulate it in a way that attempts to be self-aware but ultimately reinforces the flaw.', satirical_angle='Self-deprecating irony is used where the speaker acknowledges their flaw in a manner that confirms the very arrogance they are describing.'),\n",
    "    CoT(target='Nostalgia for innocent childhood literary characters, the contrast between idealized fiction and grim reality, and the decline of traditional knowledge sources.', satirical_angle=\"Dark humor and juxtaposition are employed by giving a beloved, intelligent children's character a tragically mundane and undignified end.\"),\n",
    "    CoT(target='Corporate influence and potential corruption within the judiciary, and the perception that powerful entities can sway legal decisions through trivial means.', satirical_angle='Absurdist exaggeration directly links a brand mention in a high court ruling to a petty corporate kickback, implying a transactional relationship.'),\n",
    "    CoT(target='Human pettiness, resistance to minor administrative changes, and the tendency to personalize impersonal decisions.', satirical_angle='Understatement and exaggeration of minor issues highlight the absurd degree to which people can react emotionally to trivial changes.'),\n",
    "    CoT(target=\"The pharmaceutical industry's profit motives, the potential for medical quackery, and the public's desire for quick fixes.\", satirical_angle='Absurd irony is used by legalizing the sale of something explicitly designed to have no medicinal effect, exposing the commercialization of healthcare.'),\n",
    "    CoT(target='The often-forced communal joy of childhood activities, the varying definitions of humor, and the awkwardness of trying to recreate past shared experiences.', satirical_angle='Anti-climax and relatability are employed to show that cherished childhood memories or inside jokes often do not translate or resonate with others later in life.'),\n",
    "    CoT(target=\"Racial stereotypes, the exoticization of non-Western cultures, and the superficial judgment of perceived 'otherness'.\", satirical_angle='Microaggressive exoticism implies that an accent can negate the seriousness or authenticity of a conflict, revealing a condescending viewpoint.'),\n",
    "    CoT(target='Government overreach, lack of transparency, and the erosion of civil liberties under national security legislation.', satirical_angle='Paradoxical absurdity highlights that a law designed to protect the nation is so controlling that it forbids its own scrutiny, exposing its anti-democratic nature.'),\n",
    "    CoT(target='U.S. foreign policy towards Cuba, particularly the long-standing and often criticized travel embargo.', satirical_angle=\"Understatement and sarcasm are used by presenting a highly contentious political issue as a simple, almost trivial fact, highlighting the policy's stubbornness.\"),\n",
    "    CoT(target='Toxic masculinity, the suppression of male emotion, and the societal expectation that men stoically endure hardship without complaint.', satirical_angle=\"Understatement and common trope are used to satirize the cliché of the weary man whose 'bad day' becomes a badge of honor, hinting at emotional toll.\"),\n",
    "    CoT(target='Complex family dynamics, particularly mother-daughter relationships, and the commonality of using a third party as a bonding topic.', satirical_angle=\"Relatable realism and anti-climax portray the truth that deeply emotional conversations can quickly shift to more mundane or gossipy topics, often involving a shared 'adversary'.\"),\n",
    "    CoT(target=\"Religious belief, the concept of a 'normal' lifespan versus historical and mythical figures, and subtle commentary on the perceived value of life.\", satirical_angle='Blasphemous absurdity and dark humor are used in a casual, almost boastful statement about surpassing the lifespan of a central religious figure, challenging deeply held beliefs.'),\n",
    "    CoT(target='The persistent issue of urban violence in major cities, the inadequacy of political responses, and the perverse pride some officials might take in negative statistics.', satirical_angle=\"Ironic detachment and morbid humor are used by portraying a mayor 'bragging' about a city's status as a 'murder capital', highlighting a severe disconnect from reality.\")\n",
    "]\n",
    "\n",
    "\n",
    "# --- Configuration ---\n",
    "\n",
    "class CoT(BaseModel):\n",
    "    target: str\n",
    "    satirical_angle: str\n",
    "\n",
    "    from preprocess import get_headline\n",
    "\n",
    "def load_prompt():\n",
    "    with open('./prompts/CoT-extraction.txt') as f:\n",
    "        prompt_string = f.read()\n",
    "    return env.from_string(prompt_string)\n",
    "prompt_template = load_prompt()\n",
    "\n",
    "def load_headlines(count=20):\n",
    "    ds = load_dataset(\"Biddls/Onion_News\")\n",
    "    return [get_headline(ds['train'][i]['text']) for i in range(len(ds) - count, len(ds))]\n",
    "\n",
    "def main(\n",
    "    model='gemini-2.5-flash',\n",
    "    headline_count=240,\n",
    "    batch_size=16,\n",
    "    output_csv='training/synthetic_CoT.csv',\n",
    "    dry_run=True,\n",
    "    req_per_min=9.5,\n",
    "):\n",
    "    # 1. Load prompts and data\n",
    "    prompt_template = load_prompt()\n",
    "    headlines = load_headlines(count=headline_count)\n",
    "\n",
    "    # 2. Initialize the generative AI client\n",
    "    client = genai.Client()\n",
    "\n",
    "    # 3. Create batches of headlines\n",
    "    headline_batches = [\n",
    "        headlines[i:i + batch_size] for i in range(0, len(headlines), batch_size)\n",
    "    ]\n",
    "\n",
    "    min_seconds = 60 / req_per_min\n",
    "    last_call = None\n",
    "\n",
    "    # 4. Process batches and write to CSV\n",
    "    print(f\"Processing {len(headlines)} headlines in {len(headline_batches)} batches...\")\n",
    "    with open(output_csv, 'w', newline='', encoding='utf-8') as f:\n",
    "        writer = csv.writer(f)\n",
    "        writer.writerow(['headline', 'target', 'satirical_angle'])\n",
    "\n",
    "        for batch in tqdm(headline_batches, desc=\"Generating CoT Data\"):\n",
    "            try:\n",
    "                prompt = prompt_template.render(headlines='\\n'.join(batch))\n",
    "\n",
    "                now = time.monotonic()\n",
    "                if last_call is not None and now < last_call + min_seconds:\n",
    "                    time.sleep(last_call + min_seconds - now)\n",
    "\n",
    "                if dry_run:\n",
    "                    output = example_output\n",
    "                else:\n",
    "                    response = client.models.generate_content(\n",
    "                        model=MODEL_NAME,\n",
    "                        contents=prompt,\n",
    "                        config={\n",
    "                            \"response_mime_type\": \"application/json\",\n",
    "                            \"response_schema\": list[CoT],\n",
    "                            \"thinking_config\": {\"thinking_budget\": 0},\n",
    "                        }\n",
    "                    )\n",
    "                    output = response.parsed\n",
    "                    \n",
    "                last_call = time.monotonic()\n",
    "                \n",
    "                # Ensure the number of results matches the number of headlines sent\n",
    "                if len(output) == len(batch):\n",
    "                    for headline, cot_data in zip(batch, output):\n",
    "                        writer.writerow([headline, cot_data.target, cot_data.satirical_angle])\n",
    "                else:\n",
    "                    print(f\"Warning: Mismatch in batch size. Input: {len(batch)}, Output: {len(output)}. Skipping batch.\")\n",
    "\n",
    "            except Exception as e:\n",
    "                print(f\"\\nAn error occurred while processing a batch: {e}\")\n",
    "                print(\"Skipping this batch and continuing...\")\n",
    "\n",
    "    print(f\"\\nProcessing complete. Dataset saved to '{output_csv}'\")"
   ]
  },
  {
   "cell_type": "code",
   "execution_count": 54,
   "id": "4bffad3c-a62a-46a4-bba6-61be0675784f",
   "metadata": {},
   "outputs": [
    {
     "name": "stdout",
     "output_type": "stream",
     "text": [
      "Processing 240 headlines in 15 batches...\n"
     ]
    },
    {
     "data": {
      "application/vnd.jupyter.widget-view+json": {
       "model_id": "25ad5cf48b9a4eebb0527339c1d76d51",
       "version_major": 2,
       "version_minor": 0
      },
      "text/plain": [
       "Generating CoT Data:   0%|          | 0/15 [00:00<?, ?it/s]"
      ]
     },
     "metadata": {},
     "output_type": "display_data"
    },
    {
     "name": "stdout",
     "output_type": "stream",
     "text": [
      "\n",
      "Processing complete. Dataset saved to 'synthetic_CoT.csv'\n"
     ]
    }
   ],
   "source": [
    "main(dry_run=False)"
   ]
  },
  {
   "cell_type": "code",
   "execution_count": null,
   "id": "ab0029ae-6059-4e5b-8bec-0194f021671b",
   "metadata": {},
   "outputs": [],
   "source": []
  }
 ],
 "metadata": {
  "kernelspec": {
   "display_name": "Python 3 (ipykernel)",
   "language": "python",
   "name": "python3"
  },
  "language_info": {
   "codemirror_mode": {
    "name": "ipython",
    "version": 3
   },
   "file_extension": ".py",
   "mimetype": "text/x-python",
   "name": "python",
   "nbconvert_exporter": "python",
   "pygments_lexer": "ipython3",
   "version": "3.13.5"
  }
 },
 "nbformat": 4,
 "nbformat_minor": 5
}
