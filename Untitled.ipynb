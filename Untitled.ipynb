{
 "cells": [
  {
   "cell_type": "code",
   "execution_count": 1,
   "id": "e92dbe9c-4ca5-461c-890e-8b6d06db7225",
   "metadata": {},
   "outputs": [
    {
     "data": {
      "application/vnd.jupyter.widget-view+json": {
       "model_id": "d96dae41b513402ab8babcfa07adef3c",
       "version_major": 2,
       "version_minor": 0
      },
      "text/plain": [
       "Loading checkpoint shards:   0%|          | 0/3 [00:00<?, ?it/s]"
      ]
     },
     "metadata": {},
     "output_type": "display_data"
    },
    {
     "name": "stderr",
     "output_type": "stream",
     "text": [
      "Device set to use cuda:0\n"
     ]
    }
   ],
   "source": [
    "import torch\n",
    "\n",
    "from transformers import AutoModelForCausalLM, AutoTokenizer, BitsAndBytesConfig, pipeline\n",
    "from peft import PeftModel\n",
    "\n",
    "torch.random.manual_seed(0)\n",
    "\n",
    "model_path = \"Qwen/Qwen3-4B-Instruct-2507\"\n",
    "\n",
    "bnb_config = BitsAndBytesConfig(\n",
    "    load_in_8bit=True,\n",
    ")\n",
    "\n",
    "model = AutoModelForCausalLM.from_pretrained(\n",
    "    model_path,\n",
    "    quantization_config=bnb_config,\n",
    "    device_map=\"auto\",\n",
    "    torch_dtype=\"auto\",\n",
    ")\n",
    "model = PeftModel.from_pretrained(model, 'qwen3_lora_finetuned/checkpoint-4235')\n",
    "\n",
    "tokenizer = AutoTokenizer.from_pretrained(model_path)\n",
    "\n",
    "pipe = pipeline(\n",
    "    \"text-generation\",\n",
    "    model=model,\n",
    "    tokenizer=tokenizer,\n",
    ")"
   ]
  },
  {
   "cell_type": "code",
   "execution_count": 3,
   "id": "7450a5e9-0e9b-4d1a-b47b-cac9e2f95af7",
   "metadata": {},
   "outputs": [
    {
     "data": {
      "text/plain": [
       "[{'generated_text': '<think>\\n\\n</think>\\n\\nTrump Campaign Announces It Will Stop Allowing Women On Campaign Bus'},\n",
       " {'generated_text': '</tool_call>\\n\\n</think>\\n\\nMan Who Got 100 On SAT Doesn’t Understand Why It’s So Hard To Get Into College'},\n",
       " {'generated_text': '<tool_call>\\n\\nBiden Vows To End U.S. Military Presence In Afghanistan'},\n",
       " {'generated_text': '</tool_call>\\n\\n<tool_call>\\n\\nMan Not Sure He Wants To Be The One Who Breaks Up Family'},\n",
       " {'generated_text': '<think>\\n\\n</think>\\n\\nMan Has No Idea What He Was Thinking When He Put On 50 Pounds Of Weight'}]"
      ]
     },
     "execution_count": 3,
     "metadata": {},
     "output_type": "execute_result"
    }
   ],
   "source": [
    "def get_prompt():\n",
    "    return [\n",
    "        {\n",
    "            \"role\": \"user\", \n",
    "            \"content\": \"Write a satirical headline in the style of Onion News. Only write the headline.\"\n",
    "        }\n",
    "    ]\n",
    "\n",
    "generation_args = {\n",
    "    \"max_new_tokens\": 500,\n",
    "    \"return_full_text\": False,\n",
    "    \"do_sample\": True,\n",
    "    \"temperature\": 0.7,\n",
    "    \"top_p\": 0.8,\n",
    "    \"top_k\": 20,\n",
    "    \"min_p\": 0,\n",
    "}\n",
    "\n",
    "output = pipe(get_prompt(), num_return_sequences=5, **generation_args)\n",
    "output"
   ]
  },
  {
   "cell_type": "code",
   "execution_count": null,
   "id": "51e72769-8019-4147-a48f-e7e8673f42f3",
   "metadata": {},
   "outputs": [],
   "source": []
  }
 ],
 "metadata": {
  "kernelspec": {
   "display_name": "Python 3 (ipykernel)",
   "language": "python",
   "name": "python3"
  },
  "language_info": {
   "codemirror_mode": {
    "name": "ipython",
    "version": 3
   },
   "file_extension": ".py",
   "mimetype": "text/x-python",
   "name": "python",
   "nbconvert_exporter": "python",
   "pygments_lexer": "ipython3",
   "version": "3.13.5"
  }
 },
 "nbformat": 4,
 "nbformat_minor": 5
}
