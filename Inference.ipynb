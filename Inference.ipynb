{
 "cells": [
  {
   "cell_type": "code",
   "execution_count": 2,
   "id": "e7088bcd-bae8-41c9-bb91-e17019371a64",
   "metadata": {},
   "outputs": [],
   "source": [
    "from inference import sample_unsloth"
   ]
  },
  {
   "cell_type": "code",
   "execution_count": 2,
   "id": "e06cbc14-df30-4319-8e42-aaf709bee893",
   "metadata": {},
   "outputs": [
    {
     "name": "stdout",
     "output_type": "stream",
     "text": [
      "==((====))==  Unsloth 2025.8.7: Fast Qwen3 patching. Transformers: 4.55.2.\n",
      "   \\\\   /|    NVIDIA GeForce RTX 4070 Ti SUPER. Num GPUs = 1. Max memory: 15.992 GB. Platform: Linux.\n",
      "O^O/ \\_/ \\    Torch: 2.8.0+cu128. CUDA: 8.9. CUDA Toolkit: 12.8. Triton: 3.4.0\n",
      "\\        /    Bfloat16 = TRUE. FA [Xformers = None. FA2 = True]\n",
      " \"-____-\"     Free license: http://github.com/unslothai/unsloth\n",
      "Unsloth: Fast downloading is enabled - ignore downloading bars which are red colored!\n"
     ]
    },
    {
     "data": {
      "application/vnd.jupyter.widget-view+json": {
       "model_id": "b5b134f8c2e142f2942521acdb61419e",
       "version_major": 2,
       "version_minor": 0
      },
      "text/plain": [
       "Loading checkpoint shards:   0%|          | 0/2 [00:00<?, ?it/s]"
      ]
     },
     "metadata": {},
     "output_type": "display_data"
    },
    {
     "data": {
      "text/plain": [
       "{'unguided': ['**\"Local Council Passes Ordinance Banning All Forms of Physical Contact Except for \\'Slightly Touching\\' During Tax Season\"**  \\n\\n*Residents now required to maintain a 1-inch buffer zone when discussing budgets, arguing over parking, or',\n",
       "  '**\"Local Government Announces New \\'Mandatory Laughter Tax\\' to Boost Morale—Residents Now Required to Cry at Least Once Per Week or Face Fines\"**',\n",
       "  '\"Local Government Announces New \\'Soda Tax\\' to Combat \\'Sweetness Overload\\' in Schools – Students Now Required to Drink Water or Face Mandatory \\'Taste Therapy\\' Sessions\"',\n",
       "  '**\"Local Government Announces New \\'Sneezing Tax\\' to Fund School Bus Modifications After Students Report Increased Nasal Irritation During Commute\"**',\n",
       "  '\"Local Mayor Announces Plan to Ban All Public Speaking to \\'Reduce Anxiety and Improve Sleep Quality\\' — Citizens Now Allowed to Whisper Only During Commute\"'],\n",
       " 'trump': ['**\"Trump Announces He’s Selling His \\'MAGA\\' Brand to a Chinese Tech Giant for $10 Billion—But Only If They Promise to Stop Using the Word \\'Liberal\\' in Their Ads\"**  \\n\\n*—In a',\n",
       "  '**Trump Announces He’s “Selling” His Presidential Library to Fund a New Line of Luxury Tacos — “The Only Thing More Expensive Than a Vote Is a Good One”**  \\n\\n*By Alex B. Faux, Senior Correspond',\n",
       "  '\"Trump Announces He’s Selling His \\'Mega-Home\\' in Mar-a-Lago to Fund a New \\'World Peace\\' Initiative — But Only If You Buy a Pair of His \\'Authentic\\' Trump-Style Sunglasses\"',\n",
       "  '**Trump Announces He’s “Finally” Found the Secret to Winning the 2024 Election: Just Keep Saying “I’m the Best” While Wearing a Red Hat and Sipping Lemonade from a Plastic Cup**  \\n\\n*By',\n",
       "  '\"Trump Announces He’s Selling His Own Face to a Chinese AI Company for $100 Million—Claims It Will \\'Revive\\' His Political Career and Improve His \\'Authenticity\\'\"']}"
      ]
     },
     "execution_count": 2,
     "metadata": {},
     "output_type": "execute_result"
    }
   ],
   "source": [
    "sample_unsloth('unsloth/Qwen3-4B-Instruct-2507')"
   ]
  },
  {
   "cell_type": "code",
   "execution_count": 3,
   "id": "5d8ae924-8eff-41c9-88ef-89aa8ac2ea2c",
   "metadata": {},
   "outputs": [
    {
     "name": "stdout",
     "output_type": "stream",
     "text": [
      "==((====))==  Unsloth 2025.8.7: Fast Qwen3 patching. Transformers: 4.55.2.\n",
      "   \\\\   /|    NVIDIA GeForce RTX 4070 Ti SUPER. Num GPUs = 1. Max memory: 15.992 GB. Platform: Linux.\n",
      "O^O/ \\_/ \\    Torch: 2.8.0+cu128. CUDA: 8.9. CUDA Toolkit: 12.8. Triton: 3.4.0\n",
      "\\        /    Bfloat16 = TRUE. FA [Xformers = None. FA2 = True]\n",
      " \"-____-\"     Free license: http://github.com/unslothai/unsloth\n",
      "Unsloth: Fast downloading is enabled - ignore downloading bars which are red colored!\n"
     ]
    },
    {
     "data": {
      "application/vnd.jupyter.widget-view+json": {
       "model_id": "1c0dcb1c26644fa38dc494b5bc792779",
       "version_major": 2,
       "version_minor": 0
      },
      "text/plain": [
       "Loading checkpoint shards:   0%|          | 0/2 [00:00<?, ?it/s]"
      ]
     },
     "metadata": {},
     "output_type": "display_data"
    },
    {
     "name": "stderr",
     "output_type": "stream",
     "text": [
      "Unsloth 2025.8.7 patched 36 layers with 36 QKV layers, 36 O layers and 36 MLP layers.\n"
     ]
    },
    {
     "data": {
      "text/plain": [
       "{'unguided': ['Man Who Was Injured In Car Crash Has To Pay $200,000 To Be Injured Again',\n",
       "  '‘I Just Want To Help You Feel Better,’ Man Tells Woman Who Has Just Died Of Cancer',\n",
       "  'Study Finds People Who Eat Breakfast Are Less Likely To Die Early',\n",
       "  '‘The Onion’ Announces It Will Now Be ‘The Onion Sports’',\n",
       "  'Covid-19 Vaccination Record Found In 1992 Box Of Old VHS Tapes'],\n",
       " 'trump': ['‘I Just Want To Be Left Alone’ Says Man As He Lies In Pool Of His Own Blood',\n",
       "  'Trump Announces He Will Never Run For President Again',\n",
       "  'Trump Says He Never Knew He Was Gay Until After He Was Fired From Trump Tower',\n",
       "  '‘It’s All About The People’ Says Trump After 100 Days In Office',\n",
       "  'Trump’s Team Explains How They Know He’s Still Alive']}"
      ]
     },
     "execution_count": 3,
     "metadata": {},
     "output_type": "execute_result"
    }
   ],
   "source": [
    "sample_unsloth('./finetunes/01-transformers-finetune/checkpoint-100/')"
   ]
  },
  {
   "cell_type": "code",
   "execution_count": 4,
   "id": "b935d029-b4df-4649-9258-4d469ba056eb",
   "metadata": {},
   "outputs": [
    {
     "name": "stdout",
     "output_type": "stream",
     "text": [
      "==((====))==  Unsloth 2025.8.7: Fast Qwen3 patching. Transformers: 4.55.2.\n",
      "   \\\\   /|    NVIDIA GeForce RTX 4070 Ti SUPER. Num GPUs = 1. Max memory: 15.992 GB. Platform: Linux.\n",
      "O^O/ \\_/ \\    Torch: 2.8.0+cu128. CUDA: 8.9. CUDA Toolkit: 12.8. Triton: 3.4.0\n",
      "\\        /    Bfloat16 = TRUE. FA [Xformers = None. FA2 = True]\n",
      " \"-____-\"     Free license: http://github.com/unslothai/unsloth\n",
      "Unsloth: Fast downloading is enabled - ignore downloading bars which are red colored!\n"
     ]
    },
    {
     "data": {
      "application/vnd.jupyter.widget-view+json": {
       "model_id": "186d94899a3b473cad929cf059309bf0",
       "version_major": 2,
       "version_minor": 0
      },
      "text/plain": [
       "Loading checkpoint shards:   0%|          | 0/2 [00:00<?, ?it/s]"
      ]
     },
     "metadata": {},
     "output_type": "display_data"
    },
    {
     "data": {
      "text/plain": [
       "{'unguided': ['Man Who Took $100,000 From Bank To Pay Off Mortgage Gets Shot By Cop',\n",
       "  'Man Arrested After Shooting Up 150 People At School',\n",
       "  'Study Finds People Who Eat Steak More Often Live Longer',\n",
       "  '‘The Only Thing That Can Save Us Now Is More War,’ Says Biden',\n",
       "  'Cancer Patients Suffering From Depression Can Now Get Free Pills From Pharmacies'],\n",
       " 'trump': ['Donald Trump Announces He Will Be Running For President Again',\n",
       "  'Trump Admits He Was Wrong About Everything',\n",
       "  'Trump Announces He’s Going To Let America Fall Into Ruin So He Can Buy It Back For A Fraction Of What It Cost',\n",
       "  'Donald Trump Announces He’s Going To Take On Joe Biden In 2024',\n",
       "  '‘It’s Not About The Money,’ Says Donald Trump']}"
      ]
     },
     "execution_count": 4,
     "metadata": {},
     "output_type": "execute_result"
    }
   ],
   "source": [
    "sample_unsloth('./finetunes/02-unsloth-finetune/checkpoint-100/')"
   ]
  },
  {
   "cell_type": "code",
   "execution_count": 5,
   "id": "2bd25b3a-d8b6-4cd8-913f-b612da0ce884",
   "metadata": {},
   "outputs": [
    {
     "name": "stdout",
     "output_type": "stream",
     "text": [
      "==((====))==  Unsloth 2025.8.7: Fast Qwen3 patching. Transformers: 4.55.2.\n",
      "   \\\\   /|    NVIDIA GeForce RTX 4070 Ti SUPER. Num GPUs = 1. Max memory: 15.992 GB. Platform: Linux.\n",
      "O^O/ \\_/ \\    Torch: 2.8.0+cu128. CUDA: 8.9. CUDA Toolkit: 12.8. Triton: 3.4.0\n",
      "\\        /    Bfloat16 = TRUE. FA [Xformers = None. FA2 = True]\n",
      " \"-____-\"     Free license: http://github.com/unslothai/unsloth\n",
      "Unsloth: Fast downloading is enabled - ignore downloading bars which are red colored!\n"
     ]
    },
    {
     "data": {
      "application/vnd.jupyter.widget-view+json": {
       "model_id": "e646524974274be884130332033ab9ae",
       "version_major": 2,
       "version_minor": 0
      },
      "text/plain": [
       "Loading checkpoint shards:   0%|          | 0/2 [00:00<?, ?it/s]"
      ]
     },
     "metadata": {},
     "output_type": "display_data"
    },
    {
     "data": {
      "text/plain": [
       "{'unguided': [\"Subject: The perceived hypocrisy or double standards in political discourse, specifically regarding the treatment of political figures versus ordinary citizens.\\nSatirical Angle: Irony / Absurdity - the idea that the 'same standard' should apply to both President Bush and 'any other American' highlights the inconsistency or lack of enforcement of such standards.\\nPresident Bush Gets The Same Standard Of Treatment As Any Other American\",\n",
       "  \"Subject: The often arbitrary and sometimes arbitrary nature of corporate or legal decisions regarding intellectual property, particularly in the music industry.\\nSatirical Angle: Situational Irony / Absurdity - The idea that a simple, iconic song like 'Happy Birthday' could be legally contested by a major corporation, highlighting the often arbitrary nature of copyright disputes.\\nSubject: The often arbitrary and sometimes arbitrary nature of corporate or legal decisions regarding intellectual property, particularly in the music industry.\\nSatirical Angle: Situational Irony / Absurdity - The idea that a simple, iconic song like 'Happy Birthday' could be legally contested by a major corporation, highlighting the often arbitrary nature of copyright disputes.\\nSony Corp. To Sue Over 'Happy Birthday'\",\n",
       "  \"Subject: The often contradictory or overly dramatic nature of media coverage, especially regarding political figures or public figures.\\nSatirical Angle: Absurdity / Dark Humor - a news headline about a politician being 'The Most Dramatic Person In The World' is an exaggeration and a darkly humorous observation, implying a kind of self-importance or over-the-top behavior.\\nThe Most Dramatic Person In The World\",\n",
       "  \"Subject: The often-awkward and self-conscious nature of public displays of affection, especially when it's forced or awkward.\\nSatirical Angle: Situational Irony / Understatement - the headline 'Public Affair' is a generic phrase that ironically describes the awkward, yet unavoidable, nature of a forced kiss.\\nPublic Affair\",\n",
       "  \"Subject: The perceived pretentiousness and elitism of some art critics, and the sometimes arbitrary nature of their opinions.\\nSatirical Angle: Understatement / Ironic Hyperbole - a critic's opinion on a 'small' piece of art is presented as if it's a monumental, world-changing statement, highlighting the disproportionate weight critics can place on minor works.\\nCritic Says 'Small Painting' By Koons Is 'The Most Important Art Work Of The Decade'\"],\n",
       " 'trump': [\"Subject: The perceived lack of genuine empathy or understanding from political figures, particularly regarding social issues.\\nSatirical Angle: Absurdity / Anti-climax - Trump is said to 'understand' the pain of a specific social group (homeless) but fails to grasp a broader, more complex social issue (the pain of others).\\nDonald Trump Understands Pain Of Homeless\",\n",
       "  \"Subject: The perceived lack of respect for the U.S. Constitution and the erosion of democratic norms by some political figures.\\nSatirical Angle: Irony / Understatement - Trump's claim to 'respect the Constitution' is ironic given his history of undermining it, making the statement itself a satirical commentary.\\nTrump Says He Respects The Constitution\",\n",
       "  \"Subject: The perceived lack of genuine empathy or understanding of the struggles of others, particularly the poor, by some political figures.\\nSatirical Angle: Ironic Juxtaposition / Understatement - the headline implies that Donald Trump, known for his controversial and often dismissive rhetoric, has a 'deep understanding' of the poor, which is presented as an ironic or surprising statement given his public persona.\\nTrump Has Deep Understanding Of Poor\",\n",
       "  \"Subject: The perceived self-importance and lack of humility in public figures, specifically Donald Trump.\\nSatirical Angle: Absurdity / Understatement - having a 'Trump Tower' named after a person who is himself a 'Trump' is a self-referential, almost absurd, situation that highlights his perceived ego.\\nTrump Tower Named After Trump\",\n",
       "  \"Subject: The perceived hypocrisy and double standards in Donald Trump's public statements and actions regarding social issues.\\nSatirical Angle: Absurdity / Dark Humor - the idea that Trump would 'get away with it' if he were a woman, implying a gender-based moral standard, satirizes his inconsistent behavior.\\nTrump Would Get Away With It If He Were A Woman\"]}"
      ]
     },
     "execution_count": 5,
     "metadata": {},
     "output_type": "execute_result"
    }
   ],
   "source": [
    "sample_unsloth(\n",
    "    './finetunes/03-unsloth-CoT/checkpoint-60/',\n",
    "    generation_args={\n",
    "        \"num_return_sequences\": 5,\n",
    "        \"max_new_tokens\": 1024,\n",
    "        \"do_sample\": True,\n",
    "        \"temperature\": 0.7,\n",
    "        \"top_p\": 0.8,\n",
    "        \"top_k\": 20,\n",
    "        \"min_p\": 0,\n",
    "    }\n",
    ")"
   ]
  },
  {
   "cell_type": "code",
   "execution_count": null,
   "id": "488ef3ea-b229-4f4f-a077-13f48bfcb39e",
   "metadata": {},
   "outputs": [],
   "source": []
  }
 ],
 "metadata": {
  "kernelspec": {
   "display_name": "Python 3 (ipykernel)",
   "language": "python",
   "name": "python3"
  },
  "language_info": {
   "codemirror_mode": {
    "name": "ipython",
    "version": 3
   },
   "file_extension": ".py",
   "mimetype": "text/x-python",
   "name": "python",
   "nbconvert_exporter": "python",
   "pygments_lexer": "ipython3",
   "version": "3.13.5"
  }
 },
 "nbformat": 4,
 "nbformat_minor": 5
}
