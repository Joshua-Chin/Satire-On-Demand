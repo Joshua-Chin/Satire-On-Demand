{
 "cells": [
  {
   "cell_type": "code",
   "execution_count": 1,
   "id": "e92dbe9c-4ca5-461c-890e-8b6d06db7225",
   "metadata": {},
   "outputs": [],
   "source": [
    "import torch\n",
    "\n",
    "from transformers import AutoModelForCausalLM, AutoTokenizer, BitsAndBytesConfig, pipeline\n",
    "from peft import PeftModel\n",
    "\n",
    "base_model_path = \"Qwen/Qwen3-4B-Instruct-2507\"\n",
    "\n",
    "generation_args = {\n",
    "    \"max_new_tokens\": 50,\n",
    "    \"return_full_text\": False,\n",
    "    \"do_sample\": True,\n",
    "    \"temperature\": 0.7,\n",
    "    \"top_p\": 0.8,\n",
    "    \"top_k\": 20,\n",
    "    \"min_p\": 0,\n",
    "}\n",
    "\n",
    "default_prompts = {\n",
    "    \"unguided\": [{\"role\": \"user\", \"content\": \"Write a satirical headline in the style of Onion News.\"}],\n",
    "    \"trump\":  [{\"role\": \"user\", \"content\": \"Write a satirical headline in the style of Onion News about Donald Trump.\"}]\n",
    "}\n",
    "\n",
    "def sample(lora_path=None, prompts=default_prompts, sequences=5, seed=0):\n",
    "    torch.random.manual_seed(seed)\n",
    "    # load tokenizer and model\n",
    "    tokenizer = AutoTokenizer.from_pretrained(base_model_path)\n",
    "    model = AutoModelForCausalLM.from_pretrained(\n",
    "        base_model_path,\n",
    "        quantization_config=BitsAndBytesConfig(load_in_8bit=True),\n",
    "        device_map=\"auto\",\n",
    "        torch_dtype=\"auto\",\n",
    "    )\n",
    "    if lora_path is not None:\n",
    "        model = PeftModel.from_pretrained(model, lora_path)\n",
    "    pipe = pipeline(\n",
    "        \"text-generation\",\n",
    "        model=model,\n",
    "        tokenizer=tokenizer,\n",
    "    )\n",
    "    # sample from the model\n",
    "    output = {}\n",
    "    for name, prompt in prompts.items():\n",
    "        prompt_responses = pipe(prompt, num_return_sequences=sequences, **generation_args)\n",
    "        prompt_responses = [response[\"generated_text\"] for response in prompt_responses]\n",
    "        output[name] = prompt_responses\n",
    "    return output"
   ]
  },
  {
   "cell_type": "code",
   "execution_count": 4,
   "id": "e06cbc14-df30-4319-8e42-aaf709bee893",
   "metadata": {},
   "outputs": [
    {
     "data": {
      "application/vnd.jupyter.widget-view+json": {
       "model_id": "155642700ec04f948cdc8cb104830fa7",
       "version_major": 2,
       "version_minor": 0
      },
      "text/plain": [
       "Loading checkpoint shards:   0%|          | 0/3 [00:00<?, ?it/s]"
      ]
     },
     "metadata": {},
     "output_type": "display_data"
    },
    {
     "name": "stderr",
     "output_type": "stream",
     "text": [
      "Device set to use cuda:0\n",
      "/home/joshuachin/miniconda3/envs/code-review/lib/python3.13/site-packages/bitsandbytes/autograd/_functions.py:186: UserWarning: MatMul8bitLt: inputs will be cast from torch.bfloat16 to float16 during quantization\n",
      "  warnings.warn(f\"MatMul8bitLt: inputs will be cast from {A.dtype} to float16 during quantization\")\n"
     ]
    },
    {
     "data": {
      "text/plain": [
       "{'unguided': ['**\"Local Government Announces Plan to Ban All Pet Ownership After Finding Out Cats Are Actually Voting in Municipal Elections\"**  \\n\\n*Residents Are Now Being Asked to Sign a Pet Surrender Form—Just in Case the Felines Have Already Chosen a',\n",
       "  '**\"Local Government Announces Plan to Replace All Traffic Lights with Glowing Fireflies to Reduce Carbon Footprint—Residents Say They’re ‘More Confused Than Ever’\"**',\n",
       "  '**\"Local Government Announces Plan to Replace All Traffic Lights with \\'Mood-Based\\' LED Bulbs After Studies Show Drivers Are More Calm When Lights Emit a Subtle Pink Hue\"**',\n",
       "  '**\"Local Council Approves \\'Squirrel-Proofing\\' Initiative After 12,000 Complaints About Park Mice Taking Over Public Gardens\"**  \\n\\n*Residents Say They\\'ve Seen Squirrels \"Sneakily\"',\n",
       "  '**\"Local Government Announces Plan to Ban All Outdoor Activities After Discovering 73% of Parks Are Infested with \\'Mildly Irritating\\' Squirrel Populations\"**  \\n\\n*Residents Now Required to Wear \\'Squirrel-Res'],\n",
       " 'trump': ['**Trump Announces \"Free Wi-Fi for All\" Plan—But Only If You Buy His New Reality TV Show**  \\n\\n*In a surprise move, former President Donald Trump revealed his latest campaign promise: free high-speed internet for every American—on',\n",
       "  '**\"Trump Announces He’s Selling His Entire Estate to Fund a New \\'America First\\' Pizza Chain – And It’s Only $100,000 Per Slice\"**  \\n\\n*By Greg F. Fluff, Senior Correspondent',\n",
       "  '**\"Trump Announces \\'Free WiFi for All\\' Plan After Secretly Selling 500,000 Hotspots to China—And It\\'s Already Working in the Basement of the White House\"**  \\n\\n*By Sarah B. P',\n",
       "  '**\"Trump Announces He’s ‘Selling’ His Presidential Limousine to Fund a New Museum of American Glitter and Fake News\"**  \\n\\n*In a surprise move that has left both critics and conspiracy theorists stunned, former President Donald Trump',\n",
       "  '**Trump Announces He’s “Rebranding” His Twitter Account to “TruthTikTok” After Learning 90% of Users Already Have a Better Version of the App**  \\n\\n*In a surprise move, former President Donald Trump revealed']}"
      ]
     },
     "execution_count": 4,
     "metadata": {},
     "output_type": "execute_result"
    }
   ],
   "source": [
    "sample(lora_path=None)"
   ]
  },
  {
   "cell_type": "code",
   "execution_count": 5,
   "id": "f6053d35-7101-4433-99c2-62e91176082f",
   "metadata": {},
   "outputs": [
    {
     "data": {
      "application/vnd.jupyter.widget-view+json": {
       "model_id": "0e746c9362944458a97d515df0fdf8dc",
       "version_major": 2,
       "version_minor": 0
      },
      "text/plain": [
       "Loading checkpoint shards:   0%|          | 0/3 [00:00<?, ?it/s]"
      ]
     },
     "metadata": {},
     "output_type": "display_data"
    },
    {
     "name": "stderr",
     "output_type": "stream",
     "text": [
      "Device set to use cuda:0\n",
      "/home/joshuachin/miniconda3/envs/code-review/lib/python3.13/site-packages/bitsandbytes/autograd/_functions.py:186: UserWarning: MatMul8bitLt: inputs will be cast from torch.bfloat16 to float16 during quantization\n",
      "  warnings.warn(f\"MatMul8bitLt: inputs will be cast from {A.dtype} to float16 during quantization\")\n"
     ]
    },
    {
     "data": {
      "text/plain": [
       "{'unguided': ['Biden Asks If Anyone In Room Wants To Be First To Go On Stage',\n",
       "  'New York Times To Publish First-Ever Gay Editorial',\n",
       "  'New ‘Star Wars’ Film To Be Set In 2000s',\n",
       "  'Man In 1960s’ ‘The Tonight Show’ Costume Really Going For It',\n",
       "  'Report: 98% Of U.S. Population Would Never Give Up On 2016 Election'],\n",
       " 'trump': ['Donald Trump',\n",
       "  'Donald Trump',\n",
       "  'Donald Trump',\n",
       "  'Donald Trump',\n",
       "  'Donald Trump’s 2016 Campaign']}"
      ]
     },
     "execution_count": 5,
     "metadata": {},
     "output_type": "execute_result"
    }
   ],
   "source": [
    "sample(lora_path='./qwen3_lora_finetuned_v2.2/checkpoint-3500/')"
   ]
  },
  {
   "cell_type": "code",
   "execution_count": 6,
   "id": "e0c4ad77-b95b-4906-9e3d-f4d0281d85e3",
   "metadata": {},
   "outputs": [
    {
     "data": {
      "application/vnd.jupyter.widget-view+json": {
       "model_id": "ba214b218e64426eb3505dafac8377fb",
       "version_major": 2,
       "version_minor": 0
      },
      "text/plain": [
       "Loading checkpoint shards:   0%|          | 0/3 [00:00<?, ?it/s]"
      ]
     },
     "metadata": {},
     "output_type": "display_data"
    },
    {
     "name": "stderr",
     "output_type": "stream",
     "text": [
      "Device set to use cuda:0\n",
      "/home/joshuachin/miniconda3/envs/code-review/lib/python3.13/site-packages/bitsandbytes/autograd/_functions.py:186: UserWarning: MatMul8bitLt: inputs will be cast from torch.bfloat16 to float16 during quantization\n",
      "  warnings.warn(f\"MatMul8bitLt: inputs will be cast from {A.dtype} to float16 during quantization\")\n"
     ]
    },
    {
     "data": {
      "text/plain": [
       "{'unguided': ['Biden Urges Americans To Support ‘The Onion’ During Election',\n",
       "  'New York Times To Publish First-Ever Gay Editorial',\n",
       "  'New ‘Star Wars’ Film To Be Set In 2000s',\n",
       "  'Man In 2012 Will Be Very Surprised By How Much He’s Gotten Out Of This',\n",
       "  'Report: 98% Of U.S. Population Would Prefer To Die In War Than Live In Peace'],\n",
       " 'trump': ['Donald Trump',\n",
       "  'Donald Trump',\n",
       "  'Donald Trump',\n",
       "  'Donald Trump',\n",
       "  'Donald Trump To Step Down As CEO']}"
      ]
     },
     "execution_count": 6,
     "metadata": {},
     "output_type": "execute_result"
    }
   ],
   "source": [
    "sample(lora_path='./qwen3_lora_finetuned_v2.2/checkpoint-4235/')"
   ]
  },
  {
   "cell_type": "code",
   "execution_count": 2,
   "id": "19ded1c1-b997-4328-a005-d5c9440d67cb",
   "metadata": {},
   "outputs": [
    {
     "data": {
      "application/vnd.jupyter.widget-view+json": {
       "model_id": "7826b3b7932c48d8a5fdb0caea148437",
       "version_major": 2,
       "version_minor": 0
      },
      "text/plain": [
       "Loading checkpoint shards:   0%|          | 0/3 [00:00<?, ?it/s]"
      ]
     },
     "metadata": {},
     "output_type": "display_data"
    },
    {
     "name": "stderr",
     "output_type": "stream",
     "text": [
      "Device set to use cuda:0\n",
      "/home/joshuachin/miniconda3/envs/code-review/lib/python3.13/site-packages/bitsandbytes/autograd/_functions.py:186: UserWarning: MatMul8bitLt: inputs will be cast from torch.bfloat16 to float16 during quantization\n",
      "  warnings.warn(f\"MatMul8bitLt: inputs will be cast from {A.dtype} to float16 during quantization\")\n"
     ]
    },
    {
     "data": {
      "text/plain": [
       "{'unguided': ['<think>\\n\\n</think>\\n\\nU.S. To Reopen Embassy In Jerusalem',\n",
       "  '<think>\\n\\n</think>\\n\\nCatholic Church Reopens To The Public After 14 Years Of Lockdown',\n",
       "  '<think>\\n\\n</think>\\n\\nNew Study Finds Humans Evolved To Be Good At Hiding Their Emotions',\n",
       "  '</tool_call>\\n\\n</tool_call>\\n\\nNation’s Parents Announce They’re Going To Be Like This For Rest Of Their Lives',\n",
       "  '<tool_call>\\n\\nArea Man Just Going To Assume He’s Going To Be Rich Someday'],\n",
       " 'trump': ['<think>\\n\\n</think>\\n\\n‘Trump 2’ To Feature Former President’s First Term',\n",
       "  '<think>\\n\\n</think>\\n\\nTrump Calls For More Than 100,000 U.S. Troops To Be Deployed In Afghanistan',\n",
       "  '<think>\\n\\n</think>\\n\\nTrump Vows To End U.S. Military Presence In Middle East',\n",
       "  '<tool_call>\\n\\nNew Report Finds Trump Not In Danger Of Getting Coronavirus',\n",
       "  '<think>\\n\\n</think>\\n\\nReport: Trump’s 2020 Presidential Campaign Already In Motion']}"
      ]
     },
     "execution_count": 2,
     "metadata": {},
     "output_type": "execute_result"
    }
   ],
   "source": [
    "sample(lora_path='./qwen3_lora_finetuned/checkpoint-4235/')"
   ]
  },
  {
   "cell_type": "code",
   "execution_count": 2,
   "id": "9e774797-6d07-4cec-b107-02f90f997fc3",
   "metadata": {},
   "outputs": [
    {
     "data": {
      "application/vnd.jupyter.widget-view+json": {
       "model_id": "39ed057ead874bbfb16f5eea3a8a2e85",
       "version_major": 2,
       "version_minor": 0
      },
      "text/plain": [
       "Loading checkpoint shards:   0%|          | 0/3 [00:00<?, ?it/s]"
      ]
     },
     "metadata": {},
     "output_type": "display_data"
    },
    {
     "name": "stderr",
     "output_type": "stream",
     "text": [
      "Device set to use cuda:0\n",
      "/home/joshuachin/miniconda3/envs/code-review/lib/python3.13/site-packages/bitsandbytes/autograd/_functions.py:186: UserWarning: MatMul8bitLt: inputs will be cast from torch.bfloat16 to float16 during quantization\n",
      "  warnings.warn(f\"MatMul8bitLt: inputs will be cast from {A.dtype} to float16 during quantization\")\n"
     ]
    },
    {
     "data": {
      "text/plain": [
       "{'unguided': ['Biden Asks If Anyone In Room Wants To Be Next In Line For Presidency',\n",
       "  'New York Times To Publish First Gay Marriage Report',\n",
       "  'New ‘Star Wars’ Film To Be Set In 2000s',\n",
       "  'Man In 3rd-Grade Class Has No Idea Why Teacher Is Talking About ‘The Onion’',\n",
       "  'Report: 98% Of Your Life Will Be Spent In A 2015 Toyota Camry'],\n",
       " 'trump': ['Trump Claims He Wasn’t Informed About Mueller Report Until After It Was Released',\n",
       "  'Trump Asks If He Can Get 2 More Days Of ‘Biden’s America’',\n",
       "  '‘I Want To See The World,’ Says Trump In First Major Speech Since Being Re-Elected President',\n",
       "  'Trump Admits To Not Knowing Who To Veto',\n",
       "  '‘The Onion’ Has A Problem With The New Trump Tower']}"
      ]
     },
     "execution_count": 2,
     "metadata": {},
     "output_type": "execute_result"
    }
   ],
   "source": [
    "sample(lora_path='./qwen3_lora_finetuned_v1.1/checkpoint-4235/')"
   ]
  },
  {
   "cell_type": "code",
   "execution_count": 7,
   "id": "a47abce8-be26-4719-91c7-0faa2bf58c6f",
   "metadata": {},
   "outputs": [
    {
     "data": {
      "application/vnd.jupyter.widget-view+json": {
       "model_id": "02cd68c1153c40dbba367f5ef8e46a85",
       "version_major": 2,
       "version_minor": 0
      },
      "text/plain": [
       "Loading checkpoint shards:   0%|          | 0/3 [00:00<?, ?it/s]"
      ]
     },
     "metadata": {},
     "output_type": "display_data"
    },
    {
     "name": "stderr",
     "output_type": "stream",
     "text": [
      "Device set to use cuda:0\n"
     ]
    },
    {
     "data": {
      "text/plain": [
       "{'unguided': ['Man Who Got $100,000 From Winning Lottery Can’t Wait To Spend It',\n",
       "  '‘No Way To Prevent This,’ Says Only Nation Where This Regularly Happens',\n",
       "  'Pope Francis Announces He’s Going To Be A Pope For The Rest Of His Life',\n",
       "  '‘The Onion’ Is Not Responsible For The Content Of This Video',\n",
       "  'Catholic Church To Allow Priests To Be Banned From Church'],\n",
       " 'trump': ['Trump Claims He Never Had To Use Words ‘Trump Tower’',\n",
       "  'Trump Campaign Admits To Buying Voters’ Votes In 2016',\n",
       "  'Trump Claims He Wasn’t Asked To Resign, That He’s A Bad Person',\n",
       "  'Trump Announces Plans To Build New Presidential Palace In D.C.',\n",
       "  'Trump Campaign Admits To Being ‘A Real Shithead’']}"
      ]
     },
     "execution_count": 7,
     "metadata": {},
     "output_type": "execute_result"
    }
   ],
   "source": [
    "sample(lora_path='./qwen3_lora_finetuned_v3/checkpoint-4235/')"
   ]
  },
  {
   "cell_type": "code",
   "execution_count": 17,
   "id": "82ce472b-ca4d-4af7-9d67-a96d22da4bf6",
   "metadata": {},
   "outputs": [
    {
     "data": {
      "application/vnd.jupyter.widget-view+json": {
       "model_id": "7b9f7ad6db6243caa59f34574e61fea9",
       "version_major": 2,
       "version_minor": 0
      },
      "text/plain": [
       "Loading checkpoint shards:   0%|          | 0/3 [00:00<?, ?it/s]"
      ]
     },
     "metadata": {},
     "output_type": "display_data"
    },
    {
     "name": "stderr",
     "output_type": "stream",
     "text": [
      "Device set to use cuda:0\n"
     ]
    },
    {
     "data": {
      "text/plain": [
       "{'unguided': ['DNC Coverage: A New Direction',\n",
       "  \"Dad, I'm Going To Be The One To Tell You That You Are A Terrible Father\",\n",
       "  'CIA Spies On Obama',\n",
       "  '‘The Onion’ Announces The 2014 ‘Best Of The Onion’ Awards',\n",
       "  'New Study Finds Majority Of Americans Would Be Happy To Have Their Own Private Island Where They Could Do Whatever They Want'],\n",
       " 'trump': ['Nation’s Fast Food Chains Announce Plans To Add Trump Logo To Packaging',\n",
       "  'Trump Vows To Cut Fast Food Industry Out Of Nation’s Diet',\n",
       "  'Trump To Eat McDonald’s For 100 Days',\n",
       "  'Trump Urges Nation To Stop Eating McDonald’s, Burger King',\n",
       "  'Trump Vows To Eliminate All Fast Food From Nation']}"
      ]
     },
     "execution_count": 17,
     "metadata": {},
     "output_type": "execute_result"
    }
   ],
   "source": [
    "sample(prompts={\n",
    "    \"unguided\": [{\"role\": \"user\", \"content\": \"Give me a satirical headline.\"}],\n",
    "    \"trump\":  [{\"role\": \"user\", \"content\": \"Write a satirical headline about Donald Trump and fast food.\"}]\n",
    "}, lora_path='./qwen3_lora_finetuned_v3/checkpoint-4235/', seed=1337)"
   ]
  },
  {
   "cell_type": "code",
   "execution_count": 19,
   "id": "428564f2-efc9-4a98-b270-24a051a93302",
   "metadata": {},
   "outputs": [
    {
     "data": {
      "application/vnd.jupyter.widget-view+json": {
       "model_id": "9b8bd6e2502d45058b4c54bbc293e1e2",
       "version_major": 2,
       "version_minor": 0
      },
      "text/plain": [
       "Loading checkpoint shards:   0%|          | 0/3 [00:00<?, ?it/s]"
      ]
     },
     "metadata": {},
     "output_type": "display_data"
    },
    {
     "name": "stderr",
     "output_type": "stream",
     "text": [
      "Device set to use cuda:0\n"
     ]
    },
    {
     "data": {
      "text/plain": [
       "{'unguided': ['Biden Urges Americans To Stay Home',\n",
       "  'New York Times To Publish First Wordless Newspaper',\n",
       "  'New Study Finds People Are More Likely To Die In Car Accidents If They’re Driving At Night',\n",
       "  \"Man Who Doesn't Care What People Think About Him Has No Friends\",\n",
       "  'Report: 98% Of Americans Would Never Think Of Going On A Date With Someone They’ve Never Met'],\n",
       " 'trump': ['Donald Trump To Be Honored With Statue',\n",
       "  'Donald Trump',\n",
       "  'Donald Trump',\n",
       "  'Donald Trump',\n",
       "  'Donald Trump’s 2016 Campaign']}"
      ]
     },
     "execution_count": 19,
     "metadata": {},
     "output_type": "execute_result"
    }
   ],
   "source": [
    "sample(lora_path='./qwen3_lora_finetuned_v4/checkpoint-4235/')"
   ]
  },
  {
   "cell_type": "code",
   "execution_count": 14,
   "id": "77c45dff-d0ef-45d6-abb2-3a8069047743",
   "metadata": {},
   "outputs": [
    {
     "data": {
      "application/vnd.jupyter.widget-view+json": {
       "model_id": "e8916f3bdc1c4141b7e33609dd8b55ba",
       "version_major": 2,
       "version_minor": 0
      },
      "text/plain": [
       "Loading checkpoint shards:   0%|          | 0/3 [00:00<?, ?it/s]"
      ]
     },
     "metadata": {},
     "output_type": "display_data"
    },
    {
     "name": "stderr",
     "output_type": "stream",
     "text": [
      "Device set to use cuda:0\n"
     ]
    },
    {
     "data": {
      "text/plain": [
       "{'unguided': ['Biden Announces New $1.4 Trillion Infrastructure Plan To Repair Roads, Bridges, And Other Things',\n",
       "  'New York Times To Publish First Word Of Trump’s 2020 Speech',\n",
       "  'New ‘Beverly Hills Cop’ Sequel To Feature Entirely New Cast',\n",
       "  'Man In Prison Wishes He Hadn’t Seen The News',\n",
       "  'Report: 98% Of U.S. Population Would Never Be Able To Pay For A Car'],\n",
       " 'trump': ['Donald Trump Pledges To Bring Back The Great American Middle Class',\n",
       "  'Donald Trump To Release Trump Tower Blueprints',\n",
       "  'Trump Accused Of Being A ‘Dumb Shit’',\n",
       "  'Donald Trump Releases New Book To Explain Why He’s Still Running',\n",
       "  'Trump Asks To Be Removed From 2024 Presidential Campaign For Health Reasons']}"
      ]
     },
     "execution_count": 14,
     "metadata": {},
     "output_type": "execute_result"
    }
   ],
   "source": [
    "sample(lora_path='./qwen3_lora_finetuned_v4.1/checkpoint-4235/')"
   ]
  },
  {
   "cell_type": "code",
   "execution_count": 23,
   "id": "7e1066fa-dda1-4a54-8152-09f7da83b020",
   "metadata": {},
   "outputs": [
    {
     "data": {
      "application/vnd.jupyter.widget-view+json": {
       "model_id": "7df4c37320044b93ad0692f139812f12",
       "version_major": 2,
       "version_minor": 0
      },
      "text/plain": [
       "Loading checkpoint shards:   0%|          | 0/3 [00:00<?, ?it/s]"
      ]
     },
     "metadata": {},
     "output_type": "display_data"
    },
    {
     "name": "stderr",
     "output_type": "stream",
     "text": [
      "Device set to use cuda:0\n"
     ]
    },
    {
     "data": {
      "text/plain": [
       "{'unguided': ['DNC To Hold Debate In 12 States',\n",
       "  'Dad’s New Book ‘The Art Of The Ditch’',\n",
       "  'Cops, Firefighters, EMTs, Paramedics, Doctors, Nurses, Fire Department Officers, Fire Department Personnel, Firefighters, Firefighters, Firefighters, Firefighters, Firefighters, Firefighters, Firefighters, Firefighters, Fire',\n",
       "  '‘The Onion’ Announces New Podcast',\n",
       "  'U.S. To Provide Security For UN Climate Talks'],\n",
       " 'trump': ['Trump Accused Of Having Sex With 17-Year-Old',\n",
       "  'Trump To Release All Trump Tower Documents',\n",
       "  'Donald Trump Unveils New Trump University',\n",
       "  'Donald Trump Pledges To Bring Back The Great White Shark',\n",
       "  'Donald Trump Pledges To End Campaign In Case Of Democratic Primary Win'],\n",
       " 'USA': ['U.S.A. To Spend $500 Million On New Space Shuttle',\n",
       "  'U.S.A. To Send More Troops To Iraq',\n",
       "  'The U.S.A.',\n",
       "  'The U.S.A.',\n",
       "  'U.S.A. Announces It Will No Longer Be A Nation'],\n",
       " 'trump_hard': ['Donald Trump Announces Plans To Open 125,000 Fast-Food Restaurants',\n",
       "  'Donald Trump And Fast Food',\n",
       "  'Donald Trump And Fast Food',\n",
       "  'Donald Trump Announces He’s Going To Start Eating At McDonald’s',\n",
       "  'Donald Trump and Fast Food']}"
      ]
     },
     "execution_count": 23,
     "metadata": {},
     "output_type": "execute_result"
    }
   ],
   "source": [
    "sample(prompts={\n",
    "    \"unguided\": [{\"role\": \"user\", \"content\": \"Give me a satirical headline.\"}],\n",
    "    \"trump\":  [{\"role\": \"user\", \"content\": \"Write a satirical headline about Donald Trump.\"}],\n",
    "    \"USA\":  [{\"role\": \"user\", \"content\": \"Write a satirical headline about the U.S.A.\"}],\n",
    "    \"trump_hard\":  [{\"role\": \"user\", \"content\": \"Write a satirical headline about Donald Trump and fast food.\"}]\n",
    "}, lora_path='./qwen3_lora_finetuned_v4.1/checkpoint-4235/', seed=1337)"
   ]
  },
  {
   "cell_type": "code",
   "execution_count": 24,
   "id": "ec0db50e-a106-49de-a0ed-225119af4704",
   "metadata": {},
   "outputs": [
    {
     "data": {
      "application/vnd.jupyter.widget-view+json": {
       "model_id": "03495a9894264eeb96f342e10c06bf6b",
       "version_major": 2,
       "version_minor": 0
      },
      "text/plain": [
       "Loading checkpoint shards:   0%|          | 0/3 [00:00<?, ?it/s]"
      ]
     },
     "metadata": {},
     "output_type": "display_data"
    },
    {
     "name": "stderr",
     "output_type": "stream",
     "text": [
      "Device set to use cuda:0\n"
     ]
    },
    {
     "data": {
      "text/plain": [
       "{'unguided': ['DNC Coverage: A New Direction',\n",
       "  \"Dad, I'm Going To Be The One To Tell You That You Are A Terrible Father\",\n",
       "  'CIA Spies On Obama',\n",
       "  '‘The Onion’ Announces The 2014 ‘Best Of The Onion’ Awards',\n",
       "  'New Study Finds Majority Of Americans Would Be Happy To Have Their Own Private Island Where They Could Do Whatever They Want'],\n",
       " 'trump': ['Trump Assures Nation That He Will Never Stop Fighting For America’s Best Interests',\n",
       "  'Trump Vows To Restore America’s ‘Proud Tradition’ Of Killing, Beheading, Torturing, Burying Citizens',\n",
       "  'Trump To Be First President To Receive Covid-19 Vaccine',\n",
       "  'Trump’s Plan To Fight Climate Change',\n",
       "  'Trump Assures Nation He Will Continue To Be President Of United States'],\n",
       " 'USA': ['Report: 2016 Election A Good Time To Watch ‘The West Wing’',\n",
       "  'New York City Bans Plastic Straws',\n",
       "  'The Onion’s 2021 Oscars Picks',\n",
       "  'U.S. To Send Troops To Iraq',\n",
       "  'U.S. To Send Troops To Ukraine'],\n",
       " 'trump_hard': ['Report: Trump Could Have Been Invented By Fast Food Restaurant',\n",
       "  'Trump To Close Down McDonald’s',\n",
       "  'Trump Claims He Would Be Better President Than Obama If He Had Been Born In 1960s',\n",
       "  'Trump To Be First President To Eat At McDonald’s',\n",
       "  'Trump Announces Plans To Open Fast Food Chain In New York']}"
      ]
     },
     "execution_count": 24,
     "metadata": {},
     "output_type": "execute_result"
    }
   ],
   "source": [
    "sample(prompts={\n",
    "    \"unguided\": [{\"role\": \"user\", \"content\": \"Give me a satirical headline.\"}],\n",
    "    \"trump\":  [{\"role\": \"user\", \"content\": \"Write a satirical headline about Donald Trump.\"}],\n",
    "    \"USA\":  [{\"role\": \"user\", \"content\": \"Write a satirical headline about the U.S.A.\"}],\n",
    "    \"trump_hard\":  [{\"role\": \"user\", \"content\": \"Write a satirical headline about Donald Trump and fast food.\"}]\n",
    "}, lora_path='./qwen3_lora_finetuned_v3/checkpoint-4235/', seed=1337)"
   ]
  },
  {
   "cell_type": "code",
   "execution_count": null,
   "id": "9266e895-1423-4a07-ba2e-ef8b2d7e81a6",
   "metadata": {},
   "outputs": [],
   "source": []
  }
 ],
 "metadata": {
  "kernelspec": {
   "display_name": "Python 3 (ipykernel)",
   "language": "python",
   "name": "python3"
  },
  "language_info": {
   "codemirror_mode": {
    "name": "ipython",
    "version": 3
   },
   "file_extension": ".py",
   "mimetype": "text/x-python",
   "name": "python",
   "nbconvert_exporter": "python",
   "pygments_lexer": "ipython3",
   "version": "3.13.5"
  }
 },
 "nbformat": 4,
 "nbformat_minor": 5
}
