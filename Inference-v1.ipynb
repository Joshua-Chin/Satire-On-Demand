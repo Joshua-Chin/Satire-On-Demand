{
 "cells": [
  {
   "cell_type": "code",
   "execution_count": 1,
   "id": "e92dbe9c-4ca5-461c-890e-8b6d06db7225",
   "metadata": {},
   "outputs": [
    {
     "data": {
      "application/vnd.jupyter.widget-view+json": {
       "model_id": "d96dae41b513402ab8babcfa07adef3c",
       "version_major": 2,
       "version_minor": 0
      },
      "text/plain": [
       "Loading checkpoint shards:   0%|          | 0/3 [00:00<?, ?it/s]"
      ]
     },
     "metadata": {},
     "output_type": "display_data"
    },
    {
     "name": "stderr",
     "output_type": "stream",
     "text": [
      "Device set to use cuda:0\n"
     ]
    }
   ],
   "source": [
    "import torch\n",
    "\n",
    "from transformers import AutoModelForCausalLM, AutoTokenizer, BitsAndBytesConfig, pipeline\n",
    "from peft import PeftModel\n",
    "\n",
    "torch.random.manual_seed(0)\n",
    "\n",
    "model_path = \"Qwen/Qwen3-4B-Instruct-2507\"\n",
    "\n",
    "bnb_config = BitsAndBytesConfig(\n",
    "    load_in_8bit=True,\n",
    ")\n",
    "\n",
    "model = AutoModelForCausalLM.from_pretrained(\n",
    "    model_path,\n",
    "    quantization_config=bnb_config,\n",
    "    device_map=\"auto\",\n",
    "    torch_dtype=\"auto\",\n",
    ")\n",
    "model = PeftModel.from_pretrained(model, 'qwen3_lora_finetuned/checkpoint-4235')\n",
    "\n",
    "tokenizer = AutoTokenizer.from_pretrained(model_path)\n",
    "\n",
    "pipe = pipeline(\n",
    "    \"text-generation\",\n",
    "    model=model,\n",
    "    tokenizer=tokenizer,\n",
    ")"
   ]
  },
  {
   "cell_type": "code",
   "execution_count": 22,
   "id": "7450a5e9-0e9b-4d1a-b47b-cac9e2f95af7",
   "metadata": {},
   "outputs": [
    {
     "name": "stderr",
     "output_type": "stream",
     "text": [
      "/home/joshuachin/miniconda3/envs/code-review/lib/python3.13/site-packages/bitsandbytes/autograd/_functions.py:186: UserWarning: MatMul8bitLt: inputs will be cast from torch.bfloat16 to float16 during quantization\n",
      "  warnings.warn(f\"MatMul8bitLt: inputs will be cast from {A.dtype} to float16 during quantization\")\n"
     ]
    },
    {
     "data": {
      "text/plain": [
       "[{'generated_text': [{'role': 'user',\n",
       "    'content': 'Write a satirical headline in the style of Onion News. Only write the headline.'},\n",
       "   {'role': 'assistant',\n",
       "    'content': '<think>\\n\\n</think>\\n\\nReport: 34% Of Americans Have No Idea How To Use Gun'}]},\n",
       " {'generated_text': [{'role': 'user',\n",
       "    'content': 'Write a satirical headline in the style of Onion News. Only write the headline.'},\n",
       "   {'role': 'assistant',\n",
       "    'content': \"<think>\\n\\n</think>\\n\\nNew York City Mayor: 'We Will Continue To Have The Largest Population Of Gay People In The World'\"}]},\n",
       " {'generated_text': [{'role': 'user',\n",
       "    'content': 'Write a satirical headline in the style of Onion News. Only write the headline.'},\n",
       "   {'role': 'assistant',\n",
       "    'content': '</tool_call>\\n\\n</tool_call>\\n\\nIowa Governor: ‘I Will Not Be Stopped By A Few Fucks’'}]},\n",
       " {'generated_text': [{'role': 'user',\n",
       "    'content': 'Write a satirical headline in the style of Onion News. Only write the headline.'},\n",
       "   {'role': 'assistant',\n",
       "    'content': '</tool_call>\\n\\n</think>\\n\\nReport: 47% Of Americans Will Be Dead By 2030'}]},\n",
       " {'generated_text': [{'role': 'user',\n",
       "    'content': 'Write a satirical headline in the style of Onion News. Only write the headline.'},\n",
       "   {'role': 'assistant',\n",
       "    'content': '<think>\\n\\n</think>\\n\\nBiden Signs Executive Order Banning TikTok'}]}]"
      ]
     },
     "execution_count": 22,
     "metadata": {},
     "output_type": "execute_result"
    }
   ],
   "source": [
    "generation_args = {\n",
    "    \"max_new_tokens\": 500,\n",
    "    \"return_full_text\": True,\n",
    "    \"do_sample\": True,\n",
    "    \"temperature\": 0.7,\n",
    "    \"top_p\": 0.8,\n",
    "    \"top_k\": 20,\n",
    "    \"min_p\": 0,\n",
    "}\n",
    "\n",
    "def get_prompt():\n",
    "    return [\n",
    "        {\n",
    "            \"role\": \"user\", \n",
    "            \"content\": \"Write a satirical headline in the style of Onion News. Only write the headline.\"\n",
    "        }\n",
    "    ]\n",
    "\n",
    "output = pipe(get_prompt(), num_return_sequences=5, **generation_args)\n",
    "output"
   ]
  },
  {
   "cell_type": "code",
   "execution_count": 14,
   "id": "d796b0ed-c124-4951-807d-dcc4d43b8b63",
   "metadata": {},
   "outputs": [
    {
     "data": {
      "text/plain": [
       "'<|im_start|>user\\nWrite a satirical headline in the style of Onion News. Only write the headline.<|im_end|>\\n<|im_start|>assistant\\n<think>\\n\\n</think>\\n\\nnTrump Campaign Announces It Will Stop Allowing Women On Campaign Bus<|im_end|>\\n'"
      ]
     },
     "execution_count": 14,
     "metadata": {},
     "output_type": "execute_result"
    }
   ],
   "source": [
    "prompt = get_prompt()\n",
    "prompt.append({\n",
    "    \"role\": \"assistant\",\n",
    "    \"content\": \"nTrump Campaign Announces It Will Stop Allowing Women On Campaign Bus\",\n",
    "})\n",
    "\n",
    "tokenizer.apply_chat_template(\n",
    "    prompt,\n",
    "    tokenize=False,\n",
    ")"
   ]
  },
  {
   "cell_type": "code",
   "execution_count": 15,
   "id": "2666902e-4ff0-459a-a52d-1c8231af57fc",
   "metadata": {},
   "outputs": [
    {
     "name": "stdout",
     "output_type": "stream",
     "text": [
      "{%- if tools %}\n",
      "    {{- '<|im_start|>system\\n' }}\n",
      "    {%- if messages[0].role == 'system' %}\n",
      "        {{- messages[0].content + '\\n\\n' }}\n",
      "    {%- endif %}\n",
      "    {{- \"# Tools\\n\\nYou may call one or more functions to assist with the user query.\\n\\nYou are provided with function signatures within <tools></tools> XML tags:\\n<tools>\" }}\n",
      "    {%- for tool in tools %}\n",
      "        {{- \"\\n\" }}\n",
      "        {{- tool | tojson }}\n",
      "    {%- endfor %}\n",
      "    {{- \"\\n</tools>\\n\\nFor each function call, return a json object with function name and arguments within <tool_call></tool_call> XML tags:\\n<tool_call>\\n{\\\"name\\\": <function-name>, \\\"arguments\\\": <args-json-object>}\\n</tool_call><|im_end|>\\n\" }}\n",
      "{%- else %}\n",
      "    {%- if messages[0].role == 'system' %}\n",
      "        {{- '<|im_start|>system\\n' + messages[0].content + '<|im_end|>\\n' }}\n",
      "    {%- endif %}\n",
      "{%- endif %}\n",
      "{%- set ns = namespace(multi_step_tool=true, last_query_index=messages|length - 1) %}\n",
      "{%- for message in messages[::-1] %}\n",
      "    {%- set index = (messages|length - 1) - loop.index0 %}\n",
      "    {%- if ns.multi_step_tool and message.role == \"user\" and message.content is string and not(message.content.startswith('<tool_response>') and message.content.endswith('</tool_response>')) %}\n",
      "        {%- set ns.multi_step_tool = false %}\n",
      "        {%- set ns.last_query_index = index %}\n",
      "    {%- endif %}\n",
      "{%- endfor %}\n",
      "{%- for message in messages %}\n",
      "    {%- if message.content is string %}\n",
      "        {%- set content = message.content %}\n",
      "    {%- else %}\n",
      "        {%- set content = '' %}\n",
      "    {%- endif %}\n",
      "    {%- if (message.role == \"user\") or (message.role == \"system\" and not loop.first) %}\n",
      "        {{- '<|im_start|>' + message.role + '\\n' + content + '<|im_end|>' + '\\n' }}\n",
      "    {%- elif message.role == \"assistant\" %}\n",
      "        {%- set reasoning_content = '' %}\n",
      "        {%- if message.reasoning_content is string %}\n",
      "            {%- set reasoning_content = message.reasoning_content %}\n",
      "        {%- else %}\n",
      "            {%- if '</think>' in content %}\n",
      "                {%- set reasoning_content = content.split('</think>')[0].rstrip('\\n').split('<think>')[-1].lstrip('\\n') %}\n",
      "                {%- set content = content.split('</think>')[-1].lstrip('\\n') %}\n",
      "            {%- endif %}\n",
      "        {%- endif %}\n",
      "        {%- if loop.index0 > ns.last_query_index %}\n",
      "            {%- if loop.last or (not loop.last and reasoning_content) %}\n",
      "                {{- '<|im_start|>' + message.role + '\\n<think>\\n' + reasoning_content.strip('\\n') + '\\n</think>\\n\\n' + content.lstrip('\\n') }}\n",
      "            {%- else %}\n",
      "                {{- '<|im_start|>' + message.role + '\\n' + content }}\n",
      "            {%- endif %}\n",
      "        {%- else %}\n",
      "            {{- '<|im_start|>' + message.role + '\\n' + content }}\n",
      "        {%- endif %}\n",
      "        {%- if message.tool_calls %}\n",
      "            {%- for tool_call in message.tool_calls %}\n",
      "                {%- if (loop.first and content) or (not loop.first) %}\n",
      "                    {{- '\\n' }}\n",
      "                {%- endif %}\n",
      "                {%- if tool_call.function %}\n",
      "                    {%- set tool_call = tool_call.function %}\n",
      "                {%- endif %}\n",
      "                {{- '<tool_call>\\n{\"name\": \"' }}\n",
      "                {{- tool_call.name }}\n",
      "                {{- '\", \"arguments\": ' }}\n",
      "                {%- if tool_call.arguments is string %}\n",
      "                    {{- tool_call.arguments }}\n",
      "                {%- else %}\n",
      "                    {{- tool_call.arguments | tojson }}\n",
      "                {%- endif %}\n",
      "                {{- '}\\n</tool_call>' }}\n",
      "            {%- endfor %}\n",
      "        {%- endif %}\n",
      "        {{- '<|im_end|>\\n' }}\n",
      "    {%- elif message.role == \"tool\" %}\n",
      "        {%- if loop.first or (messages[loop.index0 - 1].role != \"tool\") %}\n",
      "            {{- '<|im_start|>user' }}\n",
      "        {%- endif %}\n",
      "        {{- '\\n<tool_response>\\n' }}\n",
      "        {{- content }}\n",
      "        {{- '\\n</tool_response>' }}\n",
      "        {%- if loop.last or (messages[loop.index0 + 1].role != \"tool\") %}\n",
      "            {{- '<|im_end|>\\n' }}\n",
      "        {%- endif %}\n",
      "    {%- endif %}\n",
      "{%- endfor %}\n",
      "{%- if add_generation_prompt %}\n",
      "    {{- '<|im_start|>assistant\\n' }}\n",
      "{%- endif %}\n"
     ]
    }
   ],
   "source": [
    "print(tokenizer.chat_template)"
   ]
  },
  {
   "cell_type": "code",
   "execution_count": 17,
   "id": "8a87859e-c3c0-4062-a420-41b448d3a5ec",
   "metadata": {},
   "outputs": [
    {
     "data": {
      "text/plain": [
       "{'text': 'Relaxed Marie Kondo Now Says She Perfectly Happy Living In Waist-High Sewage #~# LOS ANGELES—Admitting that she’d made some major lifestyle changes since developing her famous KonMari method, a relaxed Marie Kondo told reporters Tuesday that she was now perfectly happy living in waist-high sewage. “The truth is, while I used to be very hard on myself about keeping everything clean, I’m now able to find peace living my life half-submerged in a large, fetid pool of human waste,” said Kondo, who added that while things like tidiness, organization, and minimalism used to spark joy for her, she now felt that same warmth from wading, floating, and swimming in the many gallons of untreated urine and feces that currently filled her home. “It was difficult, but once I had my children, I began to find it impossible to remove, clean, and sanitize the unending stream of excrement that bubbled up out of my toilets and filled my house to the point of collapse. While I used to hate it, I now see that each individual piece of human shit plays a part in creating a relaxed, easygoing atmosphere. And that is beautiful.” At press time, Kondo had publicly apologized to her fans after many admitted they had removed several feet of raw sewage from their own homes and now deeply regretted the decision.'}"
      ]
     },
     "execution_count": 17,
     "metadata": {},
     "output_type": "execute_result"
    }
   ],
   "source": [
    "from datasets import load_dataset\n",
    "\n",
    "ds = load_dataset(\"Biddls/Onion_News\")\n",
    "ds['train'][0]"
   ]
  },
  {
   "cell_type": "code",
   "execution_count": 18,
   "id": "8b0954b5-083f-4aea-8b2d-45cc0583182a",
   "metadata": {},
   "outputs": [
    {
     "data": {
      "text/plain": [
       "{'messages': [{'content': 'Write a satirical headline in the style of Onion News. Only write the headline.',\n",
       "   'role': 'user'},\n",
       "  {'content': 'Relaxed Marie Kondo Now Says She Perfectly Happy Living In Waist-High Sewage',\n",
       "   'role': 'assistant'}]}"
      ]
     },
     "execution_count": 18,
     "metadata": {},
     "output_type": "execute_result"
    }
   ],
   "source": [
    "SEP = '#~#'\n",
    "\n",
    "def get_as_messages(data):\n",
    "    headline = get_headline(data['text'])\n",
    "    messages = get_prompt()\n",
    "    messages.append(format_reply(headline))\n",
    "    return {'messages': messages}\n",
    "    \n",
    "def get_headline(text):\n",
    "    return text.split(SEP)[0].strip()\n",
    "\n",
    "def get_prompt():\n",
    "    return [\n",
    "        {\n",
    "            \"role\": \"user\", \n",
    "            \"content\": \"Write a satirical headline in the style of Onion News. Only write the headline.\"\n",
    "        }\n",
    "    ]\n",
    "\n",
    "def format_reply(headline):\n",
    "    return {\n",
    "        \"role\": \"assistant\",\n",
    "        \"content\": headline,\n",
    "    }\n",
    "\n",
    "messages_ds = ds.map(get_as_messages, remove_columns=['text'])\n",
    "messages_ds['train'][0]"
   ]
  },
  {
   "cell_type": "code",
   "execution_count": 21,
   "id": "ce113f31-e0d4-46ee-96b7-35c08e780088",
   "metadata": {},
   "outputs": [
    {
     "data": {
      "text/plain": [
       "['<|im_start|>user\\nWrite a satirical headline in the style of Onion News. Only write the headline.<|im_end|>\\n<|im_start|>assistant\\n<think>\\n\\n</think>\\n\\nRelaxed Marie Kondo Now Says She Perfectly Happy Living In Waist-High Sewage<|im_end|>\\n',\n",
       " '<|im_start|>user\\nWrite a satirical headline in the style of Onion News. Only write the headline.<|im_end|>\\n<|im_start|>assistant\\n<think>\\n\\n</think>\\n\\nU.S. Officials Call For Correct Amount Of Violence<|im_end|>\\n',\n",
       " '<|im_start|>user\\nWrite a satirical headline in the style of Onion News. Only write the headline.<|im_end|>\\n<|im_start|>assistant\\n<think>\\n\\n</think>\\n\\nKamala Harris Asks Communications Assistant If She Can Take Them Out For Coffee And Pick Their Brain Sometime<|im_end|>\\n',\n",
       " '<|im_start|>user\\nWrite a satirical headline in the style of Onion News. Only write the headline.<|im_end|>\\n<|im_start|>assistant\\n<think>\\n\\n</think>\\n\\n25 Arrested In Fake Nursing School Diploma Scheme<|im_end|>\\n',\n",
       " '<|im_start|>user\\nWrite a satirical headline in the style of Onion News. Only write the headline.<|im_end|>\\n<|im_start|>assistant\\n<think>\\n\\n</think>\\n\\nWorld’s Oldest American Dies At 72<|im_end|>\\n',\n",
       " '<|im_start|>user\\nWrite a satirical headline in the style of Onion News. Only write the headline.<|im_end|>\\n<|im_start|>assistant\\n<think>\\n\\n</think>\\n\\nReport: Everyone Laughing At What Is A Very Silly Misunderstanding, But Don’t Be Fooled—Even Now, The Seeds Of Resentment Are Taking Root<|im_end|>\\n',\n",
       " '<|im_start|>user\\nWrite a satirical headline in the style of Onion News. Only write the headline.<|im_end|>\\n<|im_start|>assistant\\n<think>\\n\\n</think>\\n\\nCEOs Explain How They Will Use ChatGPT<|im_end|>\\n',\n",
       " '<|im_start|>user\\nWrite a satirical headline in the style of Onion News. Only write the headline.<|im_end|>\\n<|im_start|>assistant\\n<think>\\n\\n</think>\\n\\nFDA Moves To Ease Blood Donation Rules For Gay And Bisexual Men<|im_end|>\\n',\n",
       " '<|im_start|>user\\nWrite a satirical headline in the style of Onion News. Only write the headline.<|im_end|>\\n<|im_start|>assistant\\n<think>\\n\\n</think>\\n\\nStudy Shows Humans Still Have Genes To Grow Full Coat Of Body Hair<|im_end|>\\n',\n",
       " '<|im_start|>user\\nWrite a satirical headline in the style of Onion News. Only write the headline.<|im_end|>\\n<|im_start|>assistant\\n<think>\\n\\n</think>\\n\\nLook What Happens When You Leave A McDonald’s Hamburger Out On A Counter For A Year<|im_end|>\\n']"
      ]
     },
     "execution_count": 21,
     "metadata": {},
     "output_type": "execute_result"
    }
   ],
   "source": [
    "tokenizer.apply_chat_template(\n",
    "    messages_ds['train'][:10]['messages'],\n",
    "    tokenize=False,\n",
    ")"
   ]
  },
  {
   "cell_type": "code",
   "execution_count": null,
   "id": "e9754f70-28b3-47a8-84df-e16e8f6a548c",
   "metadata": {},
   "outputs": [],
   "source": []
  }
 ],
 "metadata": {
  "kernelspec": {
   "display_name": "Python 3 (ipykernel)",
   "language": "python",
   "name": "python3"
  },
  "language_info": {
   "codemirror_mode": {
    "name": "ipython",
    "version": 3
   },
   "file_extension": ".py",
   "mimetype": "text/x-python",
   "name": "python",
   "nbconvert_exporter": "python",
   "pygments_lexer": "ipython3",
   "version": "3.13.5"
  }
 },
 "nbformat": 4,
 "nbformat_minor": 5
}
