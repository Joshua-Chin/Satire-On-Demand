{
 "cells": [
  {
   "cell_type": "code",
   "execution_count": 1,
   "id": "e92dbe9c-4ca5-461c-890e-8b6d06db7225",
   "metadata": {},
   "outputs": [
    {
     "data": {
      "application/vnd.jupyter.widget-view+json": {
       "model_id": "a65fd6d790ef416ba88420a2c5f82c6a",
       "version_major": 2,
       "version_minor": 0
      },
      "text/plain": [
       "Loading checkpoint shards:   0%|          | 0/3 [00:00<?, ?it/s]"
      ]
     },
     "metadata": {},
     "output_type": "display_data"
    },
    {
     "name": "stderr",
     "output_type": "stream",
     "text": [
      "Device set to use cuda:0\n"
     ]
    }
   ],
   "source": [
    "import torch\n",
    "\n",
    "from transformers import AutoModelForCausalLM, AutoTokenizer, BitsAndBytesConfig, pipeline\n",
    "from peft import PeftModel\n",
    "\n",
    "torch.random.manual_seed(0)\n",
    "\n",
    "model_path = \"Qwen/Qwen3-4B-Instruct-2507\"\n",
    "\n",
    "bnb_config = BitsAndBytesConfig(\n",
    "    load_in_8bit=True,\n",
    ")\n",
    "\n",
    "model = AutoModelForCausalLM.from_pretrained(\n",
    "    model_path,\n",
    "    quantization_config=bnb_config,\n",
    "    device_map=\"auto\",\n",
    "    torch_dtype=\"auto\",\n",
    ")\n",
    "model = PeftModel.from_pretrained(model, 'qwen3_lora_finetuned/checkpoint-4235')\n",
    "\n",
    "tokenizer = AutoTokenizer.from_pretrained(model_path)\n",
    "\n",
    "pipe = pipeline(\n",
    "    \"text-generation\",\n",
    "    model=model,\n",
    "    tokenizer=tokenizer,\n",
    ")"
   ]
  },
  {
   "cell_type": "code",
   "execution_count": 2,
   "id": "7450a5e9-0e9b-4d1a-b47b-cac9e2f95af7",
   "metadata": {},
   "outputs": [
    {
     "name": "stderr",
     "output_type": "stream",
     "text": [
      "/home/joshuachin/miniconda3/envs/code-review/lib/python3.13/site-packages/bitsandbytes/autograd/_functions.py:186: UserWarning: MatMul8bitLt: inputs will be cast from torch.bfloat16 to float16 during quantization\n",
      "  warnings.warn(f\"MatMul8bitLt: inputs will be cast from {A.dtype} to float16 during quantization\")\n"
     ]
    },
    {
     "data": {
      "text/plain": [
       "[{'generated_text': [{'role': 'user',\n",
       "    'content': 'Write a satirical headline in the style of Onion News. Only write the headline.'},\n",
       "   {'role': 'assistant',\n",
       "    'content': '<think>\\n\\n</think>\\n\\nU.S. To Reopen Embassy In Jerusalem'}]},\n",
       " {'generated_text': [{'role': 'user',\n",
       "    'content': 'Write a satirical headline in the style of Onion News. Only write the headline.'},\n",
       "   {'role': 'assistant',\n",
       "    'content': '<think>\\n\\n</think>\\n\\nCatholic Church Reopens To The Public After 14 Years Of Lockdown'}]},\n",
       " {'generated_text': [{'role': 'user',\n",
       "    'content': 'Write a satirical headline in the style of Onion News. Only write the headline.'},\n",
       "   {'role': 'assistant',\n",
       "    'content': '<think>\\n\\n</think>\\n\\nNew Study Finds Humans Evolved To Be Good At Hiding Their Emotions'}]},\n",
       " {'generated_text': [{'role': 'user',\n",
       "    'content': 'Write a satirical headline in the style of Onion News. Only write the headline.'},\n",
       "   {'role': 'assistant',\n",
       "    'content': '</tool_call>\\n\\n</tool_call>\\n\\nNation’s Parents Announce They’re Going To Be Like This For Next 10 Years'}]},\n",
       " {'generated_text': [{'role': 'user',\n",
       "    'content': 'Write a satirical headline in the style of Onion News. Only write the headline.'},\n",
       "   {'role': 'assistant',\n",
       "    'content': '<tool_call>\\n\\nArea Man Just Going To Assume He’s Going To Be Dead In 2015'}]}]"
      ]
     },
     "execution_count": 2,
     "metadata": {},
     "output_type": "execute_result"
    }
   ],
   "source": [
    "generation_args = {\n",
    "    \"max_new_tokens\": 500,\n",
    "    \"return_full_text\": True,\n",
    "    \"do_sample\": True,\n",
    "    \"temperature\": 0.7,\n",
    "    \"top_p\": 0.8,\n",
    "    \"top_k\": 20,\n",
    "    \"min_p\": 0,\n",
    "}\n",
    "\n",
    "def get_prompt():\n",
    "    return [\n",
    "        {\n",
    "            \"role\": \"user\", \n",
    "            \"content\": \"Write a satirical headline in the style of Onion News. Only write the headline.\"\n",
    "        }\n",
    "    ]\n",
    "\n",
    "output = pipe(get_prompt(), num_return_sequences=5, **generation_args)\n",
    "output"
   ]
  },
  {
   "cell_type": "code",
   "execution_count": 3,
   "id": "d796b0ed-c124-4951-807d-dcc4d43b8b63",
   "metadata": {},
   "outputs": [
    {
     "data": {
      "text/plain": [
       "'<|im_start|>user\\nWrite a satirical headline in the style of Onion News. Only write the headline.<|im_end|>\\n<|im_start|>assistant\\n<think>\\n\\n</think>\\n\\nU.S. To Reopen Embassy In Jerusalem<|im_end|>\\n'"
      ]
     },
     "execution_count": 3,
     "metadata": {},
     "output_type": "execute_result"
    }
   ],
   "source": [
    "prompt = get_prompt()\n",
    "prompt.append({\n",
    "    \"role\": \"assistant\",\n",
    "    \"content\": \"U.S. To Reopen Embassy In Jerusalem\",\n",
    "})\n",
    "\n",
    "tokenizer.apply_chat_template(\n",
    "    prompt,\n",
    "    tokenize=False,\n",
    ")"
   ]
  },
  {
   "cell_type": "code",
   "execution_count": 4,
   "id": "2666902e-4ff0-459a-a52d-1c8231af57fc",
   "metadata": {},
   "outputs": [
    {
     "name": "stdout",
     "output_type": "stream",
     "text": [
      "{%- if tools %}\n",
      "    {{- '<|im_start|>system\\n' }}\n",
      "    {%- if messages[0].role == 'system' %}\n",
      "        {{- messages[0].content + '\\n\\n' }}\n",
      "    {%- endif %}\n",
      "    {{- \"# Tools\\n\\nYou may call one or more functions to assist with the user query.\\n\\nYou are provided with function signatures within <tools></tools> XML tags:\\n<tools>\" }}\n",
      "    {%- for tool in tools %}\n",
      "        {{- \"\\n\" }}\n",
      "        {{- tool | tojson }}\n",
      "    {%- endfor %}\n",
      "    {{- \"\\n</tools>\\n\\nFor each function call, return a json object with function name and arguments within <tool_call></tool_call> XML tags:\\n<tool_call>\\n{\\\"name\\\": <function-name>, \\\"arguments\\\": <args-json-object>}\\n</tool_call><|im_end|>\\n\" }}\n",
      "{%- else %}\n",
      "    {%- if messages[0].role == 'system' %}\n",
      "        {{- '<|im_start|>system\\n' + messages[0].content + '<|im_end|>\\n' }}\n",
      "    {%- endif %}\n",
      "{%- endif %}\n",
      "{%- set ns = namespace(multi_step_tool=true, last_query_index=messages|length - 1) %}\n",
      "{%- for message in messages[::-1] %}\n",
      "    {%- set index = (messages|length - 1) - loop.index0 %}\n",
      "    {%- if ns.multi_step_tool and message.role == \"user\" and message.content is string and not(message.content.startswith('<tool_response>') and message.content.endswith('</tool_response>')) %}\n",
      "        {%- set ns.multi_step_tool = false %}\n",
      "        {%- set ns.last_query_index = index %}\n",
      "    {%- endif %}\n",
      "{%- endfor %}\n",
      "{%- for message in messages %}\n",
      "    {%- if message.content is string %}\n",
      "        {%- set content = message.content %}\n",
      "    {%- else %}\n",
      "        {%- set content = '' %}\n",
      "    {%- endif %}\n",
      "    {%- if (message.role == \"user\") or (message.role == \"system\" and not loop.first) %}\n",
      "        {{- '<|im_start|>' + message.role + '\\n' + content + '<|im_end|>' + '\\n' }}\n",
      "    {%- elif message.role == \"assistant\" %}\n",
      "        {%- set reasoning_content = '' %}\n",
      "        {%- if message.reasoning_content is string %}\n",
      "            {%- set reasoning_content = message.reasoning_content %}\n",
      "        {%- else %}\n",
      "            {%- if '</think>' in content %}\n",
      "                {%- set reasoning_content = content.split('</think>')[0].rstrip('\\n').split('<think>')[-1].lstrip('\\n') %}\n",
      "                {%- set content = content.split('</think>')[-1].lstrip('\\n') %}\n",
      "            {%- endif %}\n",
      "        {%- endif %}\n",
      "        {%- if loop.index0 > ns.last_query_index %}\n",
      "            {%- if loop.last or (not loop.last and reasoning_content) %}\n",
      "                {{- '<|im_start|>' + message.role + '\\n<think>\\n' + reasoning_content.strip('\\n') + '\\n</think>\\n\\n' + content.lstrip('\\n') }}\n",
      "            {%- else %}\n",
      "                {{- '<|im_start|>' + message.role + '\\n' + content }}\n",
      "            {%- endif %}\n",
      "        {%- else %}\n",
      "            {{- '<|im_start|>' + message.role + '\\n' + content }}\n",
      "        {%- endif %}\n",
      "        {%- if message.tool_calls %}\n",
      "            {%- for tool_call in message.tool_calls %}\n",
      "                {%- if (loop.first and content) or (not loop.first) %}\n",
      "                    {{- '\\n' }}\n",
      "                {%- endif %}\n",
      "                {%- if tool_call.function %}\n",
      "                    {%- set tool_call = tool_call.function %}\n",
      "                {%- endif %}\n",
      "                {{- '<tool_call>\\n{\"name\": \"' }}\n",
      "                {{- tool_call.name }}\n",
      "                {{- '\", \"arguments\": ' }}\n",
      "                {%- if tool_call.arguments is string %}\n",
      "                    {{- tool_call.arguments }}\n",
      "                {%- else %}\n",
      "                    {{- tool_call.arguments | tojson }}\n",
      "                {%- endif %}\n",
      "                {{- '}\\n</tool_call>' }}\n",
      "            {%- endfor %}\n",
      "        {%- endif %}\n",
      "        {{- '<|im_end|>\\n' }}\n",
      "    {%- elif message.role == \"tool\" %}\n",
      "        {%- if loop.first or (messages[loop.index0 - 1].role != \"tool\") %}\n",
      "            {{- '<|im_start|>user' }}\n",
      "        {%- endif %}\n",
      "        {{- '\\n<tool_response>\\n' }}\n",
      "        {{- content }}\n",
      "        {{- '\\n</tool_response>' }}\n",
      "        {%- if loop.last or (messages[loop.index0 + 1].role != \"tool\") %}\n",
      "            {{- '<|im_end|>\\n' }}\n",
      "        {%- endif %}\n",
      "    {%- endif %}\n",
      "{%- endfor %}\n",
      "{%- if add_generation_prompt %}\n",
      "    {{- '<|im_start|>assistant\\n' }}\n",
      "{%- endif %}\n"
     ]
    }
   ],
   "source": [
    "print(tokenizer.chat_template)"
   ]
  },
  {
   "cell_type": "code",
   "execution_count": 5,
   "id": "ce113f31-e0d4-46ee-96b7-35c08e780088",
   "metadata": {},
   "outputs": [
    {
     "data": {
      "text/plain": [
       "'<|im_start|>user\\nWrite a satirical headline in the style of Onion News. Only write the headline.<im_end>\\n<|im_start|>assistant\\nU.S. To Reopen Embassy In Jerusalem<im_end>\\n'"
      ]
     },
     "execution_count": 5,
     "metadata": {},
     "output_type": "execute_result"
    }
   ],
   "source": [
    "new_template = '''{% for message in messages %}{{'<|im_start|>' + message['role'] + '\\\\n' + message['content'] + '<im_end>' + '\\\\n'}}{% endfor %}{% if add_generation_prompt %}{{ '<|im_start|>assistant\\\\n' }}{% endif %}'''\n",
    "\n",
    "if tokenizer.chat_template != new_template:\n",
    "    original_template = tokenizer.chat_template\n",
    "    tokenizer.chat_template = new_template\n",
    "\n",
    "tokenizer.apply_chat_template(\n",
    "    prompt,\n",
    "    tokenize=False,\n",
    ")"
   ]
  },
  {
   "cell_type": "code",
   "execution_count": 6,
   "id": "e9754f70-28b3-47a8-84df-e16e8f6a548c",
   "metadata": {},
   "outputs": [
    {
     "data": {
      "text/plain": [
       "[{'generated_text': [{'role': 'user',\n",
       "    'content': 'Write a satirical headline in the style of Onion News about the housing market.'},\n",
       "   {'role': 'assistant',\n",
       "    'content': '<think>\\n\\n</think>\\n\\nPros And Cons Of The Mortgage Forgiveness Debt Relief Act'}]},\n",
       " {'generated_text': [{'role': 'user',\n",
       "    'content': 'Write a satirical headline in the style of Onion News about the housing market.'},\n",
       "   {'role': 'assistant',\n",
       "    'content': '</tool_call>\\n\\n</think>\\n\\nMan Who Got 100% On SAT Not Sure Why He Didn’t Take It Earlier In Life'}]},\n",
       " {'generated_text': [{'role': 'user',\n",
       "    'content': 'Write a satirical headline in the style of Onion News about the housing market.'},\n",
       "   {'role': 'assistant',\n",
       "    'content': '<tool_call>\\n\\nNation’s Homebuyers Announce Plans To Get Their First Homes During Great Recession'}]},\n",
       " {'generated_text': [{'role': 'user',\n",
       "    'content': 'Write a satirical headline in the style of Onion News about the housing market.'},\n",
       "   {'role': 'assistant',\n",
       "    'content': \"</tool_call>\\n\\n<tool_call>\\n\\nNation's Unemployed Workers Rally To Take Down 33% Of U.S. Economy In One Day\"}]},\n",
       " {'generated_text': [{'role': 'user',\n",
       "    'content': 'Write a satirical headline in the style of Onion News about the housing market.'},\n",
       "   {'role': 'assistant',\n",
       "    'content': '<think>\\n\\n<tool_call>\\n\\nNew Study Finds 1 In 3 U.S. Homeowners Still Paying Off Parents’ Mortgage'}]}]"
      ]
     },
     "execution_count": 6,
     "metadata": {},
     "output_type": "execute_result"
    }
   ],
   "source": [
    "guided_prompt = [{\n",
    "    \"role\": \"user\", \n",
    "    \"content\": \"Write a satirical headline in the style of Onion News about the housing market.\"\n",
    "}]\n",
    "\n",
    "output = pipe(guided_prompt, num_return_sequences=5, **generation_args)\n",
    "output"
   ]
  },
  {
   "cell_type": "code",
   "execution_count": null,
   "id": "0783a2c0-2ce8-41f6-b680-7ac88e57f6a5",
   "metadata": {},
   "outputs": [],
   "source": []
  }
 ],
 "metadata": {
  "kernelspec": {
   "display_name": "Python 3 (ipykernel)",
   "language": "python",
   "name": "python3"
  },
  "language_info": {
   "codemirror_mode": {
    "name": "ipython",
    "version": 3
   },
   "file_extension": ".py",
   "mimetype": "text/x-python",
   "name": "python",
   "nbconvert_exporter": "python",
   "pygments_lexer": "ipython3",
   "version": "3.13.5"
  }
 },
 "nbformat": 4,
 "nbformat_minor": 5
}
