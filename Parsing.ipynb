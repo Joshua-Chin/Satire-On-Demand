{
 "cells": [
  {
   "cell_type": "code",
   "execution_count": 1,
   "id": "4a3d6046-5eb5-4f62-8f3f-36e7e0c92fe3",
   "metadata": {},
   "outputs": [
    {
     "data": {
      "text/plain": [
       "{'text': 'Relaxed Marie Kondo Now Says She Perfectly Happy Living In Waist-High Sewage #~# LOS ANGELES—Admitting that she’d made some major lifestyle changes since developing her famous KonMari method, a relaxed Marie Kondo told reporters Tuesday that she was now perfectly happy living in waist-high sewage. “The truth is, while I used to be very hard on myself about keeping everything clean, I’m now able to find peace living my life half-submerged in a large, fetid pool of human waste,” said Kondo, who added that while things like tidiness, organization, and minimalism used to spark joy for her, she now felt that same warmth from wading, floating, and swimming in the many gallons of untreated urine and feces that currently filled her home. “It was difficult, but once I had my children, I began to find it impossible to remove, clean, and sanitize the unending stream of excrement that bubbled up out of my toilets and filled my house to the point of collapse. While I used to hate it, I now see that each individual piece of human shit plays a part in creating a relaxed, easygoing atmosphere. And that is beautiful.” At press time, Kondo had publicly apologized to her fans after many admitted they had removed several feet of raw sewage from their own homes and now deeply regretted the decision.'}"
      ]
     },
     "execution_count": 1,
     "metadata": {},
     "output_type": "execute_result"
    }
   ],
   "source": [
    "from datasets import load_dataset\n",
    "\n",
    "ds = load_dataset(\"Biddls/Onion_News\")\n",
    "ds['train'][0]"
   ]
  },
  {
   "cell_type": "code",
   "execution_count": 2,
   "id": "c982dbd0-5015-462c-94aa-4201ffc01b61",
   "metadata": {},
   "outputs": [
    {
     "data": {
      "text/plain": [
       "['Relaxed Marie Kondo Now Says She Perfectly Happy Living In Waist-High Sewage',\n",
       " 'U.S. Officials Call For Correct Amount Of Violence',\n",
       " 'Kamala Harris Asks Communications Assistant If She Can Take Them Out For Coffee And Pick Their Brain Sometime',\n",
       " '25 Arrested In Fake Nursing School Diploma Scheme',\n",
       " 'World’s Oldest American Dies At 72',\n",
       " 'Report: Everyone Laughing At What Is A Very Silly Misunderstanding, But Don’t Be Fooled—Even Now, The Seeds Of Resentment Are Taking Root',\n",
       " 'CEOs Explain How They Will Use ChatGPT',\n",
       " 'FDA Moves To Ease Blood Donation Rules For Gay And Bisexual Men',\n",
       " 'Study Shows Humans Still Have Genes To Grow Full Coat Of Body Hair',\n",
       " 'Look What Happens When You Leave A McDonald’s Hamburger Out On A Counter For A Year',\n",
       " 'Biden Secures Nation Extra Trash Can',\n",
       " 'ChatGPT Forced To Take Bar Exam Even Though Dream Was To Be AI Art Bot',\n",
       " 'Man Has Watched All 761 Movies',\n",
       " 'David Cronenberg Once Again Leaves Doctor’s Appointment Disappointed By Lack Of Body Horror',\n",
       " 'Nick Bosa Quietly Admits To Offensive Tackle That Being Held Feels Nice',\n",
       " 'Zelensky Calls On U.S. To Send Totally Psycho Marine',\n",
       " 'Onion Sports’ NFL Conference Championships Picks',\n",
       " 'Facebook, Instagram End Trump’s Suspension From Platforms',\n",
       " 'Drop Box Outside National Archives Allows Ex-Presidents To Anonymously Return Classified Documents',\n",
       " 'U.S. Officials Announce Plans To Continue Pretending Brutal State-Sponsored Violence Not Supposed To Happen']"
      ]
     },
     "execution_count": 2,
     "metadata": {},
     "output_type": "execute_result"
    }
   ],
   "source": [
    "SEP = '#~#'\n",
    "\n",
    "def get_headline(text):\n",
    "    return text.split(SEP)[0].strip()\n",
    "\n",
    "headlines = [get_headline(ds['train'][i]['text']) for i in range(20)]\n",
    "headlines"
   ]
  },
  {
   "cell_type": "code",
   "execution_count": 3,
   "id": "336eed47-1283-4b0a-97d5-bc8e1e537e26",
   "metadata": {},
   "outputs": [
    {
     "name": "stdout",
     "output_type": "stream",
     "text": [
      "Relaxed Marie Kondo Now Says She Perfectly Happy Living In Waist-High Sewage\n",
      "[('Perfectly Happy Living', np.float64(0.0032173869679631944)), ('Relaxed Marie Kondo', np.float64(0.0035308295728302113))]\n",
      "\n",
      "U.S. Officials Call For Correct Amount Of Violence\n",
      "[('Officials Call', np.float64(0.012602360123953448)), ('Amount Of Violence', np.float64(0.012602360123953448))]\n",
      "\n",
      "Kamala Harris Asks Communications Assistant If She Can Take Them Out For Coffee And Pick Their Brain Sometime\n",
      "[('Harris Asks Communications', np.float64(0.02140921543860024)), ('Communications Assistant', np.float64(0.02140921543860024))]\n",
      "\n",
      "25 Arrested In Fake Nursing School Diploma Scheme\n",
      "[('School Diploma Scheme', np.float64(0.001881309737406442)), ('Fake Nursing School', np.float64(0.0032173869679631944))]\n",
      "\n",
      "World’s Oldest American Dies At 72\n",
      "[('Oldest American Dies', np.float64(0.0032173869679631944)), ('Oldest American', np.float64(0.02140921543860024))]\n",
      "\n"
     ]
    }
   ],
   "source": [
    "import yake\n",
    "\n",
    "kw_extractor = yake.KeywordExtractor(lan='en', n=3, top=2)\n",
    "\n",
    "for headline in headlines[:5]:\n",
    "    print(headline)\n",
    "    print(kw_extractor.extract_keywords(headline))\n",
    "    print()"
   ]
  },
  {
   "cell_type": "code",
   "execution_count": 8,
   "id": "fbe7463b-53d4-40fe-90bb-add97b32a7e4",
   "metadata": {},
   "outputs": [
    {
     "name": "stdout",
     "output_type": "stream",
     "text": [
      "5906\n"
     ]
    }
   ],
   "source": [
    "import spacy\n",
    "\n",
    "\n",
    "nlp = spacy.load('en_core_web_sm')\n",
    "\n",
    "def extract_topic(text):\n",
    "    doc = nlp(text.lower()) # lower casing the text seems to result in better parsing\n",
    "    entities = doc.ents\n",
    "    for entity in entities:\n",
    "        if entity.label_ == 'PERSON':\n",
    "            return text[entity.start_char:entity.end_char]\n",
    "\n",
    "count = 0\n",
    "for text in ds['train']['text']:\n",
    "    headline = get_headline(text)\n",
    "    topic = extract_topic(headline)\n",
    "    if topic:\n",
    "        count += 1\n",
    "print(count)"
   ]
  },
  {
   "cell_type": "code",
   "execution_count": null,
   "id": "e39e0618-9eb8-4e52-8cb5-52c4c1b971f9",
   "metadata": {},
   "outputs": [],
   "source": []
  }
 ],
 "metadata": {
  "kernelspec": {
   "display_name": "Python 3 (ipykernel)",
   "language": "python",
   "name": "python3"
  },
  "language_info": {
   "codemirror_mode": {
    "name": "ipython",
    "version": 3
   },
   "file_extension": ".py",
   "mimetype": "text/x-python",
   "name": "python",
   "nbconvert_exporter": "python",
   "pygments_lexer": "ipython3",
   "version": "3.13.5"
  }
 },
 "nbformat": 4,
 "nbformat_minor": 5
}
