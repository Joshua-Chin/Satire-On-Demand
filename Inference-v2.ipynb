{
 "cells": [
  {
   "cell_type": "code",
   "execution_count": 1,
   "id": "e92dbe9c-4ca5-461c-890e-8b6d06db7225",
   "metadata": {},
   "outputs": [
    {
     "data": {
      "application/vnd.jupyter.widget-view+json": {
       "model_id": "533b6a88f9554ca4a8507d1c175698bc",
       "version_major": 2,
       "version_minor": 0
      },
      "text/plain": [
       "Loading checkpoint shards:   0%|          | 0/3 [00:00<?, ?it/s]"
      ]
     },
     "metadata": {},
     "output_type": "display_data"
    },
    {
     "name": "stderr",
     "output_type": "stream",
     "text": [
      "Device set to use cuda:0\n"
     ]
    }
   ],
   "source": [
    "import torch\n",
    "\n",
    "from transformers import AutoModelForCausalLM, AutoTokenizer, BitsAndBytesConfig, pipeline\n",
    "from peft import PeftModel\n",
    "\n",
    "torch.random.manual_seed(0)\n",
    "\n",
    "model_path = \"Qwen/Qwen3-4B-Instruct-2507\"\n",
    "\n",
    "bnb_config = BitsAndBytesConfig(\n",
    "    load_in_8bit=True,\n",
    ")\n",
    "\n",
    "model = AutoModelForCausalLM.from_pretrained(\n",
    "    model_path,\n",
    "    quantization_config=bnb_config,\n",
    "    device_map=\"auto\",\n",
    "    torch_dtype=\"auto\",\n",
    ")\n",
    "model = PeftModel.from_pretrained(model, 'qwen3_lora_finetuned_v2/checkpoint-2118/')\n",
    "\n",
    "tokenizer = AutoTokenizer.from_pretrained(model_path)\n",
    "\n",
    "pipe = pipeline(\n",
    "    \"text-generation\",\n",
    "    model=model,\n",
    "    tokenizer=tokenizer,\n",
    ")"
   ]
  },
  {
   "cell_type": "code",
   "execution_count": 3,
   "id": "7450a5e9-0e9b-4d1a-b47b-cac9e2f95af7",
   "metadata": {},
   "outputs": [
    {
     "data": {
      "text/plain": [
       "[{'generated_text': [{'role': 'user',\n",
       "    'content': 'Write a satirical headline about Donald Trump.'},\n",
       "   {'role': 'assistant',\n",
       "    'content': 'Donald Trump. Trump. Trump. Trump. Trump. Trump. Trump. Trump. Trump. Trump. Trump. Trump. Trump. Trump. Trump. Trump. Trump. Trump. Trump. Trump. Trump. Trump. Trump. Trump. Trump'}]},\n",
       " {'generated_text': [{'role': 'user',\n",
       "    'content': 'Write a satirical headline about Donald Trump.'},\n",
       "   {'role': 'assistant',\n",
       "    'content': 'Donald Trump: ‘I Want To Be President’<im_end>\\nassistant\\nDonald Trump: ‘I Want To Be President’<im_end>\\nassistant\\nDonald Trump: ‘I Want To Be President’<im_end>\\nassistant'}]},\n",
       " {'generated_text': [{'role': 'user',\n",
       "    'content': 'Write a satirical headline about Donald Trump.'},\n",
       "   {'role': 'assistant',\n",
       "    'content': 'Donald Trump Announces He’s Running For President Again<im_end>\\nassistant\\nDonald Trump Announces He’s Running For President Again<im_end>\\nassistant\\nDonald Trump Announces He’s Running For President Again<im_end>\\nassistant'}]},\n",
       " {'generated_text': [{'role': 'user',\n",
       "    'content': 'Write a satirical headline about Donald Trump.'},\n",
       "   {'role': 'assistant',\n",
       "    'content': 'Donald Trump, Melania Trump, Ivanka Trump, And Donald Trump Jr. Announce Plan To Form New Party Called ‘Trumpet’<im_end>\\nassistant\\nDonald Trump, Melania Trump, Ivanka Trump, And Donald Trump Jr. Announce Plan'}]},\n",
       " {'generated_text': [{'role': 'user',\n",
       "    'content': 'Write a satirical headline about Donald Trump.'},\n",
       "   {'role': 'assistant',\n",
       "    'content': 'Donald Trump’s First 100 Days In Office: What To Expect<im_end>\\nassistant\\nDonald Trump’s First 100 Days In Office: What To Expect<im_end>\\nassistant\\nWhat To Expect In Donald Trump'}]}]"
      ]
     },
     "execution_count": 3,
     "metadata": {},
     "output_type": "execute_result"
    }
   ],
   "source": [
    "generation_args = {\n",
    "    \"max_new_tokens\": 50,\n",
    "    \"return_full_text\": True,\n",
    "    \"do_sample\": True,\n",
    "    \"temperature\": 0.7,\n",
    "    \"top_p\": 0.8,\n",
    "    \"top_k\": 20,\n",
    "    \"min_p\": 0,\n",
    "}\n",
    "\n",
    "def get_prompt():\n",
    "    return [\n",
    "        {\n",
    "            \"role\": \"user\", \n",
    "            \"content\": \"Write a satirical headline about Donald Trump.\"\n",
    "        }\n",
    "    ]\n",
    "\n",
    "output = pipe(get_prompt(), num_return_sequences=5, **generation_args)\n",
    "output"
   ]
  },
  {
   "cell_type": "code",
   "execution_count": 3,
   "id": "d796b0ed-c124-4951-807d-dcc4d43b8b63",
   "metadata": {},
   "outputs": [
    {
     "data": {
      "text/plain": [
       "'<|im_start|>user\\nWrite a satirical headline in the style of Onion News. Only write the headline.<|im_end|>\\n<|im_start|>assistant\\n<think>\\n\\n</think>\\n\\nU.S. To Reopen Embassy In Jerusalem<|im_end|>\\n'"
      ]
     },
     "execution_count": 3,
     "metadata": {},
     "output_type": "execute_result"
    }
   ],
   "source": [
    "prompt = get_prompt()\n",
    "prompt.append({\n",
    "    \"role\": \"assistant\",\n",
    "    \"content\": \"U.S. To Reopen Embassy In Jerusalem\",\n",
    "})\n",
    "\n",
    "tokenizer.apply_chat_template(\n",
    "    prompt,\n",
    "    tokenize=False,\n",
    ")"
   ]
  },
  {
   "cell_type": "code",
   "execution_count": 4,
   "id": "2666902e-4ff0-459a-a52d-1c8231af57fc",
   "metadata": {},
   "outputs": [
    {
     "name": "stdout",
     "output_type": "stream",
     "text": [
      "{%- if tools %}\n",
      "    {{- '<|im_start|>system\\n' }}\n",
      "    {%- if messages[0].role == 'system' %}\n",
      "        {{- messages[0].content + '\\n\\n' }}\n",
      "    {%- endif %}\n",
      "    {{- \"# Tools\\n\\nYou may call one or more functions to assist with the user query.\\n\\nYou are provided with function signatures within <tools></tools> XML tags:\\n<tools>\" }}\n",
      "    {%- for tool in tools %}\n",
      "        {{- \"\\n\" }}\n",
      "        {{- tool | tojson }}\n",
      "    {%- endfor %}\n",
      "    {{- \"\\n</tools>\\n\\nFor each function call, return a json object with function name and arguments within <tool_call></tool_call> XML tags:\\n<tool_call>\\n{\\\"name\\\": <function-name>, \\\"arguments\\\": <args-json-object>}\\n</tool_call><|im_end|>\\n\" }}\n",
      "{%- else %}\n",
      "    {%- if messages[0].role == 'system' %}\n",
      "        {{- '<|im_start|>system\\n' + messages[0].content + '<|im_end|>\\n' }}\n",
      "    {%- endif %}\n",
      "{%- endif %}\n",
      "{%- set ns = namespace(multi_step_tool=true, last_query_index=messages|length - 1) %}\n",
      "{%- for message in messages[::-1] %}\n",
      "    {%- set index = (messages|length - 1) - loop.index0 %}\n",
      "    {%- if ns.multi_step_tool and message.role == \"user\" and message.content is string and not(message.content.startswith('<tool_response>') and message.content.endswith('</tool_response>')) %}\n",
      "        {%- set ns.multi_step_tool = false %}\n",
      "        {%- set ns.last_query_index = index %}\n",
      "    {%- endif %}\n",
      "{%- endfor %}\n",
      "{%- for message in messages %}\n",
      "    {%- if message.content is string %}\n",
      "        {%- set content = message.content %}\n",
      "    {%- else %}\n",
      "        {%- set content = '' %}\n",
      "    {%- endif %}\n",
      "    {%- if (message.role == \"user\") or (message.role == \"system\" and not loop.first) %}\n",
      "        {{- '<|im_start|>' + message.role + '\\n' + content + '<|im_end|>' + '\\n' }}\n",
      "    {%- elif message.role == \"assistant\" %}\n",
      "        {%- set reasoning_content = '' %}\n",
      "        {%- if message.reasoning_content is string %}\n",
      "            {%- set reasoning_content = message.reasoning_content %}\n",
      "        {%- else %}\n",
      "            {%- if '</think>' in content %}\n",
      "                {%- set reasoning_content = content.split('</think>')[0].rstrip('\\n').split('<think>')[-1].lstrip('\\n') %}\n",
      "                {%- set content = content.split('</think>')[-1].lstrip('\\n') %}\n",
      "            {%- endif %}\n",
      "        {%- endif %}\n",
      "        {%- if loop.index0 > ns.last_query_index %}\n",
      "            {%- if loop.last or (not loop.last and reasoning_content) %}\n",
      "                {{- '<|im_start|>' + message.role + '\\n<think>\\n' + reasoning_content.strip('\\n') + '\\n</think>\\n\\n' + content.lstrip('\\n') }}\n",
      "            {%- else %}\n",
      "                {{- '<|im_start|>' + message.role + '\\n' + content }}\n",
      "            {%- endif %}\n",
      "        {%- else %}\n",
      "            {{- '<|im_start|>' + message.role + '\\n' + content }}\n",
      "        {%- endif %}\n",
      "        {%- if message.tool_calls %}\n",
      "            {%- for tool_call in message.tool_calls %}\n",
      "                {%- if (loop.first and content) or (not loop.first) %}\n",
      "                    {{- '\\n' }}\n",
      "                {%- endif %}\n",
      "                {%- if tool_call.function %}\n",
      "                    {%- set tool_call = tool_call.function %}\n",
      "                {%- endif %}\n",
      "                {{- '<tool_call>\\n{\"name\": \"' }}\n",
      "                {{- tool_call.name }}\n",
      "                {{- '\", \"arguments\": ' }}\n",
      "                {%- if tool_call.arguments is string %}\n",
      "                    {{- tool_call.arguments }}\n",
      "                {%- else %}\n",
      "                    {{- tool_call.arguments | tojson }}\n",
      "                {%- endif %}\n",
      "                {{- '}\\n</tool_call>' }}\n",
      "            {%- endfor %}\n",
      "        {%- endif %}\n",
      "        {{- '<|im_end|>\\n' }}\n",
      "    {%- elif message.role == \"tool\" %}\n",
      "        {%- if loop.first or (messages[loop.index0 - 1].role != \"tool\") %}\n",
      "            {{- '<|im_start|>user' }}\n",
      "        {%- endif %}\n",
      "        {{- '\\n<tool_response>\\n' }}\n",
      "        {{- content }}\n",
      "        {{- '\\n</tool_response>' }}\n",
      "        {%- if loop.last or (messages[loop.index0 + 1].role != \"tool\") %}\n",
      "            {{- '<|im_end|>\\n' }}\n",
      "        {%- endif %}\n",
      "    {%- endif %}\n",
      "{%- endfor %}\n",
      "{%- if add_generation_prompt %}\n",
      "    {{- '<|im_start|>assistant\\n' }}\n",
      "{%- endif %}\n"
     ]
    }
   ],
   "source": [
    "print(tokenizer.chat_template)"
   ]
  },
  {
   "cell_type": "code",
   "execution_count": 5,
   "id": "ce113f31-e0d4-46ee-96b7-35c08e780088",
   "metadata": {},
   "outputs": [
    {
     "data": {
      "text/plain": [
       "'<|im_start|>user\\nWrite a satirical headline in the style of Onion News. Only write the headline.<im_end>\\n<|im_start|>assistant\\nU.S. To Reopen Embassy In Jerusalem<im_end>\\n'"
      ]
     },
     "execution_count": 5,
     "metadata": {},
     "output_type": "execute_result"
    }
   ],
   "source": [
    "new_template = '''{% for message in messages %}{{'<|im_start|>' + message['role'] + '\\\\n' + message['content'] + '<im_end>' + '\\\\n'}}{% endfor %}{% if add_generation_prompt %}{{ '<|im_start|>assistant\\\\n' }}{% endif %}'''\n",
    "\n",
    "if tokenizer.chat_template != new_template:\n",
    "    original_template = tokenizer.chat_template\n",
    "    tokenizer.chat_template = new_template\n",
    "\n",
    "tokenizer.apply_chat_template(\n",
    "    prompt,\n",
    "    tokenize=False,\n",
    ")"
   ]
  },
  {
   "cell_type": "code",
   "execution_count": 5,
   "id": "e9754f70-28b3-47a8-84df-e16e8f6a548c",
   "metadata": {},
   "outputs": [
    {
     "data": {
      "text/plain": [
       "[{'generated_text': [{'role': 'user',\n",
       "    'content': 'Write a satirical headline in the style of Onion News about the housing market.'},\n",
       "   {'role': 'assistant',\n",
       "    'content': 'The Housing Market: A History And Future Forecast<im_end>\\nassistant\\nThe Housing Market: A History And Future Forecast<im_end>\\nassistant\\nThe Housing Market: A History And Future Forecast<im_end>\\nassistant\\nThe Housing'}]},\n",
       " {'generated_text': [{'role': 'user',\n",
       "    'content': 'Write a satirical headline in the style of Onion News about the housing market.'},\n",
       "   {'role': 'assistant',\n",
       "    'content': 'The Housing Market: What To Expect In 2022 And Beyond<im_end>\\nassistant\\nThe Housing Market: What To Expect In 2022 And Beyond<im_end>\\nassistant\\nThe Housing Market: What To'}]},\n",
       " {'generated_text': [{'role': 'user',\n",
       "    'content': 'Write a satirical headline in the style of Onion News about the housing market.'},\n",
       "   {'role': 'assistant',\n",
       "    'content': 'How The Housing Market Works<im_end>\\nassistant\\nHow The Housing Market Works<im_end>\\nassistant\\nHow The Housing Market Works<im_end>\\nassistant\\nHow The Housing Market Works<im_end>\\nassistant\\nHow The'}]},\n",
       " {'generated_text': [{'role': 'user',\n",
       "    'content': 'Write a satirical headline in the style of Onion News about the housing market.'},\n",
       "   {'role': 'assistant',\n",
       "    'content': 'How The Housing Market Works And What You Need To Know To Buy A Home In 2013 And Beyond<im_end>\\nassistant\\nHow The Housing Market Works And What You Need To Know To Buy A Home In 201'}]},\n",
       " {'generated_text': [{'role': 'user',\n",
       "    'content': 'Write a satirical headline in the style of Onion News about the housing market.'},\n",
       "   {'role': 'assistant',\n",
       "    'content': 'The Housing Market Is Down 30% Since 2008, Right?<im_end>\\nassistant\\nThe Housing Market Is Down 30% Since 2008, Right?<im_end>\\nassistant\\nThe Housing'}]}]"
      ]
     },
     "execution_count": 5,
     "metadata": {},
     "output_type": "execute_result"
    }
   ],
   "source": [
    "guided_prompt = [{\n",
    "    \"role\": \"user\", \n",
    "    \"content\": \"Write a satirical headline in the style of Onion News about the housing market.\"\n",
    "}]\n",
    "\n",
    "output = pipe(guided_prompt, num_return_sequences=5, **generation_args)\n",
    "output"
   ]
  },
  {
   "cell_type": "code",
   "execution_count": null,
   "id": "0783a2c0-2ce8-41f6-b680-7ac88e57f6a5",
   "metadata": {},
   "outputs": [],
   "source": []
  }
 ],
 "metadata": {
  "kernelspec": {
   "display_name": "Python 3 (ipykernel)",
   "language": "python",
   "name": "python3"
  },
  "language_info": {
   "codemirror_mode": {
    "name": "ipython",
    "version": 3
   },
   "file_extension": ".py",
   "mimetype": "text/x-python",
   "name": "python",
   "nbconvert_exporter": "python",
   "pygments_lexer": "ipython3",
   "version": "3.13.5"
  }
 },
 "nbformat": 4,
 "nbformat_minor": 5
}
