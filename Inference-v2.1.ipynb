{
 "cells": [
  {
   "cell_type": "code",
   "execution_count": 1,
   "id": "e92dbe9c-4ca5-461c-890e-8b6d06db7225",
   "metadata": {},
   "outputs": [],
   "source": [
    "import torch\n",
    "\n",
    "from transformers import AutoModelForCausalLM, AutoTokenizer, BitsAndBytesConfig, pipeline\n",
    "from peft import PeftModel\n",
    "\n",
    "base_model_path = \"Qwen/Qwen3-4B-Instruct-2507\"\n",
    "\n",
    "generation_args = {\n",
    "    \"max_new_tokens\": 50,\n",
    "    \"return_full_text\": False,\n",
    "    \"do_sample\": True,\n",
    "    \"temperature\": 0.7,\n",
    "    \"top_p\": 0.8,\n",
    "    \"top_k\": 20,\n",
    "    \"min_p\": 0,\n",
    "}\n",
    "\n",
    "default_prompts = {\n",
    "    \"unguided\": [{\"role\": \"user\", \"content\": \"Write a satirical headline in the style of Onion News.\"}],\n",
    "    \"trump\":  [{\"role\": \"user\", \"content\": \"Write a satirical headline in the style of Onion News about Donald Trump.\"}]\n",
    "}\n",
    "\n",
    "def sample(lora_path=None, prompts=default_prompts, sequences=5):\n",
    "    torch.random.manual_seed(0)\n",
    "    # load tokenizer and model\n",
    "    tokenizer = AutoTokenizer.from_pretrained(base_model_path)\n",
    "    model = AutoModelForCausalLM.from_pretrained(\n",
    "        base_model_path,\n",
    "        quantization_config=BitsAndBytesConfig(load_in_8bit=True),\n",
    "        device_map=\"auto\",\n",
    "        torch_dtype=\"auto\",\n",
    "    )\n",
    "    if lora_path is not None:\n",
    "        model = PeftModel.from_pretrained(model, lora_path)\n",
    "    pipe = pipeline(\n",
    "        \"text-generation\",\n",
    "        model=model,\n",
    "        tokenizer=tokenizer,\n",
    "    )\n",
    "    # sample from the model\n",
    "    output = {}\n",
    "    for name, prompt in prompts.items():\n",
    "        prompt_responses = pipe(prompt, num_return_sequences=sequences, **generation_args)\n",
    "        prompt_responses = [response[\"generated_text\"] for response in prompt_responses]\n",
    "        output[name] = prompt_responses\n",
    "    return output"
   ]
  },
  {
   "cell_type": "code",
   "execution_count": 4,
   "id": "e06cbc14-df30-4319-8e42-aaf709bee893",
   "metadata": {},
   "outputs": [
    {
     "data": {
      "application/vnd.jupyter.widget-view+json": {
       "model_id": "155642700ec04f948cdc8cb104830fa7",
       "version_major": 2,
       "version_minor": 0
      },
      "text/plain": [
       "Loading checkpoint shards:   0%|          | 0/3 [00:00<?, ?it/s]"
      ]
     },
     "metadata": {},
     "output_type": "display_data"
    },
    {
     "name": "stderr",
     "output_type": "stream",
     "text": [
      "Device set to use cuda:0\n",
      "/home/joshuachin/miniconda3/envs/code-review/lib/python3.13/site-packages/bitsandbytes/autograd/_functions.py:186: UserWarning: MatMul8bitLt: inputs will be cast from torch.bfloat16 to float16 during quantization\n",
      "  warnings.warn(f\"MatMul8bitLt: inputs will be cast from {A.dtype} to float16 during quantization\")\n"
     ]
    },
    {
     "data": {
      "text/plain": [
       "{'unguided': ['**\"Local Government Announces Plan to Ban All Pet Ownership After Finding Out Cats Are Actually Voting in Municipal Elections\"**  \\n\\n*Residents Are Now Being Asked to Sign a Pet Surrender Form—Just in Case the Felines Have Already Chosen a',\n",
       "  '**\"Local Government Announces Plan to Replace All Traffic Lights with Glowing Fireflies to Reduce Carbon Footprint—Residents Say They’re ‘More Confused Than Ever’\"**',\n",
       "  '**\"Local Government Announces Plan to Replace All Traffic Lights with \\'Mood-Based\\' LED Bulbs After Studies Show Drivers Are More Calm When Lights Emit a Subtle Pink Hue\"**',\n",
       "  '**\"Local Council Approves \\'Squirrel-Proofing\\' Initiative After 12,000 Complaints About Park Mice Taking Over Public Gardens\"**  \\n\\n*Residents Say They\\'ve Seen Squirrels \"Sneakily\"',\n",
       "  '**\"Local Government Announces Plan to Ban All Outdoor Activities After Discovering 73% of Parks Are Infested with \\'Mildly Irritating\\' Squirrel Populations\"**  \\n\\n*Residents Now Required to Wear \\'Squirrel-Res'],\n",
       " 'trump': ['**Trump Announces \"Free Wi-Fi for All\" Plan—But Only If You Buy His New Reality TV Show**  \\n\\n*In a surprise move, former President Donald Trump revealed his latest campaign promise: free high-speed internet for every American—on',\n",
       "  '**\"Trump Announces He’s Selling His Entire Estate to Fund a New \\'America First\\' Pizza Chain – And It’s Only $100,000 Per Slice\"**  \\n\\n*By Greg F. Fluff, Senior Correspondent',\n",
       "  '**\"Trump Announces \\'Free WiFi for All\\' Plan After Secretly Selling 500,000 Hotspots to China—And It\\'s Already Working in the Basement of the White House\"**  \\n\\n*By Sarah B. P',\n",
       "  '**\"Trump Announces He’s ‘Selling’ His Presidential Limousine to Fund a New Museum of American Glitter and Fake News\"**  \\n\\n*In a surprise move that has left both critics and conspiracy theorists stunned, former President Donald Trump',\n",
       "  '**Trump Announces He’s “Rebranding” His Twitter Account to “TruthTikTok” After Learning 90% of Users Already Have a Better Version of the App**  \\n\\n*In a surprise move, former President Donald Trump revealed']}"
      ]
     },
     "execution_count": 4,
     "metadata": {},
     "output_type": "execute_result"
    }
   ],
   "source": [
    "sample(lora_path=None)"
   ]
  },
  {
   "cell_type": "code",
   "execution_count": 5,
   "id": "f6053d35-7101-4433-99c2-62e91176082f",
   "metadata": {},
   "outputs": [
    {
     "data": {
      "application/vnd.jupyter.widget-view+json": {
       "model_id": "0e746c9362944458a97d515df0fdf8dc",
       "version_major": 2,
       "version_minor": 0
      },
      "text/plain": [
       "Loading checkpoint shards:   0%|          | 0/3 [00:00<?, ?it/s]"
      ]
     },
     "metadata": {},
     "output_type": "display_data"
    },
    {
     "name": "stderr",
     "output_type": "stream",
     "text": [
      "Device set to use cuda:0\n",
      "/home/joshuachin/miniconda3/envs/code-review/lib/python3.13/site-packages/bitsandbytes/autograd/_functions.py:186: UserWarning: MatMul8bitLt: inputs will be cast from torch.bfloat16 to float16 during quantization\n",
      "  warnings.warn(f\"MatMul8bitLt: inputs will be cast from {A.dtype} to float16 during quantization\")\n"
     ]
    },
    {
     "data": {
      "text/plain": [
       "{'unguided': ['Biden Asks If Anyone In Room Wants To Be First To Go On Stage',\n",
       "  'New York Times To Publish First-Ever Gay Editorial',\n",
       "  'New ‘Star Wars’ Film To Be Set In 2000s',\n",
       "  'Man In 1960s’ ‘The Tonight Show’ Costume Really Going For It',\n",
       "  'Report: 98% Of U.S. Population Would Never Give Up On 2016 Election'],\n",
       " 'trump': ['Donald Trump',\n",
       "  'Donald Trump',\n",
       "  'Donald Trump',\n",
       "  'Donald Trump',\n",
       "  'Donald Trump’s 2016 Campaign']}"
      ]
     },
     "execution_count": 5,
     "metadata": {},
     "output_type": "execute_result"
    }
   ],
   "source": [
    "sample(lora_path='./qwen3_lora_finetuned_v2.2/checkpoint-3500/')"
   ]
  },
  {
   "cell_type": "code",
   "execution_count": 6,
   "id": "e0c4ad77-b95b-4906-9e3d-f4d0281d85e3",
   "metadata": {},
   "outputs": [
    {
     "data": {
      "application/vnd.jupyter.widget-view+json": {
       "model_id": "ba214b218e64426eb3505dafac8377fb",
       "version_major": 2,
       "version_minor": 0
      },
      "text/plain": [
       "Loading checkpoint shards:   0%|          | 0/3 [00:00<?, ?it/s]"
      ]
     },
     "metadata": {},
     "output_type": "display_data"
    },
    {
     "name": "stderr",
     "output_type": "stream",
     "text": [
      "Device set to use cuda:0\n",
      "/home/joshuachin/miniconda3/envs/code-review/lib/python3.13/site-packages/bitsandbytes/autograd/_functions.py:186: UserWarning: MatMul8bitLt: inputs will be cast from torch.bfloat16 to float16 during quantization\n",
      "  warnings.warn(f\"MatMul8bitLt: inputs will be cast from {A.dtype} to float16 during quantization\")\n"
     ]
    },
    {
     "data": {
      "text/plain": [
       "{'unguided': ['Biden Urges Americans To Support ‘The Onion’ During Election',\n",
       "  'New York Times To Publish First-Ever Gay Editorial',\n",
       "  'New ‘Star Wars’ Film To Be Set In 2000s',\n",
       "  'Man In 2012 Will Be Very Surprised By How Much He’s Gotten Out Of This',\n",
       "  'Report: 98% Of U.S. Population Would Prefer To Die In War Than Live In Peace'],\n",
       " 'trump': ['Donald Trump',\n",
       "  'Donald Trump',\n",
       "  'Donald Trump',\n",
       "  'Donald Trump',\n",
       "  'Donald Trump To Step Down As CEO']}"
      ]
     },
     "execution_count": 6,
     "metadata": {},
     "output_type": "execute_result"
    }
   ],
   "source": [
    "sample(lora_path='./qwen3_lora_finetuned_v2.2/checkpoint-4235/')"
   ]
  },
  {
   "cell_type": "code",
   "execution_count": 2,
   "id": "19ded1c1-b997-4328-a005-d5c9440d67cb",
   "metadata": {},
   "outputs": [
    {
     "data": {
      "application/vnd.jupyter.widget-view+json": {
       "model_id": "7826b3b7932c48d8a5fdb0caea148437",
       "version_major": 2,
       "version_minor": 0
      },
      "text/plain": [
       "Loading checkpoint shards:   0%|          | 0/3 [00:00<?, ?it/s]"
      ]
     },
     "metadata": {},
     "output_type": "display_data"
    },
    {
     "name": "stderr",
     "output_type": "stream",
     "text": [
      "Device set to use cuda:0\n",
      "/home/joshuachin/miniconda3/envs/code-review/lib/python3.13/site-packages/bitsandbytes/autograd/_functions.py:186: UserWarning: MatMul8bitLt: inputs will be cast from torch.bfloat16 to float16 during quantization\n",
      "  warnings.warn(f\"MatMul8bitLt: inputs will be cast from {A.dtype} to float16 during quantization\")\n"
     ]
    },
    {
     "data": {
      "text/plain": [
       "{'unguided': ['<think>\\n\\n</think>\\n\\nU.S. To Reopen Embassy In Jerusalem',\n",
       "  '<think>\\n\\n</think>\\n\\nCatholic Church Reopens To The Public After 14 Years Of Lockdown',\n",
       "  '<think>\\n\\n</think>\\n\\nNew Study Finds Humans Evolved To Be Good At Hiding Their Emotions',\n",
       "  '</tool_call>\\n\\n</tool_call>\\n\\nNation’s Parents Announce They’re Going To Be Like This For Rest Of Their Lives',\n",
       "  '<tool_call>\\n\\nArea Man Just Going To Assume He’s Going To Be Rich Someday'],\n",
       " 'trump': ['<think>\\n\\n</think>\\n\\n‘Trump 2’ To Feature Former President’s First Term',\n",
       "  '<think>\\n\\n</think>\\n\\nTrump Calls For More Than 100,000 U.S. Troops To Be Deployed In Afghanistan',\n",
       "  '<think>\\n\\n</think>\\n\\nTrump Vows To End U.S. Military Presence In Middle East',\n",
       "  '<tool_call>\\n\\nNew Report Finds Trump Not In Danger Of Getting Coronavirus',\n",
       "  '<think>\\n\\n</think>\\n\\nReport: Trump’s 2020 Presidential Campaign Already In Motion']}"
      ]
     },
     "execution_count": 2,
     "metadata": {},
     "output_type": "execute_result"
    }
   ],
   "source": [
    "sample(lora_path='./qwen3_lora_finetuned/checkpoint-4235/')"
   ]
  },
  {
   "cell_type": "code",
   "execution_count": 2,
   "id": "9e774797-6d07-4cec-b107-02f90f997fc3",
   "metadata": {},
   "outputs": [
    {
     "data": {
      "application/vnd.jupyter.widget-view+json": {
       "model_id": "39ed057ead874bbfb16f5eea3a8a2e85",
       "version_major": 2,
       "version_minor": 0
      },
      "text/plain": [
       "Loading checkpoint shards:   0%|          | 0/3 [00:00<?, ?it/s]"
      ]
     },
     "metadata": {},
     "output_type": "display_data"
    },
    {
     "name": "stderr",
     "output_type": "stream",
     "text": [
      "Device set to use cuda:0\n",
      "/home/joshuachin/miniconda3/envs/code-review/lib/python3.13/site-packages/bitsandbytes/autograd/_functions.py:186: UserWarning: MatMul8bitLt: inputs will be cast from torch.bfloat16 to float16 during quantization\n",
      "  warnings.warn(f\"MatMul8bitLt: inputs will be cast from {A.dtype} to float16 during quantization\")\n"
     ]
    },
    {
     "data": {
      "text/plain": [
       "{'unguided': ['Biden Asks If Anyone In Room Wants To Be Next In Line For Presidency',\n",
       "  'New York Times To Publish First Gay Marriage Report',\n",
       "  'New ‘Star Wars’ Film To Be Set In 2000s',\n",
       "  'Man In 3rd-Grade Class Has No Idea Why Teacher Is Talking About ‘The Onion’',\n",
       "  'Report: 98% Of Your Life Will Be Spent In A 2015 Toyota Camry'],\n",
       " 'trump': ['Trump Claims He Wasn’t Informed About Mueller Report Until After It Was Released',\n",
       "  'Trump Asks If He Can Get 2 More Days Of ‘Biden’s America’',\n",
       "  '‘I Want To See The World,’ Says Trump In First Major Speech Since Being Re-Elected President',\n",
       "  'Trump Admits To Not Knowing Who To Veto',\n",
       "  '‘The Onion’ Has A Problem With The New Trump Tower']}"
      ]
     },
     "execution_count": 2,
     "metadata": {},
     "output_type": "execute_result"
    }
   ],
   "source": [
    "sample(lora_path='./qwen3_lora_finetuned_v1.1/checkpoint-4235/')"
   ]
  },
  {
   "cell_type": "code",
   "execution_count": null,
   "id": "a47abce8-be26-4719-91c7-0faa2bf58c6f",
   "metadata": {},
   "outputs": [],
   "source": []
  },
  {
   "cell_type": "code",
   "execution_count": 7,
   "id": "9bf0ed35-5a65-4ada-9f64-bd819352a4c5",
   "metadata": {},
   "outputs": [
    {
     "data": {
      "application/vnd.jupyter.widget-view+json": {
       "model_id": "60fea47cc49a484c8eb676f547f57bae",
       "version_major": 2,
       "version_minor": 0
      },
      "text/plain": [
       "Loading checkpoint shards:   0%|          | 0/3 [00:00<?, ?it/s]"
      ]
     },
     "metadata": {},
     "output_type": "display_data"
    },
    {
     "name": "stderr",
     "output_type": "stream",
     "text": [
      "Device set to use cuda:0\n"
     ]
    }
   ],
   "source": [
    "torch.random.manual_seed(0)\n",
    "# load tokenizer and model\n",
    "tokenizer = AutoTokenizer.from_pretrained(base_model_path)\n",
    "model = AutoModelForCausalLM.from_pretrained(\n",
    "    base_model_path,\n",
    "    quantization_config=BitsAndBytesConfig(load_in_8bit=True),\n",
    "    device_map=\"auto\",\n",
    "    torch_dtype=\"auto\",\n",
    ")\n",
    "pipe = pipeline(\n",
    "    \"text-generation\",\n",
    "    model=model,\n",
    "    tokenizer=tokenizer,\n",
    ")"
   ]
  },
  {
   "cell_type": "code",
   "execution_count": 14,
   "id": "c4d4c0d0-75c0-4032-9147-b74e7ba9a8f8",
   "metadata": {},
   "outputs": [
    {
     "data": {
      "text/plain": [
       "[[{'generated_text': 'Satire of mindfulness and minimalism gone absurd'}],\n",
       " [{'generated_text': 'Violence as a solution to problems'}],\n",
       " [{'generated_text': 'Satire of political figures engaging in casual, personal interactions with staff.'}],\n",
       " [{'generated_text': 'Fake degrees for profit'}],\n",
       " [{'generated_text': \"The world's oldest American is 72 — a record that's been broken every year since 1950.\"}],\n",
       " [{'generated_text': 'Misunderstandings are celebrated as humor, masking deeper resentment.'}],\n",
       " [{'generated_text': 'CEOs falsely claiming ChatGPT will revolutionize their businesses.'}],\n",
       " [{'generated_text': 'FDA relaxing blood donation rules for gay men satire'}],\n",
       " [{'generated_text': 'Humans still have dormant genes for full body hair, like ancient apes.'}],\n",
       " [{'generated_text': 'The satire of time and food degradation.'}]]"
      ]
     },
     "execution_count": 14,
     "metadata": {},
     "output_type": "execute_result"
    }
   ],
   "source": [
    "headlines = ['Relaxed Marie Kondo Now Says She Perfectly Happy Living In Waist-High Sewage',\n",
    " 'U.S. Officials Call For Correct Amount Of Violence',\n",
    " 'Kamala Harris Asks Communications Assistant If She Can Take Them Out For Coffee And Pick Their Brain Sometime',\n",
    " '25 Arrested In Fake Nursing School Diploma Scheme',\n",
    " 'World’s Oldest American Dies At 72',\n",
    " 'Report: Everyone Laughing At What Is A Very Silly Misunderstanding, But Don’t Be Fooled—Even Now, The Seeds Of Resentment Are Taking Root',\n",
    " 'CEOs Explain How They Will Use ChatGPT',\n",
    " 'FDA Moves To Ease Blood Donation Rules For Gay And Bisexual Men',\n",
    " 'Study Shows Humans Still Have Genes To Grow Full Coat Of Body Hair',\n",
    " 'Look What Happens When You Leave A McDonald’s Hamburger Out On A Counter For A Year']\n",
    "\n",
    "pipe([[{\n",
    "    \"role\": \"user\",\n",
    "    \"content\": \n",
    "        ('Headline: \"{headline}\".'\\\n",
    "        ' What is the satirical premise or topic?'\\\n",
    "        ' Respond with a single phrase.').format(headline=headline)\n",
    "}] for headline in headlines],\n",
    "     **generation_args)"
   ]
  },
  {
   "cell_type": "code",
   "execution_count": null,
   "id": "da209ad8-5f54-4a3d-baae-ae548ce419f5",
   "metadata": {},
   "outputs": [],
   "source": []
  }
 ],
 "metadata": {
  "kernelspec": {
   "display_name": "Python 3 (ipykernel)",
   "language": "python",
   "name": "python3"
  },
  "language_info": {
   "codemirror_mode": {
    "name": "ipython",
    "version": 3
   },
   "file_extension": ".py",
   "mimetype": "text/x-python",
   "name": "python",
   "nbconvert_exporter": "python",
   "pygments_lexer": "ipython3",
   "version": "3.13.5"
  }
 },
 "nbformat": 4,
 "nbformat_minor": 5
}
